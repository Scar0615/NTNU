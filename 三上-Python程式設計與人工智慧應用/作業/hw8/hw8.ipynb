{
 "cells": [
  {
   "cell_type": "markdown",
   "metadata": {},
   "source": [
    "<hr>\n",
    "<h3 style=\"color:green\">設計一個 Python 程式，利用 cv2 工具模組，開啟兩個視窗，讀取一張圖片檔案，將此影像套用黃色濾鏡，顯示原始與過濾後的影像，按下鍵盤 Spacebar 關閉所有開啟的視窗。</h3>"
   ]
  },
  {
   "cell_type": "code",
   "execution_count": 1,
   "metadata": {},
   "outputs": [
    {
     "name": "stdout",
     "output_type": "stream",
     "text": [
      "(480, 640, 3)\n",
      "(480, 640, 3)\n"
     ]
    }
   ],
   "source": [
    "import cv2\n",
    "import numpy as np\n",
    "\n",
    "# 開啟視窗\n",
    "cv2.namedWindow('Flower')\n",
    "cv2.namedWindow('Red')\n",
    "\n",
    "# 讀取影像\n",
    "img1 = cv2.imread('flower.jpg')\n",
    "\n",
    "# 取得影像的尺寸，cv2 影像 shape 的意義與 Image 工具模組不同\n",
    "height, width, depth = img1.shape\n",
    "\n",
    "# 依照尺寸產生空白的 ndarray，預備存放處理後的影像\n",
    "img2 = np.zeros([height,width,depth], dtype=np.uint8)\n",
    "\n",
    "# 顯示尺寸確認\n",
    "print(img1.shape)\n",
    "print(img2.shape)\n",
    "\n",
    "# 處理影像，注意：cv2 的色頻排列次序與 Image 工具模組不同，B-G-R\n",
    "for row in range(height):\n",
    "    for col in range(width):\n",
    "        b = img1[row,col,0]\n",
    "        g = img1[row,col,1]\n",
    "        r = img1[row,col,2]\n",
    "        img2[row,col,0] = 0\n",
    "        img2[row,col,1] = 0\n",
    "        img2[row,col,2] = r \n",
    "\n",
    "# 顯示影像\n",
    "cv2.imshow('Flower', img1)\n",
    "cv2.imshow('Red'   , img2)\n",
    "\n",
    "# 等候鍵盤輸入 Spacebar 而結束\n",
    "while (True):\n",
    "    c = cv2.waitKey(500)\n",
    "    if (c == ord(' ')):\n",
    "        break\n",
    "\n",
    "# 關閉所有顯示視窗\n",
    "cv2.destroyAllWindows()"
   ]
  },
  {
   "cell_type": "markdown",
   "metadata": {},
   "source": [
    "<hr>\n",
    "<h3 style=\"color:green\">設計一個 Python 程式，利用 cv2 工具模組，開啟視窗，讀取 mp4 視訊影片與自行設計的物件影像，去背之物件合成在影像畫面右上角，播放合成後的結果，播放完畢後關閉視窗。</h3>\n",
    "<pre>\n",
    "提示\n",
    "注意所合成物件是否會超出原影像畫面，超出的部分會導致系統錯誤。\n",
    "</pre>"
   ]
  },
  {
   "cell_type": "code",
   "execution_count": 1,
   "metadata": {},
   "outputs": [],
   "source": [
    "import cv2\n",
    "import numpy as np\n",
    "\n",
    "# 開啟視窗\n",
    "cv2.namedWindow('Mask')\n",
    "cv2.namedWindow('invMask')\n",
    "\n",
    "# 利用 cv2.VideoCapture 開啟視訊影片\n",
    "cap = cv2.VideoCapture('yunlin.mov')\n",
    "\n",
    "# 開啟合成物件影像\n",
    "obj = cv2.imread('emoji.png')\n",
    "h0, w0, _ = obj.shape\n",
    "\n",
    "# 依據物件產生遮罩（Mask）影像\n",
    "obj_gray = cv2.cvtColor(obj, cv2.COLOR_BGR2GRAY)\n",
    "_ , mask = cv2.threshold(obj_gray, 240, 255, cv2.THRESH_BINARY_INV)\n",
    "mask_inv = cv2.bitwise_not(mask)\n",
    "\n",
    "# 檢查視訊檔案是否開啟成功\n",
    "if (cap.isOpened() == False):\n",
    "    print(\"開啟失敗！\")\n",
    "\n",
    "# 讀取視訊影片直到結束\n",
    "while (cap.isOpened()):\n",
    "    # 擷取每一個 Image Frame\n",
    "    ret, frame = cap.read()\n",
    "    # 如果畫面擷取成功，顯示所擷取的影像畫面\n",
    "    if (ret == True):\n",
    "        # 取得影像畫面的尺寸參數\n",
    "        height, width, depth = frame.shape\n",
    "        # 去背合成\n",
    "        # 1. 取出目標區域影像原始畫面\n",
    "        roi = frame[:h0,298:298+w0,:]\n",
    "        # 2. 取出目標區的原始背景\n",
    "        roi_bg = cv2.bitwise_and(roi, roi, mask = mask_inv)\n",
    "        # 3. 取出目標區的物件前景\n",
    "        obj_fg = cv2.bitwise_and(obj, obj, mask = mask)\n",
    "        # 4. 目標區的背景與前景疊加合成\n",
    "        dst = cv2.add(roi_bg, obj_fg)\n",
    "        # 5. 合成結果更新為原始畫面目標區的新影像\n",
    "        frame[:h0,298:298+w0,:] = dst\n",
    "        # 顯示合成後的影像畫面\n",
    "        cv2.imshow('Frame', frame)\n",
    "        # 按下鍵盤 Space 立即結束播放（鍵盤的等候時間需要適度縮短）\n",
    "        if (cv2.waitKey(25) == ord(' ')):\n",
    "            break\n",
    "    # 如果畫面擷取失敗，直接結束播放\n",
    "    else:\n",
    "        break\n",
    "\n",
    "# 釋放視訊擷取所佔用的記憶體\n",
    "cap.release()\n",
    " \n",
    "# 關閉所有顯示視窗\n",
    "cv2.destroyAllWindows()"
   ]
  }
 ],
 "metadata": {
  "interpreter": {
   "hash": "ca466e2d7c6351c89422b70e92b139fbf2f5c6d767ba9e3499e9ab8e4ca69628"
  },
  "kernelspec": {
   "display_name": "Python 3.8.8 64-bit ('base': conda)",
   "language": "python",
   "name": "python3"
  },
  "language_info": {
   "codemirror_mode": {
    "name": "ipython",
    "version": 3
   },
   "file_extension": ".py",
   "mimetype": "text/x-python",
   "name": "python",
   "nbconvert_exporter": "python",
   "pygments_lexer": "ipython3",
   "version": "3.8.8"
  },
  "orig_nbformat": 4
 },
 "nbformat": 4,
 "nbformat_minor": 2
}
