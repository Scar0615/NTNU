{
 "cells": [
  {
   "cell_type": "markdown",
   "source": [
    "<h3 align=\"center\">作業一</h3>"
   ],
   "metadata": {}
  },
  {
   "cell_type": "code",
   "execution_count": null,
   "source": [
    "import chardet\n",
    "\n",
    "def read(bookname):\n",
    "    with open(bookname, 'r', encoding = 'Big5', errors = 'ignore') as fp:\n",
    "        txt = fp.read()\n",
    "    fp.close()\n",
    "    lt = len(txt)\n",
    "    for i in range(lt):\n",
    "        print(txt[i],end='')\n",
    "        if i%50 == 49:\n",
    "            print()\n",
    "    return 0\n",
    "\n",
    "read('五鼠鬧東京.txt')"
   ],
   "outputs": [],
   "metadata": {}
  },
  {
   "cell_type": "markdown",
   "source": [
    "<h3 align=\"center\">作業二</h3>"
   ],
   "metadata": {}
  },
  {
   "cell_type": "code",
   "execution_count": null,
   "source": [
    "import json\n",
    "\n",
    "def openfile(filename):\n",
    "    with open(filename, 'r', encoding = 'utf-8') as fp:\n",
    "        data = json.load(fp)\n",
    "    fp.close()\n",
    "    return data\n",
    "\n",
    "def excel(a,b,c,line):\n",
    "    print('%s:%s, %s:%s, %s:%s'%(a,line[a],b,line[b],c,line[c]))\n",
    "\n",
    "form = openfile('youbike_immediate.json')\n",
    "\n",
    "for line in form:\n",
    "    excel('lng','lat','sna',line)"
   ],
   "outputs": [],
   "metadata": {}
  }
 ],
 "metadata": {
  "kernelspec": {
   "display_name": "Python 3.8.8 64-bit ('base': conda)",
   "language": "python",
   "name": "python388jvsc74a57bd0d71f2325e0889f329460375ecdb827ffd27d095f62a0bbfd8aa9fe5b48b96e02"
  },
  "language_info": {
   "codemirror_mode": {
    "name": "ipython",
    "version": 3
   },
   "file_extension": ".py",
   "mimetype": "text/x-python",
   "name": "python",
   "nbconvert_exporter": "python",
   "pygments_lexer": "ipython3",
   "version": "3.8.8"
  }
 },
 "nbformat": 4,
 "nbformat_minor": 5
}