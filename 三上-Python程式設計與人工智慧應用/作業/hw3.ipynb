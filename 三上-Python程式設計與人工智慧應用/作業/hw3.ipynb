{
 "cells": [
  {
   "cell_type": "markdown",
   "id": "1e5dfbad",
   "metadata": {},
   "source": [
    "<h3 align=\"center\">作業一</h3>"
   ]
  },
  {
   "cell_type": "code",
   "execution_count": null,
   "id": "0560b181",
   "metadata": {},
   "outputs": [],
   "source": [
    "y1=int(input('請輸入第一個西元年：'))\n",
    "y2=int(input('請輸入第二個西元年：'))\n",
    "day = (y2-y1+1)*365\n",
    "day = day + (y2//4-y1//4) - (y2//100-y1//100) + (y2//400-y1//400)\n",
    "if y1%4==0:\n",
    "    if y1%400==0:\n",
    "        day+=1\n",
    "    elif y1%100!=0:\n",
    "        day+=1\n",
    "print('共經歷',day,'天')"
   ]
  },
  {
   "cell_type": "markdown",
   "id": "602385b1",
   "metadata": {},
   "source": [
    "<h3 align=\"center\">作業二</h3>"
   ]
  },
  {
   "cell_type": "code",
   "execution_count": null,
   "id": "1b2c57c3",
   "metadata": {},
   "outputs": [],
   "source": [
    "a=list(map(int,input('請輸入10個數字：').split()))\n",
    "mx=0\n",
    "for i in range(10):\n",
    "    if a[i]>mx:\n",
    "        mx=a[i]\n",
    "print(mx)"
   ]
  },
  {
   "cell_type": "markdown",
   "id": "4a6b7529",
   "metadata": {},
   "source": [
    "<h3 align=\"center\">作業三</h3>"
   ]
  },
  {
   "cell_type": "code",
   "execution_count": null,
   "id": "085032c5",
   "metadata": {},
   "outputs": [],
   "source": [
    "s=input('請輸入一個中文句子：')\n",
    "sl=len(s)-2\n",
    "for i in range(sl):\n",
    "    print(s[i:i+3])"
   ]
  },
  {
   "cell_type": "markdown",
   "id": "9f3a8147",
   "metadata": {},
   "source": [
    "<h3 align=\"center\">Bonus作業一</h3>"
   ]
  },
  {
   "cell_type": "code",
   "execution_count": null,
   "id": "f310e857",
   "metadata": {},
   "outputs": [],
   "source": [
    "import math\n",
    "\n",
    "def p(n):\n",
    "    sn = int(math.sqrt(n))\n",
    "    for i in range(2,sn+1):\n",
    "        if n%i==0:\n",
    "            return 0\n",
    "    return 1\n",
    "\n",
    "n = int(input('輸入一個數字n：'))\n",
    "l=[]\n",
    "for i in range(2,n+1):\n",
    "    if(p(i)):\n",
    "        l.append(i)\n",
    "        \n",
    "print(l)"
   ]
  },
  {
   "cell_type": "markdown",
   "id": "59b49c0c",
   "metadata": {},
   "source": [
    "<h3 align=\"center\">Bonus作業二</h3>"
   ]
  },
  {
   "cell_type": "code",
   "execution_count": null,
   "id": "b6aebefb",
   "metadata": {},
   "outputs": [],
   "source": [
    "n = int(input('輸入一個數字n：'))\n",
    "for i in range(1,n+1):\n",
    "    for j in range(n-i):\n",
    "        print(' ',end='')\n",
    "    for j in range(2*i-1):\n",
    "        print('*',end='')\n",
    "    for j in range(n-i):\n",
    "        print(' ',end='')\n",
    "    print()\n",
    "for i in range(1,n):\n",
    "    for j in range(i):\n",
    "        print(' ',end='')\n",
    "    for j in range(2*(n-i)-1):\n",
    "        print('*',end='')\n",
    "    for j in range(i):\n",
    "        print(' ',end='')\n",
    "    print()"
   ]
  },
  {
   "cell_type": "markdown",
   "id": "101a2cb7",
   "metadata": {},
   "source": [
    "<h3 align=\"center\">Bonus作業三</h3>"
   ]
  },
  {
   "cell_type": "code",
   "execution_count": null,
   "id": "19e0f796",
   "metadata": {},
   "outputs": [],
   "source": [
    "y,m,d=map(int,input('輸入西元的 y 年 m 月 d 日：').split())\n",
    "\n",
    "# 先算從1900到y-1年共經過多少天\n",
    "day = (y-1900)*365\n",
    "y-=1\n",
    "day = day + (y//4-475) - (y//100-19) + (y//400-4)\n",
    "y+=1\n",
    "\n",
    "# 再算當年經過多少天\n",
    "md = [0,31,59,90,120,151,181,212,243,273,304,334]\n",
    "tmd = md[m-1] + d\n",
    "if tmd >= 60:\n",
    "    if y%4==0:\n",
    "        if y%400==0:\n",
    "            day+=1\n",
    "        elif y%100!=0:\n",
    "            day+=1\n",
    "day = (day + tmd + 6) % 7\n",
    "w='一二三四五六日'\n",
    "print('這一天是星期'+w[day])"
   ]
  },
  {
   "cell_type": "code",
   "execution_count": null,
   "id": "113c5b26",
   "metadata": {},
   "outputs": [],
   "source": []
  }
 ],
 "metadata": {
  "kernelspec": {
   "display_name": "Python 3.8.8 64-bit ('base': conda)",
   "language": "python",
   "name": "python388jvsc74a57bd0d71f2325e0889f329460375ecdb827ffd27d095f62a0bbfd8aa9fe5b48b96e02"
  },
  "language_info": {
   "codemirror_mode": {
    "name": "ipython",
    "version": 3
   },
   "file_extension": ".py",
   "mimetype": "text/x-python",
   "name": "python",
   "nbconvert_exporter": "python",
   "pygments_lexer": "ipython3",
   "version": "3.8.8"
  }
 },
 "nbformat": 4,
 "nbformat_minor": 5
}
