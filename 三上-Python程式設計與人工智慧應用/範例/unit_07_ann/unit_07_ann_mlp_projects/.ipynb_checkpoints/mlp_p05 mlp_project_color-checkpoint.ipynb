{
 "cells": [
  {
   "cell_type": "markdown",
   "metadata": {
    "colab_type": "text",
    "id": "AUY8h8T-hQFu"
   },
   "source": [
    "<h1 align=\"center\">Multi-Layer Perceptron (MLP) Network：6-Colors Recognition</h1>"
   ]
  },
  {
   "cell_type": "markdown",
   "metadata": {
    "colab_type": "text",
    "id": "GaIahVNhhQFv"
   },
   "source": [
    "<hr>\n",
    "<h3>Training sample</h3>\n",
    "<p>Color names with typical sRGB channel values</p>\n",
    "<pre>\n",
    "[R] Input: (1.0, 0.0, 0.0) Output(Label): (1,0,0,0,0,0)\n",
    "[G] Input: (0.0, 0.5, 0.0) Output(Label): (0,1,0,0,0,0)\n",
    "[B] Input: (0.0, 0.0, 1.0) Output(Label): (0,0,1,0,0,0)\n",
    "[Y] Input: (1.0, 1.0, 0.0) Output(Label): (0,0,0,1,0,0)\n",
    "[C] Input: (0.0, 1.0, 1.0) Output(Label): (0,0,0,0,1,0)\n",
    "[M] Input: (1.0, 0.0, 1.0) Output(Label): (0,0,0,0,0,1)\n",
    "</pre>"
   ]
  },
  {
   "cell_type": "markdown",
   "metadata": {
    "colab_type": "text",
    "id": "VctjNsKghQFv"
   },
   "source": [
    "<hr>\n",
    "<h3>Training samples in PyTorch</h3>\n",
    "<pre>\n",
    "x: sRGB values\n",
    "y: labels\n",
    "</pre>"
   ]
  },
  {
   "cell_type": "code",
   "execution_count": 1,
   "metadata": {
    "colab": {},
    "colab_type": "code",
    "id": "pcc2LeUlhQFv"
   },
   "outputs": [],
   "source": [
    "import torch\n",
    "\n",
    "# 樣本數 N\n",
    "N = 6\n",
    "\n",
    "# INPUT, dim of input = 3 (sRGB, channel values)\n",
    "x = torch.zeros(N, 3)\n",
    "# OUTPUT, dim of output = 6 (R,G,B,Y,C,M color name)\n",
    "y = torch.zeros(N, 6)\n",
    "\n",
    "# sRGB channel values\n",
    "x[0][0], x[0][1], x[0][2] = 1.0, 0.0, 0.0 # R\n",
    "x[1][0], x[1][1], x[1][2] = 0.0, 0.5, 0.0 # G\n",
    "x[2][0], x[2][1], x[2][2] = 0.0, 0.0, 1.0 # B\n",
    "x[3][0], x[3][1], x[3][2] = 1.0, 1.0, 0.0 # Y\n",
    "x[4][0], x[4][1], x[4][2] = 0.0, 1.0, 1.0 # C\n",
    "x[5][0], x[5][1], x[5][2] = 1.0, 0.0, 1.0 # M\n",
    "\n",
    "# labels of colors (R, G, B, Y, C, M)\n",
    "y[0][0], y[0][1], y[0][2], y[0][3], y[0][4], y[0][5] = 1.0, 0.0, 0.0, 0.0, 0.0, 0.0\n",
    "y[1][0], y[1][1], y[1][2], y[1][3], y[1][4], y[1][5] = 0.0, 1.0, 0.0, 0.0, 0.0, 0.0\n",
    "y[2][0], y[2][1], y[2][2], y[2][3], y[2][4], y[2][5] = 0.0, 0.0, 1.0, 0.0, 0.0, 0.0\n",
    "y[3][0], y[3][1], y[3][2], y[3][3], y[3][4], y[3][5] = 0.0, 0.0, 0.0, 1.0, 0.0, 0.0\n",
    "y[4][0], y[4][1], y[4][2], y[4][3], y[4][4], y[4][5] = 0.0, 0.0, 0.0, 0.0, 1.0, 0.0\n",
    "y[5][0], y[5][1], y[5][2], y[5][3], y[5][4], y[5][5] = 0.0, 0.0, 0.0, 0.0, 0.0, 1.0\n"
   ]
  },
  {
   "cell_type": "code",
   "execution_count": 2,
   "metadata": {
    "colab": {},
    "colab_type": "code",
    "id": "jA_yuj7ghQFv"
   },
   "outputs": [],
   "source": [
    "# matplotlib 第一張圖常常不能顯示，所以先產生一張，當作啟動，讓後續真正需要的圖表能正常顯示\n",
    "import matplotlib\n",
    "import matplotlib.pyplot as plt\n",
    "plt.show()"
   ]
  },
  {
   "cell_type": "markdown",
   "metadata": {
    "colab_type": "text",
    "id": "AyWrIONrhQF-"
   },
   "source": [
    "<hr>\n",
    "<h3>繪製樣本色塊</h3>"
   ]
  },
  {
   "cell_type": "code",
   "execution_count": 3,
   "metadata": {
    "colab": {
     "base_uri": "https://localhost:8080/",
     "height": 269
    },
    "colab_type": "code",
    "executionInfo": {
     "elapsed": 689,
     "status": "ok",
     "timestamp": 1577693294737,
     "user": {
      "displayName": "T-R Chou",
      "photoUrl": "https://lh3.googleusercontent.com/a-/AAuE7mB9Iq7zTWUPOHaDvZdzvp3v_bVgqiu0q-2q6a9GdQ=s64",
      "userId": "03619605320657570235"
     },
     "user_tz": -480
    },
    "id": "tdw9w3kFhQF-",
    "outputId": "e5757e6e-c7ec-4107-890c-1309837487fe"
   },
   "outputs": [
    {
     "data": {
      "image/png": "[encoded data removed]",
      "text/plain": [
       "<Figure size 432x288 with 1 Axes>"
      ]
     },
     "metadata": {
      "needs_background": "light"
     },
     "output_type": "display_data"
    }
   ],
   "source": [
    "import matplotlib.pyplot as plt\n",
    "\n",
    "fig = plt.figure()\n",
    "ax = fig.add_subplot(111)\n",
    "\n",
    "pos_x = 50\n",
    "pos_y = 50\n",
    "\n",
    "for i in range(6):\n",
    "    sr, sg, sb = x[i][0].item(), x[i][1].item(), x[i][2].item()\n",
    "    # 產生色塊\n",
    "    rect = matplotlib.patches.Rectangle((pos_x, pos_y), 100, 100, color=(sr, sg, sb))\n",
    "    ax.add_patch(rect)\n",
    "    pos_x = pos_x + 50\n",
    "    pos_y = pos_y + 50\n",
    "\n",
    "plt.xlim([0, 500])\n",
    "plt.ylim([0, 500])\n",
    "\n",
    "plt.show()\n"
   ]
  },
  {
   "cell_type": "markdown",
   "metadata": {
    "colab_type": "text",
    "id": "fwqLIrbRhQF-"
   },
   "source": [
    "<hr>\n",
    "<h3><strong style=\"color:red\">MLP</strong> Neural Network Definition in PyTorch (<strong style=\"color:orange\">Deep Learning</strong>)</h3>"
   ]
  },
  {
   "cell_type": "code",
   "execution_count": 4,
   "metadata": {
    "colab": {
     "base_uri": "https://localhost:8080/",
     "height": 84
    },
    "colab_type": "code",
    "executionInfo": {
     "elapsed": 637,
     "status": "ok",
     "timestamp": 1577693298249,
     "user": {
      "displayName": "T-R Chou",
      "photoUrl": "https://lh3.googleusercontent.com/a-/AAuE7mB9Iq7zTWUPOHaDvZdzvp3v_bVgqiu0q-2q6a9GdQ=s64",
      "userId": "03619605320657570235"
     },
     "user_tz": -480
    },
    "id": "ZC3WFzuShQF-",
    "outputId": "a4827bd7-82ed-4eb0-e645-6580116a4f07"
   },
   "outputs": [
    {
     "name": "stdout",
     "output_type": "stream",
     "text": [
      "MLPNet(\n",
      "  (fc1): Linear(in_features=3, out_features=32, bias=True)\n",
      "  (fc2): Linear(in_features=32, out_features=6, bias=True)\n",
      ")\n"
     ]
    }
   ],
   "source": [
    "import torch.nn as nn\n",
    "\n",
    "class MLPNet(nn.Module):\n",
    "    def __init__(self):\n",
    "        super(MLPNet, self).__init__()\n",
    "        # 3 inputs -> 32 hiddens --> 6 outputs\n",
    "        self.fc1 = nn.Linear(3, 32)\n",
    "        self.fc2 = nn.Linear(32, 6)\n",
    "    def forward(self, x):\n",
    "        x = self.fc1(x).sigmoid()\n",
    "        x = self.fc2(x).sigmoid()\n",
    "        return x\n",
    "\n",
    "mlp = MLPNet()\n",
    "\n",
    "print(mlp)"
   ]
  },
  {
   "cell_type": "markdown",
   "metadata": {
    "colab_type": "text",
    "id": "mzs1Tn3-hQGO"
   },
   "source": [
    "<hr>\n",
    "<h3>All parameters to be determined (3x32+32x6 for weights and 32+6 for biases)</h3>"
   ]
  },
  {
   "cell_type": "code",
   "execution_count": 5,
   "metadata": {
    "colab": {},
    "colab_type": "code",
    "id": "nHV4QqrNhQGO"
   },
   "outputs": [],
   "source": [
    "# params = list(mlp.parameters())\n",
    "# print(params)"
   ]
  },
  {
   "cell_type": "markdown",
   "metadata": {
    "colab_type": "text",
    "id": "DbcRx1cQhQGO"
   },
   "source": [
    "<hr>\n",
    "<h3><strong style=\"color:red\">MLP</strong> Training Phase</h3>\n",
    "<p><strong style=\"color:orange\">Learning Rate</strong>（0.001）</p>"
   ]
  },
  {
   "cell_type": "code",
   "execution_count": 6,
   "metadata": {
    "colab": {
     "base_uri": "https://localhost:8080/",
     "height": 1000
    },
    "colab_type": "code",
    "executionInfo": {
     "elapsed": 10663,
     "status": "ok",
     "timestamp": 1577693312756,
     "user": {
      "displayName": "T-R Chou",
      "photoUrl": "https://lh3.googleusercontent.com/a-/AAuE7mB9Iq7zTWUPOHaDvZdzvp3v_bVgqiu0q-2q6a9GdQ=s64",
      "userId": "03619605320657570235"
     },
     "user_tz": -480
    },
    "id": "s6Ahtt04hQGO",
    "outputId": "958cccc3-1827-4c25-97a1-5919bc4b0b01",
    "scrolled": true
   },
   "outputs": [
    {
     "name": "stdout",
     "output_type": "stream",
     "text": [
      "epoch =      0, loss =   0.23229559\n",
      "epoch =    100, loss =   0.14006238\n",
      "epoch =    200, loss =   0.13427226\n",
      "epoch =    300, loss =   0.12973563\n",
      "epoch =    400, loss =   0.12280076\n",
      "epoch =    500, loss =   0.11227214\n",
      "epoch =    600, loss =   0.09822592\n",
      "epoch =    700, loss =   0.08245269\n",
      "epoch =    800, loss =   0.06705353\n",
      "epoch =    900, loss =   0.05331562\n",
      "epoch =   1000, loss =   0.04178884\n",
      "epoch =   1100, loss =   0.03254022\n",
      "epoch =   1200, loss =   0.02535013\n",
      "epoch =   1300, loss =   0.01987093\n",
      "epoch =   1400, loss =   0.01573526\n",
      "epoch =   1500, loss =   0.01261601\n",
      "epoch =   1600, loss =   0.01024948\n",
      "epoch =   1700, loss =   0.00843571\n",
      "epoch =   1800, loss =   0.00702826\n",
      "epoch =   1900, loss =   0.00592158\n",
      "epoch =   2000, loss =   0.00503988\n",
      "epoch =   2100, loss =   0.00432854\n",
      "epoch =   2200, loss =   0.00374787\n",
      "epoch =   2300, loss =   0.00326869\n",
      "epoch =   2400, loss =   0.00286932\n",
      "epoch =   2500, loss =   0.00253342\n",
      "epoch =   2600, loss =   0.00224857\n",
      "epoch =   2700, loss =   0.00200516\n",
      "epoch =   2800, loss =   0.00179574\n",
      "epoch =   2900, loss =   0.00161441\n",
      "epoch =   3000, loss =   0.00145651\n",
      "epoch =   3100, loss =   0.00131826\n",
      "epoch =   3200, loss =   0.00119665\n",
      "epoch =   3300, loss =   0.00108917\n",
      "epoch =   3400, loss =   0.00099380\n",
      "epoch =   3500, loss =   0.00090885\n",
      "epoch =   3600, loss =   0.00083290\n",
      "epoch =   3700, loss =   0.00076479\n",
      "epoch =   3800, loss =   0.00070352\n",
      "epoch =   3900, loss =   0.00064823\n",
      "epoch =   4000, loss =   0.00059823\n",
      "epoch =   4100, loss =   0.00055288\n",
      "epoch =   4200, loss =   0.00051166\n",
      "epoch =   4300, loss =   0.00047411\n",
      "epoch =   4400, loss =   0.00043983\n",
      "epoch =   4500, loss =   0.00040849\n",
      "epoch =   4600, loss =   0.00037977\n",
      "epoch =   4700, loss =   0.00035342\n",
      "epoch =   4800, loss =   0.00032920\n",
      "epoch =   4900, loss =   0.00030690\n",
      "epoch =   5000, loss =   0.00028635\n",
      "epoch =   5100, loss =   0.00026738\n",
      "epoch =   5200, loss =   0.00024984\n",
      "epoch =   5300, loss =   0.00023362\n",
      "epoch =   5400, loss =   0.00021859\n",
      "epoch =   5500, loss =   0.00020465\n",
      "epoch =   5600, loss =   0.00019171\n",
      "epoch =   5700, loss =   0.00017969\n",
      "epoch =   5800, loss =   0.00016851\n",
      "epoch =   5900, loss =   0.00015810\n",
      "epoch =   6000, loss =   0.00014841\n",
      "epoch =   6100, loss =   0.00013937\n",
      "epoch =   6200, loss =   0.00013094\n",
      "epoch =   6300, loss =   0.00012306\n",
      "epoch =   6400, loss =   0.00011571\n",
      "epoch =   6500, loss =   0.00010883\n",
      "epoch =   6600, loss =   0.00010240\n",
      "epoch =   6700, loss =   0.00009638\n",
      "epoch =   6800, loss =   0.00009075\n",
      "epoch =   6900, loss =   0.00008547\n",
      "epoch =   7000, loss =   0.00008052\n",
      "epoch =   7100, loss =   0.00007587\n",
      "epoch =   7200, loss =   0.00007152\n",
      "epoch =   7300, loss =   0.00006743\n",
      "epoch =   7400, loss =   0.00006359\n",
      "epoch =   7500, loss =   0.00005998\n",
      "epoch =   7600, loss =   0.00005659\n",
      "epoch =   7700, loss =   0.00005340\n",
      "epoch =   7800, loss =   0.00005041\n",
      "epoch =   7900, loss =   0.00004759\n",
      "epoch =   8000, loss =   0.00004493\n",
      "epoch =   8100, loss =   0.00004244\n",
      "epoch =   8200, loss =   0.00004008\n",
      "epoch =   8300, loss =   0.00003787\n",
      "epoch =   8400, loss =   0.00003578\n",
      "epoch =   8500, loss =   0.00003381\n",
      "epoch =   8600, loss =   0.00003196\n",
      "epoch =   8700, loss =   0.00003021\n",
      "epoch =   8800, loss =   0.00002856\n",
      "epoch =   8900, loss =   0.00002701\n",
      "epoch =   9000, loss =   0.00002554\n",
      "epoch =   9100, loss =   0.00002415\n",
      "epoch =   9200, loss =   0.00002285\n",
      "epoch =   9300, loss =   0.00002161\n",
      "epoch =   9400, loss =   0.00002045\n",
      "epoch =   9500, loss =   0.00001935\n",
      "epoch =   9600, loss =   0.00001831\n",
      "epoch =   9700, loss =   0.00001733\n",
      "epoch =   9800, loss =   0.00001640\n",
      "epoch =   9900, loss =   0.00001552\n"
     ]
    }
   ],
   "source": [
    "import torch\n",
    "import torch.nn as nn\n",
    "import torch.optim as optim\n",
    "import numpy as np\n",
    "\n",
    "EPOCH = 10000\n",
    "\n",
    "# preparing training samples\n",
    "# (Ready)\n",
    "\n",
    "# shuffling definition\n",
    "def shuffling(x, y):\n",
    "    x_out = torch.randn(N, 3)\n",
    "    y_out = torch.randn(N, 6)\n",
    "    idx = [i for i in range(N)]\n",
    "    idx = np.random.permutation(idx)\n",
    "    for i in range(N):\n",
    "        x_out[i] = x[idx[i]]\n",
    "        y_out[i] = y[idx[i]]\n",
    "    return x_out, y_out\n",
    "\n",
    "# Loss function\n",
    "criterion = nn.MSELoss()\n",
    "# Optimizer\n",
    "# optimizer = optim.SGD(mlp.parameters(), lr=0.01)\n",
    "optimizer = optim.Adam(mlp.parameters(), lr=0.001)\n",
    "\n",
    "# training\n",
    "for epoch in range(EPOCH):\n",
    "    # zero the gradient buffers\n",
    "    optimizer.zero_grad()\n",
    "    # shuffling\n",
    "    x_new, y_new = shuffling(x, y)\n",
    "    # feed foreward\n",
    "    output = mlp(x_new)\n",
    "    # evaluating loss\n",
    "    loss = criterion(output, y_new)\n",
    "    # display loss\n",
    "    if (epoch % 100 == 0):\n",
    "        print('epoch = %6d, loss = %12.8f' % (epoch, loss))\n",
    "    # feed backward\n",
    "    loss.backward()\n",
    "    # update parameters\n",
    "    optimizer.step()\n"
   ]
  },
  {
   "cell_type": "markdown",
   "metadata": {
    "colab_type": "text",
    "id": "x1-cygSWhQGO"
   },
   "source": [
    "<hr>\n",
    "<h3>學好的記憶可以儲存</h3>"
   ]
  },
  {
   "cell_type": "code",
   "execution_count": 7,
   "metadata": {
    "colab": {},
    "colab_type": "code",
    "id": "4cBkss4hhQGO"
   },
   "outputs": [],
   "source": [
    "# Save torch model\n",
    "torch.save(mlp.state_dict(), 'mlp.model')"
   ]
  },
  {
   "cell_type": "markdown",
   "metadata": {
    "colab_type": "text",
    "id": "Auu5vprLhQGd"
   },
   "source": [
    "<hr>\n",
    "<h3>學好的記憶可以瞬間載入，不用再度重新學習</h3>"
   ]
  },
  {
   "cell_type": "code",
   "execution_count": 8,
   "metadata": {
    "colab": {
     "base_uri": "https://localhost:8080/",
     "height": 34
    },
    "colab_type": "code",
    "executionInfo": {
     "elapsed": 651,
     "status": "ok",
     "timestamp": 1577693320910,
     "user": {
      "displayName": "T-R Chou",
      "photoUrl": "https://lh3.googleusercontent.com/a-/AAuE7mB9Iq7zTWUPOHaDvZdzvp3v_bVgqiu0q-2q6a9GdQ=s64",
      "userId": "03619605320657570235"
     },
     "user_tz": -480
    },
    "id": "5ED1ZRdfhQGd",
    "outputId": "5fb80f46-24ef-4056-9ec2-9be29154b75a"
   },
   "outputs": [
    {
     "name": "stdout",
     "output_type": "stream",
     "text": [
      "Load previous mlp model completely!\n"
     ]
    }
   ],
   "source": [
    "# MLP 產生\n",
    "mlp = MLPNet()\n",
    "\n",
    "# Load torch model\n",
    "mlp.load_state_dict(torch.load('mlp.model', map_location='cpu'))\n",
    "mlp.eval()\n",
    "print('Load previous mlp model completely!')\n"
   ]
  },
  {
   "cell_type": "markdown",
   "metadata": {
    "colab_type": "text",
    "id": "lkJLoeKUhQGd"
   },
   "source": [
    "<hr>\n",
    "<h3><strong style=\"color:red\">MLP</strong> Testing Phase</h3>"
   ]
  },
  {
   "cell_type": "code",
   "execution_count": 9,
   "metadata": {
    "colab": {
     "base_uri": "https://localhost:8080/",
     "height": 370
    },
    "colab_type": "code",
    "executionInfo": {
     "elapsed": 834,
     "status": "ok",
     "timestamp": 1577693324000,
     "user": {
      "displayName": "T-R Chou",
      "photoUrl": "https://lh3.googleusercontent.com/a-/AAuE7mB9Iq7zTWUPOHaDvZdzvp3v_bVgqiu0q-2q6a9GdQ=s64",
      "userId": "03619605320657570235"
     },
     "user_tz": -480
    },
    "id": "pdbvdOt-hQGd",
    "outputId": "7a0e052a-ea97-4bec-8466-8615d677430d"
   },
   "outputs": [
    {
     "data": {
      "image/png": "[encoded data removed]",
      "text/plain": [
       "<Figure size 432x288 with 1 Axes>"
      ]
     },
     "metadata": {
      "needs_background": "light"
     },
     "output_type": "display_data"
    },
    {
     "name": "stdout",
     "output_type": "stream",
     "text": [
      "Output[0] =   0.00007075\n",
      "Output[1] =   0.95792580\n",
      "Output[2] =   0.00060756\n",
      "Output[3] =   0.01433880\n",
      "Output[4] =   0.05668730\n",
      "Output[5] =   0.00000016\n"
     ]
    }
   ],
   "source": [
    "import numpy as np\n",
    "import matplotlib.pyplot as plt\n",
    "\n",
    "# 測試樣本\n",
    "x3 = [0.0] # 測試點 X 座標\n",
    "y3 = [0.8] # 測試點 Y 座標\n",
    "z3 = [0.1] # 測試點 Z 座標\n",
    "\n",
    "# 繪製樣本色塊\n",
    "fig = plt.figure()\n",
    "ax = fig.add_subplot(111)\n",
    "sr, sg, sb = x3[0], y3[0], z3[0]\n",
    "# 產生色塊\n",
    "rect = matplotlib.patches.Rectangle((100, 100), 200, 100, color=(sr, sg, sb))\n",
    "ax.add_patch(rect)\n",
    "plt.xlim([0, 500])\n",
    "plt.ylim([0, 500])\n",
    "plt.show()\n",
    "\n",
    "# 準備測試樣本，轉變格式成為 Tensor\n",
    "xt = torch.Tensor([x3[0],y3[0],z3[0]])\n",
    "\n",
    "# 測試（feed foreward）\n",
    "output = mlp(xt)\n",
    "\n",
    "# 由輸出 Tensor 取出結果\n",
    "v = output.tolist()\n",
    "\n",
    "# 顯示結果\n",
    "for i in range(6):\n",
    "    print('Output[%d] = %12.8f' % (i, v[i]))\n"
   ]
  }
 ],
 "metadata": {
  "colab": {
   "collapsed_sections": [],
   "name": "05 mlp_project_color.ipynb",
   "provenance": []
  },
  "kernelspec": {
   "display_name": "Python 3 (ipykernel)",
   "language": "python",
   "name": "python3"
  },
  "language_info": {
   "codemirror_mode": {
    "name": "ipython",
    "version": 3
   },
   "file_extension": ".py",
   "mimetype": "text/x-python",
   "name": "python",
   "nbconvert_exporter": "python",
   "pygments_lexer": "ipython3",
   "version": "3.7.11"
  }
 },
 "nbformat": 4,
 "nbformat_minor": 1
}
