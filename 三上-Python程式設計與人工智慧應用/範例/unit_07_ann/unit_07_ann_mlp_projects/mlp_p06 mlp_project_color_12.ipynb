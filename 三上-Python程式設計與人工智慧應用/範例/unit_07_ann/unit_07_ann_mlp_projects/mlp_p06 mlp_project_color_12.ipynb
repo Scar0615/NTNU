{
 "cells": [
  {
   "cell_type": "markdown",
   "metadata": {
    "colab_type": "text",
    "id": "AUY8h8T-hQFu"
   },
   "source": [
    "<h1 align=\"center\">Multi-Layer Perceptron (MLP) Network：12-Colors Recognition</h1>"
   ]
  },
  {
   "cell_type": "markdown",
   "metadata": {
    "colab_type": "text",
    "id": "GaIahVNhhQFv"
   },
   "source": [
    "<hr>\n",
    "<h3>Training sample</h3>\n",
    "<p>12 Color names with typical sRGB channel values</p>\n",
    "<pre>\n",
    "(1.0,0.0,0.0): red\n",
    "(1.0,0.2,0.0): red-orange\n",
    "(1.0,0.4,0.0): orange\n",
    "(1.0,0.6,0.0): orange-yellow\n",
    "(1.0,1.0,0.0): yellow\n",
    "(0.6,1.0,0.0): yellow-green\n",
    "(0.0,1.0,0.0): green\n",
    "(0.0,1.0,1.0): green-blue\n",
    "(0.0,0.0,1.0): blue\n",
    "(0.4,0.0,1.0): blue-violet\n",
    "(1.0,0.0,1.0): violet\n",
    "(1.0,0.0,0.4): violet-red\n",
    "</pre>"
   ]
  },
  {
   "cell_type": "markdown",
   "metadata": {
    "colab_type": "text",
    "id": "VctjNsKghQFv"
   },
   "source": [
    "<hr>\n",
    "<h3>Training samples in PyTorch</h3>\n",
    "<pre>\n",
    "x: sRGB values\n",
    "y: labels\n",
    "</pre>"
   ]
  },
  {
   "cell_type": "markdown",
   "metadata": {
    "colab_type": "text",
    "id": "kEWnkiGcBinT"
   },
   "source": [
    "**Upload data to CoLab**"
   ]
  },
  {
   "cell_type": "code",
   "execution_count": 1,
   "metadata": {
    "colab": {
     "base_uri": "https://localhost:8080/",
     "height": 74,
     "resources": {
      "http://localhost:8080/nbextensions/google.colab/files.js": {
       "data": "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",
       "headers": [
        [
         "content-type",
         "application/javascript"
        ]
       ],
       "ok": true,
       "status": 200,
       "status_text": ""
      }
     }
    },
    "colab_type": "code",
    "executionInfo": {
     "elapsed": 7461,
     "status": "ok",
     "timestamp": 1577696682213,
     "user": {
      "displayName": "T-R Chou",
      "photoUrl": "https://lh3.googleusercontent.com/a-/AAuE7mB9Iq7zTWUPOHaDvZdzvp3v_bVgqiu0q-2q6a9GdQ=s64",
      "userId": "03619605320657570235"
     },
     "user_tz": -480
    },
    "id": "Jpc7cR9ABtb2",
    "outputId": "12611e2b-28fa-4e3b-a5e4-c2d29798f5d5"
   },
   "outputs": [],
   "source": [
    "# from google.colab import files\n",
    "# uploaded = files.upload()"
   ]
  },
  {
   "cell_type": "markdown",
   "metadata": {
    "colab_type": "text",
    "id": "r5wCHQRBBSqw"
   },
   "source": [
    "**Prepare Training Data from EXCEL**"
   ]
  },
  {
   "cell_type": "code",
   "execution_count": 2,
   "metadata": {
    "colab": {
     "base_uri": "https://localhost:8080/",
     "height": 218
    },
    "colab_type": "code",
    "executionInfo": {
     "elapsed": 979,
     "status": "ok",
     "timestamp": 1577698115444,
     "user": {
      "displayName": "T-R Chou",
      "photoUrl": "https://lh3.googleusercontent.com/a-/AAuE7mB9Iq7zTWUPOHaDvZdzvp3v_bVgqiu0q-2q6a9GdQ=s64",
      "userId": "03619605320657570235"
     },
     "user_tz": -480
    },
    "id": "MgH095uUBHsH",
    "outputId": "25dfb2ec-1258-4016-9bc6-6c8334f67261"
   },
   "outputs": [
    {
     "name": "stdout",
     "output_type": "stream",
     "text": [
      "1.0 0.0 0.0 [1, 0, 0, 0, 0, 0, 0, 0, 0, 0, 0, 0]\n",
      "1.0 0.0 0.0 [0, 1, 0, 0, 0, 0, 0, 0, 0, 0, 0, 0]\n",
      "1.0 0.0 0.0 [0, 0, 1, 0, 0, 0, 0, 0, 0, 0, 0, 0]\n",
      "1.0 0.0 0.0 [0, 0, 0, 1, 0, 0, 0, 0, 0, 0, 0, 0]\n",
      "1.0 0.0 0.0 [0, 0, 0, 0, 1, 0, 0, 0, 0, 0, 0, 0]\n",
      "0.6 0.0 0.0 [0, 0, 0, 0, 0, 1, 0, 0, 0, 0, 0, 0]\n",
      "0.0 0.0 0.0 [0, 0, 0, 0, 0, 0, 1, 0, 0, 0, 0, 0]\n",
      "0.0 1.0 1.0 [0, 0, 0, 0, 0, 0, 0, 1, 0, 0, 0, 0]\n",
      "0.0 1.0 1.0 [0, 0, 0, 0, 0, 0, 0, 0, 1, 0, 0, 0]\n",
      "0.4 1.0 1.0 [0, 0, 0, 0, 0, 0, 0, 0, 0, 1, 0, 0]\n",
      "1.0 1.0 1.0 [0, 0, 0, 0, 0, 0, 0, 0, 0, 0, 1, 0]\n",
      "1.0 0.4 0.4 [0, 0, 0, 0, 0, 0, 0, 0, 0, 0, 0, 1]\n"
     ]
    }
   ],
   "source": [
    "import torch\n",
    "import pandas as pd\n",
    "\n",
    "# 樣本數 N\n",
    "N = 12\n",
    "\n",
    "x = torch.zeros(N, 3)\n",
    "y = torch.zeros(N, 12)\n",
    "\n",
    "f = pd.read_excel('color12.xlsx')\n",
    "\n",
    "n = len(f)\n",
    "for i in range(n):\n",
    "    label = [0,0,0,0,0,0,0,0,0,0,0,0]\n",
    "    sr, sg, sb = f['R'][i], f['G'][i], f['B'][i]\n",
    "    x[i][0], x[i][1], x[i][2] = sr, sg, sb\n",
    "    label[i] = 1\n",
    "    for k in range(N):\n",
    "        y[i][k] = label[k]\n",
    "    print(sr, sb, sb, label)\n"
   ]
  },
  {
   "cell_type": "markdown",
   "metadata": {},
   "source": [
    "<hr>\n",
    "<h3>Initiate matplotlib</h3>"
   ]
  },
  {
   "cell_type": "code",
   "execution_count": 3,
   "metadata": {},
   "outputs": [],
   "source": [
    "# matplotlib 第一張圖常常不能顯示，所以先產生一張，當作啟動，讓後續真正需要的圖表能正常顯示\n",
    "import matplotlib\n",
    "import matplotlib.pyplot as plt\n",
    "plt.show()"
   ]
  },
  {
   "cell_type": "markdown",
   "metadata": {
    "colab_type": "text",
    "id": "AyWrIONrhQF-"
   },
   "source": [
    "<hr>\n",
    "<h3>繪製樣本色塊</h3>"
   ]
  },
  {
   "cell_type": "code",
   "execution_count": 4,
   "metadata": {
    "colab": {
     "base_uri": "https://localhost:8080/",
     "height": 269
    },
    "colab_type": "code",
    "executionInfo": {
     "elapsed": 789,
     "status": "ok",
     "timestamp": 1577698119350,
     "user": {
      "displayName": "T-R Chou",
      "photoUrl": "https://lh3.googleusercontent.com/a-/AAuE7mB9Iq7zTWUPOHaDvZdzvp3v_bVgqiu0q-2q6a9GdQ=s64",
      "userId": "03619605320657570235"
     },
     "user_tz": -480
    },
    "id": "tdw9w3kFhQF-",
    "outputId": "b16ee7ce-455b-4e0e-834c-b383e30aa210"
   },
   "outputs": [
    {
     "data": {
      "image/png": "[encoded data removed]",
      "text/plain": [
       "<Figure size 432x288 with 1 Axes>"
      ]
     },
     "metadata": {
      "needs_background": "light"
     },
     "output_type": "display_data"
    }
   ],
   "source": [
    "import matplotlib\n",
    "import matplotlib.pyplot as plt\n",
    "\n",
    "fig = plt.figure()\n",
    "ax = fig.add_subplot(111)\n",
    "\n",
    "pos_x = 50\n",
    "pos_y = 50\n",
    "\n",
    "for i in range(N):\n",
    "    sr, sg, sb = x[i][0].item(), x[i][1].item(), x[i][2].item()\n",
    "    # 產生色塊\n",
    "    rect = matplotlib.patches.Rectangle((pos_x, pos_y), 100, 100, color=(sr, sg, sb))\n",
    "    ax.add_patch(rect)\n",
    "    pos_x = pos_x + 25\n",
    "    pos_y = pos_y + 25\n",
    "\n",
    "plt.xlim([0, 500])\n",
    "plt.ylim([0, 500])\n",
    "\n",
    "plt.show()\n"
   ]
  },
  {
   "cell_type": "markdown",
   "metadata": {
    "colab_type": "text",
    "id": "fwqLIrbRhQF-"
   },
   "source": [
    "<hr>\n",
    "<h3><strong style=\"color:red\">MLP</strong> Neuron Definition in PyTorch (<strong style=\"color:orange\">Deep Learning</strong>)</h3>"
   ]
  },
  {
   "cell_type": "code",
   "execution_count": 5,
   "metadata": {
    "colab": {
     "base_uri": "https://localhost:8080/",
     "height": 84
    },
    "colab_type": "code",
    "executionInfo": {
     "elapsed": 652,
     "status": "ok",
     "timestamp": 1577698123580,
     "user": {
      "displayName": "T-R Chou",
      "photoUrl": "https://lh3.googleusercontent.com/a-/AAuE7mB9Iq7zTWUPOHaDvZdzvp3v_bVgqiu0q-2q6a9GdQ=s64",
      "userId": "03619605320657570235"
     },
     "user_tz": -480
    },
    "id": "ZC3WFzuShQF-",
    "outputId": "5cdcd63c-ec96-4ced-95c9-af0c8fcd3261"
   },
   "outputs": [
    {
     "name": "stdout",
     "output_type": "stream",
     "text": [
      "MLPNet(\n",
      "  (fc1): Linear(in_features=3, out_features=128, bias=True)\n",
      "  (fc2): Linear(in_features=128, out_features=12, bias=True)\n",
      ")\n"
     ]
    }
   ],
   "source": [
    "import torch.nn as nn\n",
    "\n",
    "class MLPNet(nn.Module):\n",
    "    def __init__(self):\n",
    "        super(MLPNet, self).__init__()\n",
    "        # 3 inputs -> 128 hiddens --> 6 outputs\n",
    "        self.fc1 = nn.Linear(3, 128)\n",
    "        self.fc2 = nn.Linear(128, 12)\n",
    "    def forward(self, x):\n",
    "        x = self.fc1(x).sigmoid()\n",
    "        x = self.fc2(x).sigmoid()\n",
    "        return x\n",
    "\n",
    "mlp = MLPNet()\n",
    "\n",
    "print(mlp)"
   ]
  },
  {
   "cell_type": "markdown",
   "metadata": {
    "colab_type": "text",
    "id": "mzs1Tn3-hQGO"
   },
   "source": [
    "<hr>\n",
    "<h3>All parameters to be determined (3x128+128x12 for weights and 128+12 for biases)</h3>"
   ]
  },
  {
   "cell_type": "code",
   "execution_count": 6,
   "metadata": {
    "colab": {},
    "colab_type": "code",
    "id": "nHV4QqrNhQGO"
   },
   "outputs": [],
   "source": [
    "# params = list(mlp.parameters())\n",
    "# print(params)"
   ]
  },
  {
   "cell_type": "markdown",
   "metadata": {
    "colab_type": "text",
    "id": "DbcRx1cQhQGO"
   },
   "source": [
    "<hr>\n",
    "<h3><strong style=\"color:red\">MLP</strong> Training Phase</h3>\n",
    "<p><strong style=\"color:orange\">Learning Rate</strong>（0.001）</p>"
   ]
  },
  {
   "cell_type": "code",
   "execution_count": 7,
   "metadata": {
    "colab": {
     "base_uri": "https://localhost:8080/",
     "height": 1000
    },
    "colab_type": "code",
    "executionInfo": {
     "elapsed": 10654,
     "status": "ok",
     "timestamp": 1577698138039,
     "user": {
      "displayName": "T-R Chou",
      "photoUrl": "https://lh3.googleusercontent.com/a-/AAuE7mB9Iq7zTWUPOHaDvZdzvp3v_bVgqiu0q-2q6a9GdQ=s64",
      "userId": "03619605320657570235"
     },
     "user_tz": -480
    },
    "id": "s6Ahtt04hQGO",
    "outputId": "3f5c4f62-b69e-4c1a-b08c-c4b5b002524e",
    "scrolled": true
   },
   "outputs": [
    {
     "name": "stdout",
     "output_type": "stream",
     "text": [
      "epoch =      0, loss =   0.26299155\n",
      "epoch =    100, loss =   0.07614008\n",
      "epoch =    200, loss =   0.07543802\n",
      "epoch =    300, loss =   0.07449606\n",
      "epoch =    400, loss =   0.07296845\n",
      "epoch =    500, loss =   0.07041588\n",
      "epoch =    600, loss =   0.06654505\n",
      "epoch =    700, loss =   0.06190988\n",
      "epoch =    800, loss =   0.05742233\n",
      "epoch =    900, loss =   0.05341138\n",
      "epoch =   1000, loss =   0.04986731\n",
      "epoch =   1100, loss =   0.04674796\n",
      "epoch =   1200, loss =   0.04401721\n",
      "epoch =   1300, loss =   0.04163283\n",
      "epoch =   1400, loss =   0.03954609\n",
      "epoch =   1500, loss =   0.03770767\n",
      "epoch =   1600, loss =   0.03607177\n",
      "epoch =   1700, loss =   0.03459645\n",
      "epoch =   1800, loss =   0.03324199\n",
      "epoch =   1900, loss =   0.03196960\n",
      "epoch =   2000, loss =   0.03074192\n",
      "epoch =   2100, loss =   0.02952487\n",
      "epoch =   2200, loss =   0.02829036\n",
      "epoch =   2300, loss =   0.02701885\n",
      "epoch =   2400, loss =   0.02570125\n",
      "epoch =   2500, loss =   0.02434007\n",
      "epoch =   2600, loss =   0.02294932\n",
      "epoch =   2700, loss =   0.02155226\n",
      "epoch =   2800, loss =   0.02017720\n",
      "epoch =   2900, loss =   0.01885217\n",
      "epoch =   3000, loss =   0.01759990\n",
      "epoch =   3100, loss =   0.01643463\n",
      "epoch =   3200, loss =   0.01536134\n",
      "epoch =   3300, loss =   0.01437725\n",
      "epoch =   3400, loss =   0.01347428\n",
      "epoch =   3500, loss =   0.01264158\n",
      "epoch =   3600, loss =   0.01186753\n",
      "epoch =   3700, loss =   0.01114120\n",
      "epoch =   3800, loss =   0.01045343\n",
      "epoch =   3900, loss =   0.00979748\n",
      "epoch =   4000, loss =   0.00916928\n",
      "epoch =   4100, loss =   0.00856722\n",
      "epoch =   4200, loss =   0.00799131\n",
      "epoch =   4300, loss =   0.00744228\n",
      "epoch =   4400, loss =   0.00692067\n",
      "epoch =   4500, loss =   0.00642618\n",
      "epoch =   4600, loss =   0.00595751\n",
      "epoch =   4700, loss =   0.00551249\n",
      "epoch =   4800, loss =   0.00508848\n",
      "epoch =   4900, loss =   0.00468296\n",
      "epoch =   5000, loss =   0.00429402\n",
      "epoch =   5100, loss =   0.00392079\n",
      "epoch =   5200, loss =   0.00356354\n",
      "epoch =   5300, loss =   0.00322356\n",
      "epoch =   5400, loss =   0.00290279\n",
      "epoch =   5500, loss =   0.00260326\n",
      "epoch =   5600, loss =   0.00232666\n",
      "epoch =   5700, loss =   0.00207404\n",
      "epoch =   5800, loss =   0.00184561\n",
      "epoch =   5900, loss =   0.00164082\n",
      "epoch =   6000, loss =   0.00145852\n",
      "epoch =   6100, loss =   0.00129710\n",
      "epoch =   6200, loss =   0.00115472\n",
      "epoch =   6300, loss =   0.00102944\n",
      "epoch =   6400, loss =   0.00091934\n",
      "epoch =   6500, loss =   0.00082261\n",
      "epoch =   6600, loss =   0.00073759\n",
      "epoch =   6700, loss =   0.00066278\n",
      "epoch =   6800, loss =   0.00059685\n",
      "epoch =   6900, loss =   0.00053864\n",
      "epoch =   7000, loss =   0.00048715\n",
      "epoch =   7100, loss =   0.00044149\n",
      "epoch =   7200, loss =   0.00040092\n",
      "epoch =   7300, loss =   0.00036477\n",
      "epoch =   7400, loss =   0.00033250\n",
      "epoch =   7500, loss =   0.00030362\n",
      "epoch =   7600, loss =   0.00027771\n",
      "epoch =   7700, loss =   0.00025442\n",
      "epoch =   7800, loss =   0.00023343\n",
      "epoch =   7900, loss =   0.00021449\n",
      "epoch =   8000, loss =   0.00019735\n",
      "epoch =   8100, loss =   0.00018182\n",
      "epoch =   8200, loss =   0.00016772\n",
      "epoch =   8300, loss =   0.00015489\n",
      "epoch =   8400, loss =   0.00014320\n",
      "epoch =   8500, loss =   0.00013253\n",
      "epoch =   8600, loss =   0.00012278\n",
      "epoch =   8700, loss =   0.00011385\n",
      "epoch =   8800, loss =   0.00010566\n",
      "epoch =   8900, loss =   0.00009815\n",
      "epoch =   9000, loss =   0.00009125\n",
      "epoch =   9100, loss =   0.00008489\n",
      "epoch =   9200, loss =   0.00007904\n",
      "epoch =   9300, loss =   0.00007364\n",
      "epoch =   9400, loss =   0.00006865\n",
      "epoch =   9500, loss =   0.00006404\n",
      "epoch =   9600, loss =   0.00005978\n",
      "epoch =   9700, loss =   0.00005583\n",
      "epoch =   9800, loss =   0.00005218\n",
      "epoch =   9900, loss =   0.00004878\n"
     ]
    }
   ],
   "source": [
    "import torch\n",
    "import torch.nn as nn\n",
    "import torch.optim as optim\n",
    "import numpy as np\n",
    "\n",
    "EPOCH = 10000\n",
    "\n",
    "# preparing training samples\n",
    "# (Ready)\n",
    "\n",
    "# shuffling definition\n",
    "def shuffling(x, y):\n",
    "    x_out = torch.randn(N, 3)\n",
    "    y_out = torch.randn(N, 12)\n",
    "    idx = [i for i in range(N)]\n",
    "    idx = np.random.permutation(idx)\n",
    "    for i in range(N):\n",
    "        x_out[i] = x[idx[i]]\n",
    "        y_out[i] = y[idx[i]]\n",
    "    return x_out, y_out\n",
    "\n",
    "# Loss function\n",
    "criterion = nn.MSELoss()\n",
    "# Optimizer\n",
    "# optimizer = optim.SGD(mlp.parameters(), lr=0.01)\n",
    "optimizer = optim.Adam(mlp.parameters(), lr=0.001)\n",
    "\n",
    "# training\n",
    "for epoch in range(EPOCH):\n",
    "    # zero the gradient buffers\n",
    "    optimizer.zero_grad()\n",
    "    # shuffling\n",
    "    x_new, y_new = shuffling(x, y)\n",
    "    # feed foreward\n",
    "    output = mlp(x_new)\n",
    "    # evaluating loss\n",
    "    loss = criterion(output, y_new)\n",
    "    # display loss\n",
    "    if (epoch % 100 == 0):\n",
    "        print('epoch = %6d, loss = %12.8f' % (epoch, loss))\n",
    "    # feed backward\n",
    "    loss.backward()\n",
    "    # update parameters\n",
    "    optimizer.step()\n"
   ]
  },
  {
   "cell_type": "markdown",
   "metadata": {
    "colab_type": "text",
    "id": "x1-cygSWhQGO"
   },
   "source": [
    "<hr>\n",
    "<h3>學好的記憶可以儲存</h3>"
   ]
  },
  {
   "cell_type": "code",
   "execution_count": 8,
   "metadata": {
    "colab": {},
    "colab_type": "code",
    "id": "4cBkss4hhQGO"
   },
   "outputs": [],
   "source": [
    "# Save torch model\n",
    "torch.save(mlp.state_dict(), 'mlp.model')"
   ]
  },
  {
   "cell_type": "markdown",
   "metadata": {
    "colab_type": "text",
    "id": "Auu5vprLhQGd"
   },
   "source": [
    "<hr>\n",
    "<h3>學好的記憶可以瞬間載入，不用再度重新學習</h3>"
   ]
  },
  {
   "cell_type": "code",
   "execution_count": 9,
   "metadata": {
    "colab": {
     "base_uri": "https://localhost:8080/",
     "height": 34
    },
    "colab_type": "code",
    "executionInfo": {
     "elapsed": 632,
     "status": "ok",
     "timestamp": 1577698146823,
     "user": {
      "displayName": "T-R Chou",
      "photoUrl": "https://lh3.googleusercontent.com/a-/AAuE7mB9Iq7zTWUPOHaDvZdzvp3v_bVgqiu0q-2q6a9GdQ=s64",
      "userId": "03619605320657570235"
     },
     "user_tz": -480
    },
    "id": "5ED1ZRdfhQGd",
    "outputId": "e095b913-5f74-414c-e51d-0d234517cb61"
   },
   "outputs": [
    {
     "name": "stdout",
     "output_type": "stream",
     "text": [
      "Load previous mlp model completely!\n"
     ]
    }
   ],
   "source": [
    "# MLP 產生\n",
    "mlp = MLPNet()\n",
    "\n",
    "# Load torch model\n",
    "mlp.load_state_dict(torch.load('mlp.model', map_location='cpu'))\n",
    "mlp.eval()\n",
    "print('Load previous mlp model completely!')\n"
   ]
  },
  {
   "cell_type": "markdown",
   "metadata": {
    "colab_type": "text",
    "id": "lkJLoeKUhQGd"
   },
   "source": [
    "<hr>\n",
    "<h3><strong style=\"color:red\">MLP</strong> Testing Phase</h3>"
   ]
  },
  {
   "cell_type": "code",
   "execution_count": 10,
   "metadata": {
    "colab": {
     "base_uri": "https://localhost:8080/",
     "height": 487
    },
    "colab_type": "code",
    "executionInfo": {
     "elapsed": 660,
     "status": "ok",
     "timestamp": 1577698152229,
     "user": {
      "displayName": "T-R Chou",
      "photoUrl": "https://lh3.googleusercontent.com/a-/AAuE7mB9Iq7zTWUPOHaDvZdzvp3v_bVgqiu0q-2q6a9GdQ=s64",
      "userId": "03619605320657570235"
     },
     "user_tz": -480
    },
    "id": "pdbvdOt-hQGd",
    "outputId": "3473f639-fec5-44f5-c152-c2b00f7a1000"
   },
   "outputs": [
    {
     "data": {
      "image/png": "[encoded data removed]",
      "text/plain": [
       "<Figure size 432x288 with 1 Axes>"
      ]
     },
     "metadata": {
      "needs_background": "light"
     },
     "output_type": "display_data"
    },
    {
     "name": "stdout",
     "output_type": "stream",
     "text": [
      "Output[ 0] =   0.00000000\n",
      "Output[ 1] =   0.00000000\n",
      "Output[ 2] =   0.00000052\n",
      "Output[ 3] =   0.92543334\n",
      "Output[ 4] =   0.80585027\n",
      "Output[ 5] =   0.00000193\n",
      "Output[ 6] =   0.00000022\n",
      "Output[ 7] =   0.00007975\n",
      "Output[ 8] =   0.00000000\n",
      "Output[ 9] =   0.00000007\n",
      "Output[10] =   0.01387463\n",
      "Output[11] =   0.00000000\n",
      "Ans: orange-yellow\n"
     ]
    }
   ],
   "source": [
    "import numpy as np\n",
    "import matplotlib.pyplot as plt\n",
    "\n",
    "# 測試樣本\n",
    "x3 = [1.0] # 測試點 X 座標\n",
    "y3 = [0.7] # 測試點 Y 座標\n",
    "z3 = [0.1] # 測試點 Y 座標\n",
    "\n",
    "# 繪製樣本色塊\n",
    "fig = plt.figure()\n",
    "ax = fig.add_subplot(111)\n",
    "sr, sg, sb = x3[0], y3[0], z3[0]\n",
    "# 產生色塊\n",
    "rect = matplotlib.patches.Rectangle((100, 100), 200, 100, color=(sr, sg, sb))\n",
    "ax.add_patch(rect)\n",
    "plt.xlim([0, 500])\n",
    "plt.ylim([0, 500])\n",
    "plt.show()\n",
    "\n",
    "# 準備測試樣本，轉變格式成為 Tensor\n",
    "xt = torch.Tensor([x3[0],y3[0],z3[0]])\n",
    "\n",
    "# 測試（feed foreward）\n",
    "output = mlp(xt)\n",
    "\n",
    "# 由輸出 Tensor 取出結果\n",
    "v = output.tolist()\n",
    "\n",
    "# 顯示結果\n",
    "for i in range(12):\n",
    "    print('Output[%2d] = %12.8f' % (i, v[i]))\n",
    "k = v.index(max(v))\n",
    "name = [ 'red', 'red-orange', 'orange', 'orange-yellow', 'yellow', 'yellow-green', 'green', 'green-blue', 'blue', 'blue-violet', 'violet', 'violet-red' ]\n",
    "print('Ans:', name[k])\n"
   ]
  }
 ],
 "metadata": {
  "colab": {
   "collapsed_sections": [],
   "name": "06 mlp_project_color_12.ipynb",
   "provenance": [
    {
     "file_id": "1vEtyTQvCdzNii0RG0MVwOIUEZ8ow3_b1",
     "timestamp": 1577695678501
    }
   ]
  },
  "kernelspec": {
   "display_name": "Python 3 (ipykernel)",
   "language": "python",
   "name": "python3"
  },
  "language_info": {
   "codemirror_mode": {
    "name": "ipython",
    "version": 3
   },
   "file_extension": ".py",
   "mimetype": "text/x-python",
   "name": "python",
   "nbconvert_exporter": "python",
   "pygments_lexer": "ipython3",
   "version": "3.7.11"
  }
 },
 "nbformat": 4,
 "nbformat_minor": 1
}
