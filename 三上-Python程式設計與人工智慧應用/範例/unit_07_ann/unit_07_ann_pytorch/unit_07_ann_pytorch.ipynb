{
 "cells": [
  {
   "cell_type": "markdown",
   "metadata": {},
   "source": [
    "<h1 align=\"center\">Artificial Neural Network (ANN) in PyTorch</h1>\n",
    "<hr>\n",
    "<h3>A Simple Perceptron</h3>\n",
    "<hr>\n",
    "<img src=\"pics/one perceptron.png\" width=\"480\">\n",
    "<hr>\n",
    "<h3>Mathematical Form</h3>\n",
    "<img src=\"pics/one perceptron (math).png\" width=\"480\">\n",
    "<img src=\"pics/one perceptron (vector form).png\" width=\"480\">\n",
    "<hr>\n",
    "<h3>Activation Function</h3>\n",
    "<img src=\"pics/one perceptron (activation).png\" width=\"480\">\n",
    "<img src=\"pics/one perceptron (sigmoid).png\" width=\"480\">\n",
    "<pre>\n",
    "以上圖片取自 <a href=\"https://ai.plainenglish.io/introduction-to-deep-learning-2e7f21cadc4e\">https://ai.plainenglish.io/introduction-to-deep-learning-2e7f21cadc4e</a>\n",
    "</pre>"
   ]
  },
  {
   "cell_type": "markdown",
   "metadata": {},
   "source": [
    "<hr>\n",
    "<h3>Defining A Simple Perceptron (Net) in PyTorch</h3>\n",
    "<pre>\n",
    "m = 2 (2 inputs and 1 output)\n",
    "</pre>"
   ]
  },
  {
   "cell_type": "code",
   "execution_count": null,
   "metadata": {},
   "outputs": [],
   "source": [
    "# Defining A Simple Perceptron (Net) in PyTorch\n",
    "\n",
    "import torch.nn as nn\n",
    "\n",
    "class Net(nn.Module):\n",
    "    def __init__(self):\n",
    "        super(Net, self).__init__()\n",
    "        self.fc = nn.Linear(2, 1)\n",
    "        return\n",
    "    def forward(self, x):\n",
    "        y = self.fc(x).sigmoid()\n",
    "        return y\n",
    "\n",
    "net = Net()\n",
    "    "
   ]
  },
  {
   "cell_type": "markdown",
   "metadata": {},
   "source": [
    "<hr>\n",
    "<h3>顯示內容</h3>"
   ]
  },
  {
   "cell_type": "code",
   "execution_count": null,
   "metadata": {},
   "outputs": [],
   "source": [
    "# 顯示內容\n",
    "\n",
    "# 顯示 net 實體的內容架構\n",
    "print(net)\n",
    "\n",
    "# 取出 net 實體的內容數值\n",
    "params = list(net.parameters())\n",
    "\n",
    "# 顯示內容數值（weights + bias）\n",
    "print(params)\n"
   ]
  },
  {
   "cell_type": "markdown",
   "metadata": {},
   "source": [
    "<hr>\n",
    "<h3>準備單一樣本數值（Tensor），饋入 Perceptron</h3>"
   ]
  },
  {
   "cell_type": "code",
   "execution_count": null,
   "metadata": {},
   "outputs": [],
   "source": [
    "# 準備單一樣本數值（Tensor），饋入 Perceptron\n",
    "\n",
    "import torch\n",
    "\n",
    "# 數字串列轉換成 Tensor\n",
    "x = torch.Tensor([1, -1])\n",
    "\n",
    "# 顯示輸入 Tensor\n",
    "print(type(x))\n",
    "print(x)\n",
    "\n",
    "# Tensor 作為輸入饋入 ANN\n",
    "y = net(x)\n",
    "\n",
    "# 顯示輸出 Tensor\n",
    "print(type(y))\n",
    "print(y)\n",
    "\n",
    "# 移除不用保留的附屬資料（訓練時才需要的內容）\n",
    "z = y.detach()\n",
    "\n",
    "# 顯示移除結果（還是 Tensor 型態）\n",
    "print(type(z))\n",
    "print(z)\n",
    "\n",
    "# Tensor 轉換為數值串列\n",
    "n = z.tolist()\n",
    "\n",
    "# 顯示數值串列\n",
    "print(type(n))\n",
    "print(n)\n",
    "\n",
    "# 顯示數值內容\n",
    "print(n[0])\n"
   ]
  },
  {
   "cell_type": "markdown",
   "metadata": {},
   "source": [
    "<hr>\n",
    "<h3>準備整批樣本數值（numpy --> Tensor），饋入 Perceptron</h3>"
   ]
  },
  {
   "cell_type": "code",
   "execution_count": null,
   "metadata": {},
   "outputs": [],
   "source": [
    "# 準備整批樣本數值（numpy --> Tensor），饋入 Perceptron\n",
    "\n",
    "import numpy as np\n",
    "\n",
    "u = np.random.uniform(0, 1, (10,2))\n",
    "\n",
    "print(type(u))\n",
    "print(u.shape)\n",
    "print(u)\n",
    "\n",
    "x = torch.Tensor(u)\n",
    "\n",
    "print(type(x))\n",
    "print(x)\n",
    "\n",
    "y = net(x)\n",
    "\n",
    "print(type(y))\n",
    "print(y)\n",
    "\n",
    "z = y.detach().numpy()\n",
    "\n",
    "print(type(z))\n",
    "print(z.shape)\n",
    "print(z)\n"
   ]
  },
  {
   "cell_type": "markdown",
   "metadata": {},
   "source": [
    "<hr>\n",
    "<h3>A Complex Network（Multi-Layer-Perceptron，MLP）</h3>\n",
    "<img src=\"pics/mlp-3-4-4-3.png\" width=\"720\">\n",
    "<pre>\n",
    "3 inputs - 4 hiddens - 4 hiddens - 3 output (MLP 3-4-4-3)\n",
    "\n",
    "繪圖工具 <a href=\"http://alexlenail.me/NN-SVG/index.html\">http://alexlenail.me/NN-SVG/index.html</a>\n",
    "</pre>"
   ]
  },
  {
   "cell_type": "code",
   "execution_count": null,
   "metadata": {},
   "outputs": [],
   "source": [
    "# A Complex Network（Multi-Layer-Perceptron，MLP）\n",
    "\n",
    "import torch.nn as nn\n",
    "\n",
    "class Net(nn.Module):\n",
    "    def __init__(self):\n",
    "        super(Net, self).__init__()\n",
    "        self.fc1 = nn.Linear(3, 4)\n",
    "        self.fc2 = nn.Linear(4, 4)\n",
    "        self.fc3 = nn.Linear(4, 3)\n",
    "        return\n",
    "    def forward(self, x):\n",
    "        h1 = self.fc1(x).sigmoid()\n",
    "        h2 = self.fc2(h1).sigmoid()\n",
    "        y = self.fc3(h2).sigmoid()\n",
    "        return y\n",
    "\n",
    "net = Net()\n"
   ]
  },
  {
   "cell_type": "markdown",
   "metadata": {},
   "source": [
    "<hr>\n",
    "<h3>顯示內容</h3>"
   ]
  },
  {
   "cell_type": "code",
   "execution_count": null,
   "metadata": {},
   "outputs": [],
   "source": [
    "# 顯示內容\n",
    "\n",
    "# 顯示 net 實體的內容架構\n",
    "print(net)\n",
    "\n",
    "# 取出 net 實體的內容數值\n",
    "params = list(net.parameters())\n",
    "\n",
    "# 顯示內容數值（weights + bias）\n",
    "print(params)\n"
   ]
  },
  {
   "cell_type": "markdown",
   "metadata": {},
   "source": [
    "<hr>\n",
    "<h3>準備 Tensor 樣本，饋入 MLP</h3>"
   ]
  },
  {
   "cell_type": "code",
   "execution_count": null,
   "metadata": {},
   "outputs": [],
   "source": [
    "# 準備 Tensor 樣本，饋入 MLP\n",
    "\n",
    "import numpy as np\n",
    "import torch\n",
    "\n",
    "u = np.random.uniform(0, 1, (10,3))\n",
    "\n",
    "print('input (u) = ')\n",
    "print(u)\n",
    "\n",
    "x = torch.Tensor(u)\n",
    "\n",
    "y = net(x)\n",
    "\n",
    "z = y.detach().numpy()\n",
    "\n",
    "print('output (z) = ')\n",
    "print(z)\n"
   ]
  },
  {
   "cell_type": "markdown",
   "metadata": {},
   "source": [
    "<hr>\n",
    "<h3 style=\"color:blue\">設計一個 ANN 具有兩人猜拳（剪刀、石頭、布）遊戲判斷輸贏的能力。</h3>\n",
    "<pre>\n",
    "<b>規則</b>\n",
    "甲：剪刀，乙：剪刀，輸出：平手\n",
    "甲：剪刀，乙：石頭，輸出：乙勝\n",
    "甲：剪刀，乙：布  ，輸出：甲勝\n",
    "甲：石頭，乙：剪刀，輸出：甲勝\n",
    "甲：石頭，乙：石頭，輸出：平手\n",
    "甲：石頭，乙：布  ，輸出：乙勝\n",
    "甲：布  ，乙：剪刀，輸出：乙勝\n",
    "甲：布  ，乙：石頭，輸出：甲勝\n",
    "甲：布  ，乙：布  ，輸出：平手\n",
    "<b>編碼</b>\n",
    "input: 1 0 0 1 0 0, output 0 1 0\n",
    "input: 1 0 0 0 1 0, output 0 0 1\n",
    "input: 1 0 0 0 0 1, output 1 0 0\n",
    "input: 0 1 0 1 0 0, output 1 0 0\n",
    "input: 0 1 0 0 1 0, output 0 1 0\n",
    "input: 0 1 0 0 0 1, output 0 0 1\n",
    "input: 0 0 1 1 0 0, output 0 0 1\n",
    "input: 0 0 1 0 1 0, output 1 0 0\n",
    "input: 0 0 1 0 0 1, output 0 1 0\n",
    "</pre>"
   ]
  },
  {
   "cell_type": "markdown",
   "metadata": {},
   "source": [
    "<hr>\n",
    "<h3>準備編碼後的訓練樣本</h3>"
   ]
  },
  {
   "cell_type": "code",
   "execution_count": null,
   "metadata": {},
   "outputs": [],
   "source": [
    "# 準備編碼後的訓練樣本\n",
    "\n",
    "import numpy as np\n",
    "import torch\n",
    "\n",
    "x = np.zeros([9,6])\n",
    "x[0] = np.asarray([1,0,0,1,0,0])\n",
    "x[1] = np.asarray([1,0,0,0,1,0])\n",
    "x[2] = np.asarray([1,0,0,0,0,1])\n",
    "x[3] = np.asarray([0,1,0,1,0,0])\n",
    "x[4] = np.asarray([0,1,0,0,1,0])\n",
    "x[5] = np.asarray([0,1,0,0,0,1])\n",
    "x[6] = np.asarray([0,0,1,1,0,0])\n",
    "x[7] = np.asarray([0,0,1,0,1,0])\n",
    "x[8] = np.asarray([0,0,1,0,0,1])\n",
    "\n",
    "y = np.zeros([9,3])\n",
    "y[0] = np.asarray([0,1,0])\n",
    "y[1] = np.asarray([0,0,1])\n",
    "y[2] = np.asarray([1,0,0])\n",
    "y[3] = np.asarray([1,0,0])\n",
    "y[4] = np.asarray([0,1,0])\n",
    "y[5] = np.asarray([0,0,1])\n",
    "y[6] = np.asarray([0,0,1])\n",
    "y[7] = np.asarray([1,0,0])\n",
    "y[8] = np.asarray([0,1,0])\n",
    "\n",
    "x = torch.Tensor(x)\n",
    "y = torch.Tensor(y)\n",
    "\n",
    "print(x)\n",
    "print(y)\n"
   ]
  },
  {
   "cell_type": "markdown",
   "metadata": {},
   "source": [
    "<hr>\n",
    "<h3>定義 ANN</h3>\n",
    "<pre>\n",
    "MLP 6-8-3\n",
    "</pre>"
   ]
  },
  {
   "cell_type": "code",
   "execution_count": null,
   "metadata": {},
   "outputs": [],
   "source": [
    "# A Complex Network（Multi-Layer-Perceptron，MLP）\n",
    "\n",
    "import torch.nn as nn\n",
    "\n",
    "class Net(nn.Module):\n",
    "    def __init__(self):\n",
    "        super(Net, self).__init__()\n",
    "        self.fc1 = nn.Linear(6, 8)\n",
    "        self.fc2 = nn.Linear(8, 3)\n",
    "        return\n",
    "    def forward(self, x):\n",
    "        h = self.fc1(x).sigmoid()\n",
    "        y = self.fc2(h).sigmoid()\n",
    "        return y\n",
    "\n",
    "net = Net()\n"
   ]
  },
  {
   "cell_type": "code",
   "execution_count": null,
   "metadata": {},
   "outputs": [],
   "source": [
    "# 顯示內容\n",
    "\n",
    "# 顯示 net 實體的內容架構\n",
    "print(net)\n",
    "\n",
    "# 取出 net 實體的內容數值\n",
    "params = list(net.parameters())\n",
    "\n",
    "# 顯示內容數值（weights + bias）\n",
    "print(params)\n"
   ]
  },
  {
   "cell_type": "markdown",
   "metadata": {},
   "source": [
    "<hr>\n",
    "<h3>訓練（Back-Propagation）決定最佳參數</h3>"
   ]
  },
  {
   "cell_type": "code",
   "execution_count": null,
   "metadata": {},
   "outputs": [],
   "source": [
    "# 訓練（Back-Propagation）決定最佳參數\n",
    "\n",
    "import torch.optim as optim\n",
    "\n",
    "EPOCH = 10000\n",
    "\n",
    "# Loss function\n",
    "criterion = nn.MSELoss()\n",
    "# Optimizer\n",
    "# optimizer = optim.SGD(net.parameters(), lr=0.01)\n",
    "optimizer = optim.Adam(net.parameters(), lr=0.01)\n",
    "\n",
    "# training\n",
    "for epoch in range(EPOCH):\n",
    "    # zero the gradient buffers\n",
    "    optimizer.zero_grad()\n",
    "    # feed foreward\n",
    "    output = net(x)\n",
    "    # evaluating loss\n",
    "    loss = criterion(output, y)\n",
    "    # display loss\n",
    "    if (epoch % 100 == 0):\n",
    "        print('epoch = %6d, loss = %12.8f' % (epoch, loss))\n",
    "    # feed backward\n",
    "    loss.backward()\n",
    "    # update parameters\n",
    "    optimizer.step()\n"
   ]
  },
  {
   "cell_type": "markdown",
   "metadata": {},
   "source": [
    "<hr>\n",
    "<h3>測試</h3>"
   ]
  },
  {
   "cell_type": "code",
   "execution_count": null,
   "metadata": {},
   "outputs": [],
   "source": [
    "# 測試\n",
    "\n",
    "# 甲出剪刀，乙出石頭\n",
    "u = torch.Tensor([1,0,0,0,1,0])\n",
    "\n",
    "# 判斷\n",
    "v = net(u)\n",
    "\n",
    "# 顯示\n",
    "print(v)\n",
    "\n",
    "# v[2] 最大，乙勝\n",
    "lst = v.detach().tolist()\n",
    "i = lst.index(max(lst))\n",
    "if (i == 0):\n",
    "    print('甲勝')\n",
    "elif (i == 1):\n",
    "    print('平手')\n",
    "else:\n",
    "    print('乙勝')\n"
   ]
  },
  {
   "cell_type": "markdown",
   "metadata": {},
   "source": [
    "<hr>\n",
    "<h3 style=\"color:green\">設計一個 ANN 具有兩個一位數字的加法能力。</h3>\n",
    "<pre>\n",
    "提示\n",
    "以二進位編碼來設計可能比較容易\n",
    "如：9+5=14（1001 (9) + 0101 (5) = 01110 (14)）\n",
    "</pre>"
   ]
  },
  {
   "cell_type": "code",
   "execution_count": null,
   "metadata": {},
   "outputs": [],
   "source": []
  }
 ],
 "metadata": {
  "interpreter": {
   "hash": "f7be44ff6d022abcdd56ca5d84b9c7c57bcc1116775f704a69faf25b23490917"
  },
  "kernelspec": {
   "display_name": "Python 3",
   "language": "python",
   "name": "python3"
  },
  "language_info": {
   "codemirror_mode": {
    "name": "ipython",
    "version": 3
   },
   "file_extension": ".py",
   "mimetype": "text/x-python",
   "name": "python",
   "nbconvert_exporter": "python",
   "pygments_lexer": "ipython3",
   "version": "3.8.8"
  }
 },
 "nbformat": 4,
 "nbformat_minor": 2
}
