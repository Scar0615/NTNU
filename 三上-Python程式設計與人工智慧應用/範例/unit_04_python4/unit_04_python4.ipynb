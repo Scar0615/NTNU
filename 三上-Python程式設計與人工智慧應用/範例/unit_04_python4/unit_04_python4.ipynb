{
 "cells": [
  {
   "cell_type": "markdown",
   "metadata": {
    "collapsed": true
   },
   "source": [
    "<h1 align=\"center\">Unit 04 - Python 4</h1>\n",
    "<h3 align=\"center\">各種資料檔案處理：資料檔的格式與讀寫</h3>"
   ]
  },
  {
   "cell_type": "markdown",
   "metadata": {},
   "source": [
    "<hr>\n",
    "<h3 style=\"color:orange\">重點提示與簡要介紹</h3>"
   ]
  },
  {
   "cell_type": "markdown",
   "metadata": {},
   "source": [
    "<hr>\n",
    "<h3>檔案的使用原理</h3>\n",
    "<pre>\n",
    "流程\n",
    "    開啟檔案\n",
    "    讀寫檔案\n",
    "    關閉檔案\n",
    "\n",
    "資料寫入檔案中\n",
    "    s = 'Hello World!'\n",
    "    f = open('hello.txt', 'w')\n",
    "    f.write(s)\n",
    "    f.close()\n",
    "\n",
    "讀取檔案中資料\n",
    "    f = open('hello.txt', 'r')\n",
    "    t = f.read()\n",
    "    print(t)\n",
    "    f.close()\n",
    "\n",
    "慣用寫法</pre>\n",
    "<pre style=\"color:red\">\n",
    "    with open( 檔名字串, 讀寫字串, 其它屬性... ) as 檔案物件:\n",
    "        讀寫動作\n",
    "    檔案物件.close()\n",
    "</pre>"
   ]
  },
  {
   "cell_type": "code",
   "execution_count": null,
   "metadata": {},
   "outputs": [],
   "source": [
    "# 檔案的使用原理\n",
    "\n",
    "# 寫入資料\n",
    "s = 'Hello World!'\n",
    "with open('hello.txt', 'w') as fp:\n",
    "    fp.write(s)\n",
    "fp.close()\n",
    "\n",
    "# 讀取資料\n",
    "with open('hello.txt', 'r') as fp:\n",
    "    txt = fp.read()\n",
    "fp.close()\n",
    "print(txt)\n"
   ]
  },
  {
   "cell_type": "markdown",
   "metadata": {},
   "source": [
    "<hr>\n",
    "<h3>純文字文件資料</h3>\n",
    "<pre>\n",
    "注意檔案文字編碼方式（中文、多國語言混用的編碼問題）\n",
    "編碼參數\n",
    "<span style=\"color:red\">encoding='utf-8'</span>\n",
    "資料檔\n",
    "<a href=\"hello_cht.zip\">hello_cht.zip</a>\n",
    "</pre>"
   ]
  },
  {
   "cell_type": "code",
   "execution_count": null,
   "metadata": {},
   "outputs": [],
   "source": [
    "# 純文字文件資料\n",
    "\n",
    "with open('hello_cht.txt', 'r', encoding='utf-8') as fp:\n",
    "    txt = fp.read()\n",
    "fp.close()\n",
    "\n",
    "print(txt)\n"
   ]
  },
  {
   "cell_type": "markdown",
   "metadata": {},
   "source": [
    "<hr>\n",
    "<h3>純文字文件逐行讀取進入串列（List）中</h3>\n",
    "<pre>\n",
    "提示\n",
    "中文 utf-8 編碼\n",
    "資料檔\n",
    "<a href=\"3kingdom_001.zip\">3kingdom_001.zip</a>\n",
    "</pre>"
   ]
  },
  {
   "cell_type": "code",
   "execution_count": null,
   "metadata": {},
   "outputs": [],
   "source": [
    "# 純文字文件逐行讀取進入串列（List）中\n",
    "\n",
    "# 逐列讀取至 List\n",
    "with open('3kingdom_001.txt', 'r', encoding='utf-8') as fp:\n",
    "    lines = fp.readlines()\n",
    "fp.close()\n",
    "\n",
    "# 顯示部分\n",
    "print(lines[0:10])\n",
    "\n",
    "# 逐列全部顯示\n",
    "for x in lines:\n",
    "    print(x)\n"
   ]
  },
  {
   "cell_type": "markdown",
   "metadata": {},
   "source": [
    "<hr>\n",
    "<h3>純文字數據資料</h3>\n",
    "<pre>\n",
    "使用 numpy 工具模組（數據計算功能）\n",
    "資料檔\n",
    "<a href=\"data1.zip\">data1.zip</a>\n",
    "</pre>"
   ]
  },
  {
   "cell_type": "code",
   "execution_count": null,
   "metadata": {},
   "outputs": [],
   "source": [
    "# 純文字數據資料\n",
    "\n",
    "# 載入 numpy 工具模組，簡稱為 np\n",
    "import numpy as np\n",
    "\n",
    "# 載入資料檔，成為 numpy 的資料陣列\n",
    "data1 = np.loadtxt('data1.txt')\n",
    "\n",
    "# 顯示資料型態與內容\n",
    "print(type(data1))\n",
    "print(data1)\n",
    "\n",
    "# 數據寫入資料檔中\n",
    "\n",
    "# 串列資料\n",
    "lst = [ [ 3.0, 2.0, 1.0 ], [ 1.0, 0.0, 1.0 ], [ 1.0, 2.0, 3.0 ] ]\n",
    "\n",
    "# 轉換為 numpy 資料陣列\n",
    "data2 = np.array(lst)\n",
    "\n",
    "# 寫入成為文字資料檔\n",
    "np.savetxt('data2.txt', data2)\n"
   ]
  },
  {
   "cell_type": "markdown",
   "metadata": {},
   "source": [
    "<hr>\n",
    "<h3>二進位數據快速讀寫</h3>\n",
    "<pre>\n",
    "使用 pickle 工具模組\n",
    "</pre>"
   ]
  },
  {
   "cell_type": "code",
   "execution_count": null,
   "metadata": {},
   "outputs": [],
   "source": [
    "# 二進位數據快速讀寫\n",
    "\n",
    "# 載入工具模組\n",
    "import numpy as np\n",
    "import pickle\n",
    "\n",
    "# 產生隨機數字（20 至 29）共 100x100 個（100x100 陣列）\n",
    "data3 = np.random.randint(20, 30, size=(100,100))\n",
    "\n",
    "# 顯示\n",
    "print(type(data3))\n",
    "print(data3)\n",
    "\n",
    "# 快速寫入 data3.pkl 二進位檔案\n",
    "with open('data3.pkl', 'wb') as fp:\n",
    "    pickle.dump(data3, fp)\n",
    "fp.close()\n",
    "\n",
    "# 快速讀出 data3.pkl 二進位檔案，成為 data4 陣列（numpy 陣列）\n",
    "with open('data3.pkl', 'rb') as fp:\n",
    "    data4 = pickle.load(fp)\n",
    "fp.close()\n",
    "\n",
    "# 顯示讀回的資料型態與內容\n",
    "print(type(data4))\n",
    "print(data4)\n"
   ]
  },
  {
   "cell_type": "markdown",
   "metadata": {},
   "source": [
    "<hr>\n",
    "<h3>JSON（JavaScript Object Notation）檔案的使用</h3>\n",
    "<pre>\n",
    "Python 字典 vs. JSON\n",
    "python 字典\n",
    "    d = { '1':'a', '2':'bb', '3':'ccc' }\n",
    "JSON\n",
    "    {\"1\": \"a\", \"2\": \"bb\", \"3\": \"ccc\"}\n",
    "JSON on wiki\n",
    "    <a href=\"https://zh.wikipedia.org/wiki/JSON\">https://zh.wikipedia.org/wiki/JSON</a>\n",
    "</pre>"
   ]
  },
  {
   "cell_type": "code",
   "execution_count": null,
   "metadata": {},
   "outputs": [],
   "source": [
    "# JSON（JavaScript Object Notation）檔案的使用\n",
    "\n",
    "# 載入 JSON 工具模組\n",
    "import json\n",
    "\n",
    "# 生成一個字典\n",
    "d = { '1':'a', '2':'bb', '3':'ccc' }\n",
    "\n",
    "# 顯示\n",
    "print(d)\n",
    "\n",
    "# 寫入 JSON 格式檔案 d.json\n",
    "with open('d.json', 'w') as fp:\n",
    "    json.dump(d, fp)\n",
    "fp.close()\n",
    "\n",
    "# 讀取 JSON 格式檔案 d.json\n",
    "with open('d.json', 'r') as fp:\n",
    "    d_new = json.load(fp)\n",
    "fp.close()\n",
    "\n",
    "# 顯示讀回的資料型態與內容\n",
    "print(type(d_new))\n",
    "print(d_new)\n"
   ]
  },
  {
   "cell_type": "markdown",
   "metadata": {},
   "source": [
    "<hr>\n",
    "<h3>補充：網路資源經常運用 JSON 資料格式</h3>\n",
    "<pre>\n",
    "新版台北市 Open Data 服務平台（台北市資料大平台）\n",
    "<a href=\"https://data.taipei/\">https://data.taipei/</a>\n",
    "    YouBike2.0臺北市公共自行車即時資訊\n",
    "    <a href=\"https://tcgbusfs.blob.core.windows.net/dotapp/youbike/v2/youbike_immediate.json\">https://tcgbusfs.blob.core.windows.net/dotapp/youbike/v2/youbike_immediate.json</a>\n",
    "    預載資料檔（2021-10-16）\n",
    "    <a href=\"youbike.zip\">youbike.zip</a>\n",
    "FireFox 瀏覽器預設具有美化顯示 JSON 格式資料的功能\n",
    "</pre>"
   ]
  },
  {
   "cell_type": "code",
   "execution_count": null,
   "metadata": {},
   "outputs": [],
   "source": [
    "# YouBike2.0臺北市公共自行車即時資訊\n",
    "\n",
    "# 載入 JSON 工具模組\n",
    "import json\n",
    "\n",
    "# 載入 JSON 資料檔 youbike.json\n",
    "with open('youbike.json', 'r', encoding='utf-8') as fp:\n",
    "    ubike = json.load(fp)\n",
    "fp.close()\n",
    "\n",
    "# 顯示讀回資料\n",
    "print(ubike)\n"
   ]
  },
  {
   "cell_type": "markdown",
   "metadata": {},
   "source": [
    "<hr>\n",
    "<h3>pandas 工具模組的安裝</h3>\n",
    "<pre>\n",
    "使用 pandas 工具模組，pandas 有許多資料處理的小功能，包含 EXCEL 檔案的處理\n",
    "在 windows 環境中，目前 pandas 的安裝版本，可能需要額外自行安裝 openpyxl\n",
    "安裝\n",
    "<span style=\"color:orange\">conda install openpyxl</span>\n",
    "（必須是系統管理員身份才能安裝）\n",
    "</pre>"
   ]
  },
  {
   "cell_type": "markdown",
   "metadata": {},
   "source": [
    "<hr>\n",
    "<h3>讀取已經存在的 EXCEL 資料檔</h3>\n",
    "<pre>\n",
    "注意 EXCEL 檔案的附屬檔名是 xls 或 xlsx\n",
    "大部分使用時機是讀取已經存在的手工整理 EXCEL 資料表\n",
    "資料檔\n",
    "<a href=\"ccomb_spring.xlsx\">ccomb_spring.xlsx</a>\n",
    "</pre>"
   ]
  },
  {
   "cell_type": "code",
   "execution_count": null,
   "metadata": {},
   "outputs": [],
   "source": [
    "# 讀取已經存在的 EXCEL 資料檔\n",
    "\n",
    "# 載入 pandas 工具模組，簡稱為 pd\n",
    "import pandas as pd\n",
    "\n",
    "# 讀取 EXCEL 資料檔內容\n",
    "data = pd.read_excel('ccomb_spring.xlsx')\n",
    "\n",
    "# 顯示讀回結果\n",
    "print(type(data))\n",
    "print(data)\n"
   ]
  },
  {
   "cell_type": "markdown",
   "metadata": {},
   "source": [
    "<hr>\n",
    "<h3>儲存資料成為 EXCEL 資料檔</h3>"
   ]
  },
  {
   "cell_type": "code",
   "execution_count": null,
   "metadata": {},
   "outputs": [],
   "source": [
    "# 儲存資料成為 EXCEL 資料檔\n",
    "\n",
    "# 載入 pandas 工具模組，簡稱為 pd\n",
    "import pandas as pd\n",
    "\n",
    "# 字典資料，欄位 F1, F2, F3 與資料內容\n",
    "dic = { \\\n",
    "'F1': ['aa', 'bb', 'ccc', 'ddd', 'eee', 'fff'], \\\n",
    "'F2': [10, 20, 30, 40, 50, 60], \\\n",
    "'F3': [99, 88, 77, 66, 55, 44] \\\n",
    "}\n",
    "\n",
    "# Create a Pandas dataframe from some data.\n",
    "df = pd.DataFrame(dic)\n",
    "\n",
    "# Create a Pandas Excel writer using XlsxWriter as the engine.\n",
    "writer = pd.ExcelWriter('data.xlsx', engine='xlsxwriter')\n",
    "\n",
    "# Convert the dataframe to an XlsxWriter Excel object.\n",
    "df.to_excel(writer, sheet_name='DATA')\n",
    "\n",
    "# Close the Pandas Excel writer and output the Excel file.\n",
    "writer.save()\n"
   ]
  },
  {
   "cell_type": "markdown",
   "metadata": {},
   "source": [
    "<hr>\n",
    "<h3>CSV 資料檔的使用</h3>\n",
    "<pre>\n",
    "以純文字資料的方式處理\n",
    "CSV 其實是以逗號間隔資料的簡單純文字檔案，換行代表一筆資料結束\n",
    "範例\n",
    "f1,f2,f3,f4\n",
    "1,aa,100,2\n",
    "2,bb,200,2\n",
    "3,cc,300,6\n",
    "4,dd,400,6\n",
    "EXCEL 預設可以直接讀取使用 CSV 資料檔\n",
    "</pre>"
   ]
  },
  {
   "cell_type": "code",
   "execution_count": null,
   "metadata": {},
   "outputs": [],
   "source": [
    "# CSV 資料檔的使用\n",
    "\n",
    "# 儲存資料成為 csv 格式\n",
    "with open('data.csv', 'w') as fp:\n",
    "    fp.write('f1,f2,f3,f4\\n')\n",
    "    fp.write('1,aa,100,2\\n')\n",
    "    fp.write('2,bb,200,2\\n')\n",
    "    fp.write('3,cc,300,6\\n')\n",
    "    fp.write('4,dd,400,6\\n')\n",
    "fp.close()\n",
    "\n",
    "# 以文字編輯器開啟 data.csv 觀察\n",
    "# 以 EXCEL 開啟 data.csv 觀察\n",
    "\n",
    "# 讀取 csv 格式資料檔\n",
    "with open('data.csv', 'r') as fp:\n",
    "    lines = fp.readlines()\n",
    "fp.close()\n",
    "\n",
    "\n",
    "# 顯示\n",
    "for row in lines:\n",
    "    lst = row.strip().split(',') # 每一列先刪除尾部的換行符號 \\n，再以逗號 , 作為分隔符號，切成數個資料單元，形成串列\n",
    "    x0, x1, x2, x3 = lst[0], lst[1], lst[2], lst[3]\n",
    "    print(x0, x1, x2, x3)\n"
   ]
  },
  {
   "cell_type": "markdown",
   "metadata": {},
   "source": [
    "<hr>\n",
    "<h3>補充：網路資源也經常運用 CSV 資料格式（簡單）</h3>\n",
    "<pre>\n",
    "新版台北市 Open Data 服務平台（台北市資料大平台）\n",
    "<a href=\"https://data.taipei/\">https://data.taipei/</a>\n",
    "    臺北市政府電視新聞統計週報\n",
    "    <a href=\"https://data.taipei/#/dataset/detail?id=4b58645a-d1db-4d4d-87a3-c13baaee96bc\">https://data.taipei/#/dataset/detail?id=4b58645a-d1db-4d4d-87a3-c13baaee96bc</a>\n",
    "    預載資料檔（2021-10-16）\n",
    "    <a href=\"臺北市政府專案_2021.09.27～2021.10.03新聞統計週報.zip\">臺北市政府專案_2021.09.27～2021.10.03新聞統計週報.zip</a>\n",
    "注意\n",
    "第一列被視為欄位名稱，不算是資料\n",
    "採用 csv 工具模組時，使用結束後才可以關閉檔案\n",
    "</pre>"
   ]
  },
  {
   "cell_type": "code",
   "execution_count": null,
   "metadata": {},
   "outputs": [],
   "source": [
    "# 不使用特定的 csv 工具模組\n",
    "\n",
    "# 讀取 csv 格式資料檔\n",
    "with open('臺北市政府專案_2021.09.27～2021.10.03新聞統計週報.csv', 'r') as fp:\n",
    "    lines = fp.readlines()\n",
    "fp.close()\n",
    "\n",
    "# 顯示\n",
    "for row in lines:\n",
    "    lst = row.strip().split(',') # 每一列先刪除尾部的換行符號 \\n，再以逗號 , 作為分隔符號，切成數個資料單元，形成串列\n",
    "    x0, x1, x2, x3 = lst[0], lst[1], lst[2], lst[3]\n",
    "    print(x0, x1, x2, x3)\n"
   ]
  },
  {
   "cell_type": "code",
   "execution_count": null,
   "metadata": {
    "scrolled": true
   },
   "outputs": [],
   "source": [
    "# 臺北市政府電視新聞統計週報（使用特定的 csv 工具模組）\n",
    "\n",
    "# 載入 csv 工具模組\n",
    "import csv\n",
    "\n",
    "# 讀取 CSV 資料檔內容\n",
    "with open('臺北市政府專案_2021.09.27～2021.10.03新聞統計週報.csv') as fp:\n",
    "    data = csv.DictReader(fp)\n",
    "    # 顯示\n",
    "    for row in data:\n",
    "        t = '排名：%2s，新聞標題：%s（則數：%s）' % (row['排名'], row['新聞標題'], row['則數'])\n",
    "        print(t)\n",
    "\n",
    "# 關閉檔案\n",
    "fp.close()\n"
   ]
  },
  {
   "cell_type": "markdown",
   "metadata": {},
   "source": [
    "<hr>\n",
    "<h3>儲存資料成為 CSV 資料檔</h3>\n",
    "<pre>\n",
    "使用 csv 工具模組\n",
    "一筆資料（一列）即為一個字典\n",
    "避免多餘的換行符號 newline=''\n",
    "</pre>"
   ]
  },
  {
   "cell_type": "code",
   "execution_count": null,
   "metadata": {},
   "outputs": [],
   "source": [
    "# 儲存資料成為 CSV 資料檔\n",
    "\n",
    "# 載入 csv 工具模組\n",
    "import csv\n",
    "\n",
    "# 寫入 CSV 資料檔內容\n",
    "with open('data.csv', 'w', newline='') as fp:\n",
    "    names = ['f1', 'f2', 'f3', 'f4']\n",
    "    writer = csv.DictWriter(fp, fieldnames=names)\n",
    "    writer.writeheader()\n",
    "    writer.writerow({ 'f1':1, 'f2':'aa', 'f3':100, 'f4':2 })\n",
    "    writer.writerow({ 'f1':2, 'f2':'bb', 'f3':200, 'f4':2 })\n",
    "    writer.writerow({ 'f1':3, 'f2':'cc', 'f3':300, 'f4':6 })\n",
    "    writer.writerow({ 'f1':4, 'f2':'dd', 'f3':400, 'f4':6 })\n",
    "\n",
    "# 關閉檔案\n",
    "fp.close()\n",
    "\n",
    "# 以文字編輯器開啟 data.csv 觀察\n",
    "# 以 EXCEL 開啟 data.csv 觀察\n",
    "\n",
    "# 讀取 CSV 資料檔內容\n",
    "with open('data.csv') as fp:\n",
    "    data = csv.DictReader(fp)\n",
    "    # 顯示\n",
    "    for row in data:\n",
    "        x0, x1, x2, x3 = row['f1'], row['f2'], row['f3'], row['f4']\n",
    "        print(x0, x1, x2, x3)\n",
    "\n",
    "# 關閉檔案\n",
    "fp.close()\n"
   ]
  },
  {
   "cell_type": "markdown",
   "metadata": {},
   "source": [
    "<hr>\n",
    "<h3 style=\"color:orange\">隨堂範例</h3>"
   ]
  },
  {
   "cell_type": "markdown",
   "metadata": {
    "collapsed": true
   },
   "source": [
    "<hr>\n",
    "<h3 style=\"color:blue\">設計一個 Python 程式，讀取『Twinkle Twinkle Little Star』的英文純文字檔，顯示所有文字內容。</h3>\n",
    "<pre>\n",
    "資料檔\n",
    "<a href=\"twinkle.zip\">twinkle.zip</a>\n",
    "</pre>"
   ]
  },
  {
   "cell_type": "code",
   "execution_count": null,
   "metadata": {},
   "outputs": [],
   "source": [
    "with open('twinkle.txt', 'r') as fp:\n",
    "    txt = fp.read()\n",
    "fp.close()\n",
    "print(txt)"
   ]
  },
  {
   "cell_type": "markdown",
   "metadata": {
    "collapsed": true
   },
   "source": [
    "<hr>\n",
    "<h3 style=\"color:blue\">設計一個 Python 程式，讀取『心經』的純文字檔，顯示所有文字內容。</h3>\n",
    "<pre>\n",
    "提示\n",
    "中文字的編碼\n",
    "encoding='utf-8'\n",
    "資料檔\n",
    "<a href=\"心經.zip\">心經.zip</a>\n",
    "</pre>"
   ]
  },
  {
   "cell_type": "code",
   "execution_count": null,
   "metadata": {},
   "outputs": [],
   "source": [
    "with open('心經.txt', 'r', encoding='utf-8') as fp:\n",
    "    txt = fp.read()\n",
    "fp.close()\n",
    "print(txt)"
   ]
  },
  {
   "cell_type": "markdown",
   "metadata": {
    "collapsed": true
   },
   "source": [
    "<hr>\n",
    "<h3 style=\"color:blue\">設計一個 Python 程式，讀取『三字經』的純文字檔，計算總共的句數，並逐句顯示所有內容。</h3>\n",
    "<pre>\n",
    "提示\n",
    "strip 除去換行符號 '\\n'\n",
    "split 依據 ' ' 分隔文字成串列\n",
    "資料檔\n",
    "<a href=\"三字經.zip\">三字經.zip</a>\n",
    "</pre>"
   ]
  },
  {
   "cell_type": "code",
   "execution_count": null,
   "metadata": {},
   "outputs": [],
   "source": [
    "with open('三字經.txt', 'r', encoding='utf-8') as fp:\n",
    "    lines = fp.readlines()\n",
    "fp.close()\n",
    "\n",
    "n = len(lines)\n",
    "print('n = ', n)\n",
    "\n",
    "num = 0\n",
    "for line in lines:\n",
    "    row = line.strip().split(' ')\n",
    "    for x in row:\n",
    "        print(x, end=' ')\n",
    "        num = num + 1\n",
    "    print()\n",
    "\n",
    "print('三字經一共有 %d 句' % (num))\n"
   ]
  },
  {
   "cell_type": "markdown",
   "metadata": {
    "collapsed": true
   },
   "source": [
    "<hr>\n",
    "<h3 style=\"color:blue\">設計一個 Python 程式，讀取『台北市大學推廣教育』的 JSON 檔，顯示機構名稱與地址。</h3>\n",
    "<pre>\n",
    "提示\n",
    "觀察 JSON 檔案中資料的格式，特別是 key 的名稱，找出如何取出所需資料的方法\n",
    "依照觀察，這項資料，應該是串列（List）\n",
    "串列中的項目是字典（Dictionary）\n",
    "字典中項目的 Key 是 'o_tlc_agency_name'、'o_tlc_agency_category'、、、\n",
    "台北市大學推廣教育 Open Data（JSON 格式）\n",
    "    資料檔（此檔為歷史資料，目前這筆資料位置不明）\n",
    "    <a href=\"eduagency.zip\">eduagency.zip</a>\n",
    "新版台北市 Open Data 服務平台（台北市資料大平台）\n",
    "    <a href=\"https://data.taipei/\">https://data.taipei/</a>\n",
    "</pre>"
   ]
  },
  {
   "cell_type": "code",
   "execution_count": null,
   "metadata": {},
   "outputs": [],
   "source": [
    "import json\n",
    "\n",
    "with open('eduagency.json', 'r', encoding='utf-8') as fp:\n",
    "    data = json.load(fp)\n",
    "fp.close()\n",
    "\n",
    "for x in data:\n",
    "    print(x['o_tlc_agency_name'], x['o_tlc_agency_address'])\n"
   ]
  },
  {
   "cell_type": "markdown",
   "metadata": {},
   "source": [
    "<hr>\n",
    "<h3 style=\"color:blue\">設計一個 Python 程式，讀取『行政院環境保護署細懸浮微粒資料（PM2.5）』的 JSON 檔，顯示台北市各測站的偵測數據結果。</h3>\n",
    "<pre>\n",
    "提示\n",
    "觀察 JSON 檔案中資料的格式，特別是 key 的名稱，找出如何取出所需資料的方法\n",
    "依照觀察，這項資料，應該是串列（List）\n",
    "串列中的項目是字典（Dictionary）\n",
    "字典中項目的 Key 是 'Site'、'county'、'PM25'、、、\n",
    "留意觀察台北市的表示方式是『臺』北市\n",
    "行政院環境保護署細懸浮微粒資料（PM2.5）Open Data（JSON 格式，其實還有提供其它種類格式）\n",
    "    <a href=\"https://data.gov.tw/dataset/34827\">https://data.gov.tw/dataset/34827</a>\n",
    "    預載資料檔（2021-10-16）\n",
    "    <a href=\"aqx_p_02.zip\">aqx_p_02.zip</a>\n",
    "</pre>"
   ]
  },
  {
   "cell_type": "code",
   "execution_count": null,
   "metadata": {},
   "outputs": [],
   "source": [
    "import json\n",
    "\n",
    "with open('aqx_p_02.json', 'r', encoding='utf-8') as fp:\n",
    "    data = json.load(fp)\n",
    "fp.close()\n",
    "\n",
    "print(type(data))\n",
    "print(type(data['records']))\n",
    "\n",
    "for x in data['records']:\n",
    "    pm25 = int(x['PM25'])\n",
    "    if (pm25 > 20):\n",
    "        print(x['Site'], x['county'], x['PM25'])\n"
   ]
  },
  {
   "cell_type": "markdown",
   "metadata": {},
   "source": [
    "<hr>\n",
    "<h3 style=\"color:blue\">設計一個 Python 程式，讀取學生成績的 Excel 檔，顯示所有學生 A、B、C 各科的成績。</h3>\n",
    "<pre>\n",
    "提示\n",
    "使用 pandas 工具模組方便讀取 Excel 檔案\n",
    "資料檔\n",
    "<a href=\"course.zip\">course.zip</a>\n",
    "</pre>"
   ]
  },
  {
   "cell_type": "code",
   "execution_count": null,
   "metadata": {},
   "outputs": [],
   "source": [
    "import pandas as pd\n",
    "\n",
    "df = pd.read_excel('course.xlsx')\n",
    "\n",
    "n = len(df)\n",
    "\n",
    "for i in range(n):\n",
    "    t = '%8s %3d %3d %3d' % (df['SID'][i], df['A'][i], df['B'][i], df['C'][i])\n",
    "    print(t)\n"
   ]
  },
  {
   "cell_type": "markdown",
   "metadata": {},
   "source": [
    "<hr>\n",
    "<h3 style=\"color:blue\">設計一個 Python 程式，讀取學生成績的 Excel 檔，顯示 A、B、C 各科成績平均值。</h3>\n",
    "<pre>\n",
    "提示\n",
    "pandas 讀入的資料型態為 DataFrame\n",
    "顯示資料筆數，print(len(df))\n",
    "顯示 A 欄位的所有筆資料，print(df['A'])\n",
    "顯示第一筆資料的各欄位內容，print(df['SID'][0], df['A'][0], df['B'][0], df['C'][0])\n",
    "資料檔\n",
    "<a href=\"course.zip\">course.zip</a>\n",
    "</pre>"
   ]
  },
  {
   "cell_type": "code",
   "execution_count": null,
   "metadata": {},
   "outputs": [],
   "source": [
    "import pandas as pd\n",
    "\n",
    "df = pd.read_excel('course.xlsx')\n",
    "\n",
    "n = len(df)\n",
    "\n",
    "# s = 0\n",
    "# for i in range(n):\n",
    "#     s = s + df['A'][i]\n",
    "# a = s / n\n",
    "# print('A 科的平均分數：', a)\n",
    "\n",
    "# s = 0\n",
    "# for i in range(n):\n",
    "#     s = s + df['B'][i]\n",
    "# a = s / n\n",
    "# print('B 科的平均分數：', a)\n",
    "\n",
    "# s = 0\n",
    "# for i in range(n):\n",
    "#     s = s + df['C'][i]\n",
    "# a = s / n\n",
    "# print('C 科的平均分數：', a)\n",
    "\n",
    "lst = list(df['A'])\n",
    "a = sum(lst) / n\n",
    "print('A 科的平均分數：', a)\n",
    "\n",
    "lst = list(df['B'])\n",
    "a = sum(lst) / n\n",
    "print('B 科的平均分數：', a)\n",
    "\n",
    "lst = list(df['C'])\n",
    "a = sum(lst) / n\n",
    "print('C 科的平均分數：', a)\n"
   ]
  },
  {
   "cell_type": "markdown",
   "metadata": {},
   "source": [
    "<hr>\n",
    "<h3 style=\"color:blue\">設計一個 Python 程式，讀取學生成績的 Excel 檔，顯示 A、B、C 各科成績最高分同學的學號（SID）與他的分數。</h3>"
   ]
  },
  {
   "cell_type": "code",
   "execution_count": null,
   "metadata": {},
   "outputs": [],
   "source": [
    "import pandas as pd\n",
    "\n",
    "df = pd.read_excel('course.xlsx')\n",
    "\n",
    "n = len(df)\n",
    "\n",
    "# i_max = 0\n",
    "# x_max = df['SID'][i_max]\n",
    "# s_max = df['A'][i_max]\n",
    "# for i in range(1, n):\n",
    "#     if (df['A'][i] > s_max):\n",
    "#         i_max = i\n",
    "#         x_max = df['SID'][i]\n",
    "#         s_max = df['A'][i]\n",
    "# print('A 科目最高分是：', s_max, '，學號是：', x_max)\n",
    "\n",
    "# i_max = 0\n",
    "# x_max = df['SID'][i_max]\n",
    "# s_max = df['B'][i_max]\n",
    "# for i in range(1, n):\n",
    "#     if (df['B'][i] > s_max):\n",
    "#         i_max = i\n",
    "#         x_max = df['SID'][i]\n",
    "#         s_max = df['B'][i]\n",
    "# print('B 科目最高分是：', s_max, '，學號是：', x_max)\n",
    "\n",
    "# i_max = 0\n",
    "# x_max = df['SID'][i_max]\n",
    "# s_max = df['C'][i_max]\n",
    "# for i in range(1, n):\n",
    "#     if (df['C'][i] > s_max):\n",
    "#         i_max = i\n",
    "#         x_max = df['SID'][i]\n",
    "#         s_max = df['C'][i]\n",
    "# print('C 科目最高分是：', s_max, '，學號是：', x_max)\n",
    "\n",
    "lst = list(df['A'])\n",
    "s_max = max(lst)\n",
    "i_max = lst.index(s_max)\n",
    "x_max = df['SID'][i_max]\n",
    "print('A 科目最高分是：', s_max, '，學號是：', x_max)\n",
    "\n",
    "lst = list(df['B'])\n",
    "s_max = max(lst)\n",
    "i_max = lst.index(s_max)\n",
    "x_max = df['SID'][i_max]\n",
    "print('B 科目最高分是：', s_max, '，學號是：', x_max)\n",
    "\n",
    "lst = list(df['C'])\n",
    "s_max = max(lst)\n",
    "i_max = lst.index(s_max)\n",
    "x_max = df['SID'][i_max]\n",
    "print('C 科目最高分是：', s_max, '，學號是：', x_max)\n"
   ]
  },
  {
   "cell_type": "markdown",
   "metadata": {},
   "source": [
    "<hr>\n",
    "<h3 style=\"color:blue\">設計一個 Python 程式，產生一個 CSV 資料檔，隨機產生 100 個 0 至 2*PI 的數值 x 與其相對應的 sin(x) 與 cos(x) 函數值，並在 EXCEL 中使用這些資料繪製函數圖形。</h3>\n",
    "<pre>\n",
    "提示\n",
    "利用 math 工具模組中的 math.pi 取得圓周率 PI\n",
    "利用 random 工具模組\n",
    "random.uniform(0, 2*math.pi) 產生 0 至 2*PI 之間的隨機亂數字\n",
    "兩個需要的數學函數\n",
    "math.sin(x) \n",
    "math.cos(x)\n",
    "</pre>"
   ]
  },
  {
   "cell_type": "code",
   "execution_count": null,
   "metadata": {},
   "outputs": [],
   "source": [
    "import math\n",
    "import random\n",
    "\n",
    "with open('sine_cosine.csv', 'w') as fp:\n",
    "    fp.write('x,sine,cosine\\n')\n",
    "    for i in range(100):\n",
    "        x = random.uniform(0,2*math.pi)\n",
    "        s = math.sin(x)\n",
    "        c = math.cos(x)\n",
    "        t = '%f,%f,%f\\n' % (x, s, c)\n",
    "        # print(t)\n",
    "        fp.write(t)\n",
    "fp.close()\n"
   ]
  },
  {
   "cell_type": "markdown",
   "metadata": {},
   "source": [
    "<hr>\n",
    "<h3 style=\"color:orange\">隨堂練習</h3>"
   ]
  },
  {
   "cell_type": "markdown",
   "metadata": {},
   "source": [
    "<hr>\n",
    "<h3 style=\"color:green\">設計一個 Python 程式，讀取『唐詩三百首』的純文字檔，並逐首顯示所有詩文。</h3>\n",
    "<pre>\n",
    "資料檔\n",
    "<a href=\"唐詩三百首全文.zip\">唐詩三百首全文.zip</a>\n",
    "</pre>"
   ]
  },
  {
   "cell_type": "code",
   "execution_count": null,
   "metadata": {},
   "outputs": [],
   "source": []
  },
  {
   "cell_type": "markdown",
   "metadata": {},
   "source": [
    "<hr>\n",
    "<h3 style=\"color:green\">設計一個 Python 程式，讀取『臺北市公園景點介紹』的 JSON 檔，顯示大安森林公園中有紀錄的景點介紹。</h3>\n",
    "<pre>\n",
    "提示\n",
    "臺北市公園景點介紹 Open Data（JSON 格式）\n",
    "    資料檔（此檔為歷史資料，目前這筆資料位置不明）\n",
    "    <a href=\"park.zip\">park.zip</a>\n",
    "新版台北市 Open Data 服務平台（台北市資料大平台）\n",
    "    <a href=\"https://data.taipei/\">https://data.taipei/</a>\n",
    "</pre>"
   ]
  },
  {
   "cell_type": "code",
   "execution_count": null,
   "metadata": {},
   "outputs": [],
   "source": []
  },
  {
   "cell_type": "markdown",
   "metadata": {},
   "source": [
    "<h3 style=\"color:green\">設計一個 Python 程式，讀取學生成績的 Excel 檔，顯示 A、B、C 各科成績不及格同學的學號（SID）與他的分數。</h3>"
   ]
  },
  {
   "cell_type": "code",
   "execution_count": null,
   "metadata": {},
   "outputs": [],
   "source": []
  }
 ],
 "metadata": {
  "kernelspec": {
   "display_name": "Python 3",
   "language": "python",
   "name": "python3"
  },
  "language_info": {
   "codemirror_mode": {
    "name": "ipython",
    "version": 3
   },
   "file_extension": ".py",
   "mimetype": "text/x-python",
   "name": "python",
   "nbconvert_exporter": "python",
   "pygments_lexer": "ipython3",
   "version": "3.8.8"
  }
 },
 "nbformat": 4,
 "nbformat_minor": 2
}
