{
 "cells": [
  {
   "cell_type": "markdown",
   "metadata": {},
   "source": [
    "<h1 align=\"center\">Unit 04 - Python 4（補充）</h1>\n",
    "<h3 align=\"center\">自訂函數設計</h3>"
   ]
  },
  {
   "cell_type": "markdown",
   "metadata": {},
   "source": [
    "<hr>\n",
    "<h3 style=\"color:orange\">重點提示與簡要介紹</h3>"
   ]
  },
  {
   "cell_type": "markdown",
   "metadata": {},
   "source": [
    "<hr>\n",
    "<h3>函數定義</h3>\n",
    "<pre style=\"color:red\">\n",
    "def 函數名稱 ( 引數1, 引數2, ... ):\n",
    "    # 函數內容\n",
    "    ......\n",
    "    return 回傳值1, 回傳值2, ...\n",
    "</pre>\n",
    "<pre>\n",
    "定義不是執行，不會驗證內容執行是否正確。\n",
    "</pre>"
   ]
  },
  {
   "cell_type": "code",
   "execution_count": null,
   "metadata": {},
   "outputs": [],
   "source": [
    "# 函數定義\n",
    "\n",
    "# 有回傳值\n",
    "def compute(a, b):\n",
    "    x = a + b\n",
    "    y = a * b\n",
    "    lst = [ a, b, x, y ]\n",
    "    return x, y, lst\n",
    "\n",
    "# 無回傳值\n",
    "def say_something(msg):\n",
    "    print('我說的是：\"', msg, '\" 這句話。')\n",
    "    return\n",
    "\n",
    "print(compute(1,2))\n",
    "p = say_something('HaHaHa...')\n",
    "\n",
    "print(p)"
   ]
  },
  {
   "cell_type": "markdown",
   "metadata": {},
   "source": [
    "<hr>\n",
    "<h3>函數呼叫</h3>\n",
    "<pre style=\"color:red\">\n",
    "變數1, 變數2, ... = 函數名稱 ( 引數1, 引數2, ... )\n",
    "</pre>\n",
    "<pre>\n",
    "    有回傳值\n",
    "    忽略回傳值\n",
    "    無回傳值\n",
    "</pre>"
   ]
  },
  {
   "cell_type": "code",
   "execution_count": null,
   "metadata": {},
   "outputs": [],
   "source": [
    "# 函數呼叫\n",
    "\n",
    "# 有回傳值\n",
    "\n",
    "n1 = 1\n",
    "n2 = 2\n",
    "\n",
    "u, v, w = compute(n1, n2)\n",
    "\n",
    "print(u, v, w)\n",
    "\n",
    "# 忽略回傳值\n",
    "\n",
    "n1 = 1\n",
    "n2 = 2\n",
    "\n",
    "_, _, w = compute(n1, n2)\n",
    "\n",
    "print(w)\n",
    "\n",
    "# 無回傳值\n",
    "\n",
    "msg = 'Hello World!'\n",
    "\n",
    "say_something(msg)\n"
   ]
  },
  {
   "cell_type": "markdown",
   "metadata": {},
   "source": [
    "<hr>\n",
    "<h3>引數預設值</h3>"
   ]
  },
  {
   "cell_type": "code",
   "execution_count": null,
   "metadata": {},
   "outputs": [],
   "source": [
    "# 引數預設值\n",
    "\n",
    "def multiply(x, n=2):\n",
    "    y = x * n\n",
    "    return y\n",
    "\n",
    "print(multiply(3, 5))\n",
    "print(multiply(3))\n",
    "print(multiply(x=2, n=4))\n",
    "print(multiply(n=4, x=5))\n"
   ]
  },
  {
   "cell_type": "markdown",
   "metadata": {},
   "source": [
    "<hr>\n",
    "<h3>全域變數</h3>\n",
    "<pre>\n",
    "動態，隨執行環境決定所連結使用的變數\n",
    "</pre>"
   ]
  },
  {
   "cell_type": "code",
   "execution_count": null,
   "metadata": {},
   "outputs": [],
   "source": [
    "# 全域變數\n",
    "\n",
    "def plus(x):\n",
    "    print('目前的 n 是：', n)\n",
    "    y = x + n\n",
    "    return y\n"
   ]
  },
  {
   "cell_type": "code",
   "execution_count": null,
   "metadata": {},
   "outputs": [],
   "source": [
    "n = 10\n",
    "# n = 20"
   ]
  },
  {
   "cell_type": "code",
   "execution_count": null,
   "metadata": {},
   "outputs": [],
   "source": [
    "print(plus(5))"
   ]
  },
  {
   "cell_type": "markdown",
   "metadata": {},
   "source": [
    "<hr>\n",
    "<h3>區域變數</h3>"
   ]
  },
  {
   "cell_type": "code",
   "execution_count": null,
   "metadata": {},
   "outputs": [],
   "source": [
    "# 區域變數\n",
    "\n",
    "def minus(x):\n",
    "    y = x + 2\n",
    "    z = x - 2\n",
    "    print('y = ', y)\n",
    "    return z\n",
    "\n",
    "print(minus(10))\n",
    "print(y)\n",
    "print(z)\n"
   ]
  },
  {
   "cell_type": "markdown",
   "metadata": {},
   "source": [
    "<hr>\n",
    "<h3>複雜引數</h3>\n",
    "<pre>\n",
    "串列、字典、或更複雜\n",
    "</pre>"
   ]
  },
  {
   "cell_type": "code",
   "execution_count": null,
   "metadata": {},
   "outputs": [],
   "source": [
    "# 複雜引數\n",
    "\n",
    "# 串列\n",
    "\n",
    "lst = [ 1, 8, 2, 9, 5, 3, 0, 6 ]\n",
    "\n",
    "def find_max_and_pos(lst):\n",
    "    m = max(lst)\n",
    "    i = lst.index(m)\n",
    "    return m, i\n",
    "\n",
    "m, i = find_max_and_pos(lst)\n",
    "\n",
    "print('最大值', m, '的 index = ', i)\n",
    "\n",
    "# 字典\n",
    "\n",
    "site = { \\\n",
    "    1: {'sno':'0038','lat':25.026650,'lng':121.528890,'ar':'和平東路/師大路口(北側)'}, \\\n",
    "    2: {'sno':'0066','lat':25.007528,'lng':121.537188,'ar':'師大公館校區校門口(汀州路側)'}, \\\n",
    "    3: {'sno':'0102','lat':25.020430,'lng':121.525322,'ar':'師大路/汀州路交叉口'}, \\\n",
    "}\n",
    "\n",
    "def show_site(site):\n",
    "    for i in site:\n",
    "        s = site[i]\n",
    "        t = 'GPS 座標（%10.6f, %10.6f），地址：%s' % (s['lat'], s['lng'], s['ar'])\n",
    "        print(t)\n",
    "    return\n",
    "\n",
    "show_site(site)\n"
   ]
  },
  {
   "cell_type": "markdown",
   "metadata": {},
   "source": [
    "<hr>\n",
    "<h3 style=\"color:orange\">隨堂範例</h3>"
   ]
  },
  {
   "cell_type": "markdown",
   "metadata": {},
   "source": [
    "<hr>\n",
    "<h3 style=\"color:blue\">設計一個閏年平年判斷函數。</h3>"
   ]
  },
  {
   "cell_type": "code",
   "execution_count": null,
   "metadata": {},
   "outputs": [],
   "source": [
    "# 版本一\n",
    "\n",
    "def is_leap(y):\n",
    "    leap = False\n",
    "    if (y % 4 == 0):\n",
    "        leap = True\n",
    "    if (y % 100 == 0):\n",
    "        leap = False\n",
    "    if (y % 400 == 0):\n",
    "        leap = True\n",
    "    if (leap == True):\n",
    "        print('西元 %d 年是閏年' % (y))\n",
    "    else:\n",
    "        print('西元 %d 年是平年' % (y))\n",
    "    return\n",
    "\n",
    "is_leap(4)\n",
    "is_leap(300)\n",
    "is_leap(2019)\n",
    "is_leap(2020)\n"
   ]
  },
  {
   "cell_type": "code",
   "execution_count": null,
   "metadata": {},
   "outputs": [],
   "source": [
    "# 版本二\n",
    "\n",
    "def is_leap(y):\n",
    "    leap = False\n",
    "    if (y % 4 == 0):\n",
    "        leap = True\n",
    "    if (y % 100 == 0):\n",
    "        leap = False\n",
    "    if (y % 400 == 0):\n",
    "        leap = True\n",
    "    return leap\n",
    "\n",
    "y = int(input('西元年份：'))\n",
    "\n",
    "if (is_leap(y) == True):\n",
    "    print('西元 %d 年是閏年' % (y))\n",
    "else:\n",
    "    print('西元 %d 年是平年' % (y))\n"
   ]
  },
  {
   "cell_type": "markdown",
   "metadata": {},
   "source": [
    "<hr>\n",
    "<h3 style=\"color:blue\">利用閏年平年判斷函數，輸入兩個西元年份 y1 和 y2，計算並顯示從西元 y1 年 1 月 1 日至西元 y2 年 12 月 31 日一共經歷的天數。</h3>\n",
    "<pre>\n",
    "參考驗證數據\n",
    "西元 1900 年 1 月 1 日至西元 2020 年 12 月 31 日一共經歷了 44195 天\n",
    "</pre>"
   ]
  },
  {
   "cell_type": "code",
   "execution_count": null,
   "metadata": {},
   "outputs": [],
   "source": [
    "# 定義\n",
    "def is_leap(y):\n",
    "    leap = False\n",
    "    if (y % 4 == 0):\n",
    "        leap = True\n",
    "    if (y % 100 == 0):\n",
    "        leap = False\n",
    "    if (y % 400 == 0):\n",
    "        leap = True\n",
    "    return leap\n",
    "\n",
    "# 輸入\n",
    "y1 = int(input('西元年份1：'))\n",
    "y2 = int(input('西元年份2：'))\n",
    "\n",
    "# 計算\n",
    "d = 0\n",
    "for y in range(y1, y2+1):\n",
    "    if (is_leap(y) == True):\n",
    "        d = d + 366\n",
    "    else:\n",
    "        d = d + 365\n",
    "\n",
    "# 輸出\n",
    "t = '西元 %d 年 1 月 1 日至西元 %d 年 12 月 31 日一共經歷了 %d 天' % (y1, y2, d)\n",
    "print(t)\n",
    "        "
   ]
  },
  {
   "cell_type": "markdown",
   "metadata": {},
   "source": [
    "<hr>\n",
    "<h3 style=\"color:blue\">設計一個質數判斷函數。</h3>\n",
    "<pre>\n",
    "假設數字大於等於 2\n",
    "</pre>"
   ]
  },
  {
   "cell_type": "code",
   "execution_count": null,
   "metadata": {},
   "outputs": [],
   "source": [
    "# 非函數定義版本\n",
    "\n",
    "n = 28\n",
    "\n",
    "prime = True\n",
    "for i in range(2, n):\n",
    "    if (n % i == 0):\n",
    "        prime = False\n",
    "        break\n",
    "\n",
    "if (prime == True):\n",
    "    print('%d 是質數' % (n))\n",
    "else:\n",
    "    print('%d 不是質數' % (n))\n"
   ]
  },
  {
   "cell_type": "code",
   "execution_count": null,
   "metadata": {},
   "outputs": [],
   "source": [
    "# 定義可以重複使用的函數\n",
    "\n",
    "def is_prime(n):\n",
    "    prime = True\n",
    "    for i in range(2, n):\n",
    "        if (n % i == 0):\n",
    "            prime = False\n",
    "            break\n",
    "    return prime\n",
    "\n",
    "# 測試\n",
    "\n",
    "n = int(input('n: (n>=2) '))\n",
    "\n",
    "if (is_prime(n) == True):\n",
    "    print('%d 是質數' % (n))\n",
    "else:\n",
    "    print('%d 不是質數' % (n))\n"
   ]
  },
  {
   "cell_type": "markdown",
   "metadata": {},
   "source": [
    "<hr>\n",
    "<h3 style=\"color:blue\">輸入一個大於等於 2 的正整數 m，計算所有小於等於 m（包含 m）的所有質數。</h3>"
   ]
  },
  {
   "cell_type": "code",
   "execution_count": null,
   "metadata": {},
   "outputs": [],
   "source": [
    "# 定義 is_prime 函數\n",
    "\n",
    "def is_prime(n):\n",
    "    prime = True\n",
    "    for i in range(2, n):\n",
    "        if (n % i == 0):\n",
    "            prime = False\n",
    "            break\n",
    "    return prime\n",
    "\n",
    "# 測試\n",
    "\n",
    "m = int(input('m: (m>=2) '))\n",
    "\n",
    "for n in range(2, m+1):\n",
    "    if (is_prime(n) == True):\n",
    "        print('%d 是質數' % (n))\n"
   ]
  },
  {
   "cell_type": "markdown",
   "metadata": {},
   "source": [
    "<hr>\n",
    "<h3 style=\"color:blue\">設計一個函數，可以指定一個大於等於 2 的正整數 m，以串列回傳所有小於等於 m（包含 m）的所有質數。</h3>"
   ]
  },
  {
   "cell_type": "code",
   "execution_count": null,
   "metadata": {},
   "outputs": [],
   "source": [
    "# 定義 is_prime 函數\n",
    "\n",
    "def is_prime(n):\n",
    "    prime = True\n",
    "    for i in range(2, n):\n",
    "        if (n % i == 0):\n",
    "            prime = False\n",
    "            break\n",
    "    return prime\n",
    "\n",
    "# 利用已完成函數，建構更複雜功能的函數\n",
    "\n",
    "def prime_list(m):\n",
    "    plst = []\n",
    "    for n in range(2, m+1):\n",
    "        if (is_prime(n) == True):\n",
    "            plst.append(n)\n",
    "    return plst\n",
    "\n",
    "# 測試\n",
    "\n",
    "m = int(input('m: (m>=2) '))\n",
    "\n",
    "plst = prime_list(m)\n",
    "\n",
    "print(type(plst))\n",
    "print(plst)\n",
    "print(len(plst))\n"
   ]
  },
  {
   "cell_type": "markdown",
   "metadata": {},
   "source": [
    "<hr>\n",
    "<h3 style=\"color:blue\">設計一個函數，可以指定檔名讀取純文字檔文章，回傳文章字數（含所有標點符號）。</h3>\n",
    "<pre>\n",
    "測試文章\n",
    "朱自清（背影）全文\n",
    "<a href=\"朱自清（背影）全文，不含標題作者.zip\">朱自清（背影）全文，不含標題作者.zip</a>\n",
    "</pre>"
   ]
  },
  {
   "cell_type": "code",
   "execution_count": null,
   "metadata": {},
   "outputs": [],
   "source": [
    "# 定義並測試\n",
    "\n",
    "def article_word_count(fname):\n",
    "    with open(fname, 'r', encoding='utf-8') as fp:\n",
    "        txt = fp.read()\n",
    "    fp.close()\n",
    "    n = len(txt)\n",
    "    return n\n",
    "    \n",
    "m = article_word_count('朱自清（背影）全文，不含標題作者.txt')\n",
    "\n",
    "print('一共有 %d 的字' % (m))\n"
   ]
  },
  {
   "cell_type": "markdown",
   "metadata": {},
   "source": [
    "<hr>\n",
    "<h3 style=\"color:blue\">利用函數設計，開發一些工具函數，可以讀取指定文章，回傳所有二元詞（Bigram）的串列。</h3>"
   ]
  },
  {
   "cell_type": "code",
   "execution_count": null,
   "metadata": {},
   "outputs": [],
   "source": [
    "# 版本一\n",
    "\n",
    "def article_bigram_list(fname):\n",
    "    with open(fname, 'r', encoding='utf-8') as fp:\n",
    "        txt = fp.read()\n",
    "    fp.close()\n",
    "    n = len(txt)\n",
    "    lst = []\n",
    "    for i in range(n-1):\n",
    "        lst.append(txt[i:i+2])\n",
    "    return lst\n",
    "\n",
    "lst = article_bigram_list('朱自清（背影）全文，不含標題作者.txt')\n",
    "\n",
    "print(lst)\n"
   ]
  },
  {
   "cell_type": "code",
   "execution_count": null,
   "metadata": {},
   "outputs": [],
   "source": [
    "# 版本二\n",
    "\n",
    "def load_article(fname):\n",
    "    with open(fname, 'r', encoding='utf-8') as fp:\n",
    "        txt = fp.read()\n",
    "    fp.close()\n",
    "    return txt\n",
    "\n",
    "def bigram_list(txt):\n",
    "    n = len(txt)\n",
    "    lst = []\n",
    "    for i in range(n-1):\n",
    "        lst.append(txt[i:i+2])\n",
    "    return lst\n",
    "\n",
    "txt = load_article('朱自清（背影）全文，不含標題作者.txt')\n",
    "lst = bigram_list(txt)\n",
    "\n",
    "print(lst)\n"
   ]
  },
  {
   "cell_type": "markdown",
   "metadata": {},
   "source": [
    "<hr>\n",
    "<h3 style=\"color:blue\">利用函數設計，開發一些工具函數，可以指定文章與所需要偵測的字詞，回傳該字詞出現的次數。</h3>"
   ]
  },
  {
   "cell_type": "code",
   "execution_count": null,
   "metadata": {},
   "outputs": [],
   "source": [
    "# 函數定義\n",
    "\n",
    "def load_article(fname):\n",
    "    with open(fname, 'r', encoding='utf-8') as fp:\n",
    "        txt = fp.read()\n",
    "    fp.close()\n",
    "    return txt\n",
    "\n",
    "def bigram_list(txt):\n",
    "    n = len(txt)\n",
    "    lst = []\n",
    "    for i in range(n-1):\n",
    "        lst.append(txt[i:i+2])\n",
    "    return lst\n",
    "\n",
    "def article_bigram_count(fname, w):\n",
    "    txt = load_article(fname)\n",
    "    lst = bigram_list(txt)\n",
    "    n = lst.count(w)\n",
    "    return n\n",
    "\n",
    "# 測試\n",
    "\n",
    "f = '朱自清（背影）全文，不含標題作者.txt'\n",
    "w = '父親'\n",
    "\n",
    "n = article_bigram_count(f, w)\n",
    "\n",
    "t = '『%s』出現在『%s』文章中一共有 %d 次' % (w, f, n)\n",
    "print(t)\n"
   ]
  },
  {
   "cell_type": "markdown",
   "metadata": {},
   "source": [
    "<hr>\n",
    "<h3>補充：字串與串列</h3>\n",
    "<pre>\n",
    "更簡單作法，利用字串與串列的共同特性，甚至任意多字詞（N-Gram，N = 1, 2, 3, ...）也合用\n",
    "</pre>"
   ]
  },
  {
   "cell_type": "code",
   "execution_count": null,
   "metadata": {},
   "outputs": [],
   "source": [
    "# 函數定義\n",
    "\n",
    "def load_article(fname):\n",
    "    with open(fname, 'r', encoding='utf-8') as fp:\n",
    "        txt = fp.read()\n",
    "    fp.close()\n",
    "    return txt\n",
    "\n",
    "def article_ngram_count(f, w):\n",
    "    t = load_article(f)\n",
    "    n = t.count(w)\n",
    "    return n\n",
    "\n",
    "# 測試\n",
    "\n",
    "f = '朱自清（背影）全文，不含標題作者.txt'\n",
    "w = '青布棉袍'\n",
    "\n",
    "n = article_ngram_count(f, w)\n",
    "\n",
    "t = '『%s』出現在『%s』文章中一共有 %d 次' % (w, f, n)\n",
    "print(t)\n"
   ]
  },
  {
   "cell_type": "markdown",
   "metadata": {},
   "source": [
    "<hr>\n",
    "<h3 style=\"color:blue\">設計一個函數，可以讀取『行政院環境保護署細懸浮微粒資料（PM2.5）』的 JSON 檔，並回傳測站 PM2.5 數值的字典。</h3>\n",
    "<pre>\n",
    "提示：\n",
    "行政院環境保護署細懸浮微粒資料（PM2.5）Open Data（JSON 格式，其實還有提供其它種類格式）\n",
    "    <a href=\"https://data.gov.tw/dataset/34827\">https://data.gov.tw/dataset/34827</a>\n",
    "    預載資料檔（2021-10-16）\n",
    "    <a href=\"aqx_p_02.zip\">aqx_p_02.zip</a>\n",
    "</pre>"
   ]
  },
  {
   "cell_type": "code",
   "execution_count": null,
   "metadata": {},
   "outputs": [],
   "source": [
    "# 載入 json 工具模組\n",
    "\n",
    "import json\n",
    "\n",
    "# 函數定義\n",
    "\n",
    "def load_aqx(fname):\n",
    "    with open(fname, 'r', encoding='utf-8') as fp:\n",
    "        d = json.load(fp)\n",
    "    fp.close()\n",
    "    return d\n",
    "\n",
    "def aqx_pm25(d_aqx):\n",
    "    d_pm25 = dict()\n",
    "    lst = d_aqx['records']\n",
    "    for s in lst:\n",
    "        site = s['Site']\n",
    "        pm25 = int(s['PM25'])\n",
    "        d_pm25[site] = pm25\n",
    "    return d_pm25\n",
    "\n",
    "def display_pm25(d_pm25):\n",
    "    for s in d_pm25:\n",
    "        t = '%2d %s' % (d_pm25[s], s)\n",
    "        print(t)\n",
    "    return\n",
    "\n",
    "# 測試\n",
    "\n",
    "f = 'aqx_p_02.json'\n",
    "\n",
    "d = load_aqx(f)\n",
    "p = aqx_pm25(d)\n",
    "display_pm25(p)\n",
    "        "
   ]
  },
  {
   "cell_type": "markdown",
   "metadata": {},
   "source": [
    "<hr>\n",
    "<h3 style=\"color:blue\">設計一個萬年曆函數，輸入西元的 y 年 m 月 d 日，計算並顯示這一天是星期幾？（上單元挑戰題）</h3>\n",
    "<pre>\n",
    "提示：\n",
    "基準點可以採用 1900 年 1 月 1 日是星期一（只考慮這一天之後的日子）\n",
    "計算輸入日期距離 1900-01-01 一共幾天，7 天週期循環、、、與 % 餘數計算有關\n",
    "可以先建立月份天數的資料表（串列或字典），但是二月份要小心閏年平年問題\n",
    "網路萬年曆\n",
    "<a href=\"http://tw.xingbar.com/calendar/wannianli.html\">http://tw.xingbar.com/calendar/wannianli.html</a>"
   ]
  },
  {
   "cell_type": "code",
   "execution_count": null,
   "metadata": {},
   "outputs": [],
   "source": [
    "# 函數定義\n",
    "\n",
    "def is_leap(y):\n",
    "    leap = False\n",
    "    if (y % 4 == 0):\n",
    "        leap = True\n",
    "    if (y % 100 == 0):\n",
    "        leap = False\n",
    "    if (y % 400 == 0):\n",
    "        leap = True\n",
    "    return leap\n",
    "\n",
    "def day_count_last_year(y):\n",
    "    y1 = 1900\n",
    "    count = 0\n",
    "    for i in range(y1, y):\n",
    "        if (is_leap(i) == True):\n",
    "            count = count + 366\n",
    "        else:\n",
    "            count = count + 365\n",
    "    return count\n",
    "\n",
    "def calendar(y, m, d):\n",
    "    # 至 y-1 年底的累計天數\n",
    "    count = day_count_last_year(y)\n",
    "    if (is_leap(y) == True):\n",
    "        mday = [ 31, 29, 31, 30, 31, 30, 31, 31, 30, 31, 30, 31 ] # 閏年的月天數\n",
    "    else:\n",
    "        mday = [ 31, 28, 31, 30, 31, 30, 31, 31, 30, 31, 30, 31 ] # 平年的月天數\n",
    "    # 至 m-1 月的累計天數\n",
    "    for i in range(m-1):\n",
    "        count = count + mday[i]\n",
    "    # 至 y 年 m 月 d 日的累計天數\n",
    "    count = count + d\n",
    "    # 計算星期幾\n",
    "    w = count % 7\n",
    "    return w\n",
    "\n",
    "# 測試\n",
    "\n",
    "y = int(input('西元年：'))\n",
    "m = int(input('月：'))\n",
    "d = int(input('日：'))\n",
    "\n",
    "w = calendar(y, m, d)\n",
    "\n",
    "print('西元 %d 年 %d 月 %d 日是星期：%d' % (y, m, d, w))\n"
   ]
  },
  {
   "cell_type": "markdown",
   "metadata": {},
   "source": [
    "<hr>\n",
    "<h3 style=\"color:orange\">隨堂練習</h3>"
   ]
  },
  {
   "cell_type": "markdown",
   "metadata": {},
   "source": [
    "<hr>\n",
    "<h3 style=\"color:green\">開發一系列工具函數，可以指定所需要偵測的連字詞數字 n，n=1（Unigram）、n=2（Bigram）、n=3（Trigram）、、、，回傳所有指定 n 連字詞的串列。</h3>\n",
    "<pre>\n",
    "提示\n",
    "n-Gram，n = 1, 2, 3 ...\n",
    "</pre>"
   ]
  },
  {
   "cell_type": "code",
   "execution_count": null,
   "metadata": {},
   "outputs": [],
   "source": []
  },
  {
   "cell_type": "markdown",
   "metadata": {},
   "source": [
    "<hr>\n",
    "<h3 style=\"color:green\">開發一系列工具函數，可以指定所需要偵測的連字詞數字 n，n=1（Unigram）、n=2（Bigram）、n=3（Trigram）、、、，回傳所有指定 n 的所有相異連字詞。</h3>\n",
    "<pre>\n",
    "提示\n",
    "利用字典儲存連字詞比較容易。\n",
    "</pre>"
   ]
  },
  {
   "cell_type": "code",
   "execution_count": null,
   "metadata": {},
   "outputs": [],
   "source": []
  },
  {
   "cell_type": "markdown",
   "metadata": {},
   "source": [
    "<hr>\n",
    "<h3 style=\"color:green\">開發一系列工具函數，可以指定所需要偵測的連字詞數字 n，n=1（Unigram）、n=2（Bigram）、n=3（Trigram）、、、，回傳所有指定 n 的所有相異連字詞及其出現次數。</h3>\n",
    "<pre>\n",
    "提示\n",
    "利用字典儲存連字詞的出現次數比較容易。\n",
    "</pre>"
   ]
  },
  {
   "cell_type": "code",
   "execution_count": null,
   "metadata": {},
   "outputs": [],
   "source": []
  }
 ],
 "metadata": {
  "kernelspec": {
   "display_name": "Python 3",
   "language": "python",
   "name": "python3"
  },
  "language_info": {
   "codemirror_mode": {
    "name": "ipython",
    "version": 3
   },
   "file_extension": ".py",
   "mimetype": "text/x-python",
   "name": "python",
   "nbconvert_exporter": "python",
   "pygments_lexer": "ipython3",
   "version": "3.8.8"
  }
 },
 "nbformat": 4,
 "nbformat_minor": 2
}
