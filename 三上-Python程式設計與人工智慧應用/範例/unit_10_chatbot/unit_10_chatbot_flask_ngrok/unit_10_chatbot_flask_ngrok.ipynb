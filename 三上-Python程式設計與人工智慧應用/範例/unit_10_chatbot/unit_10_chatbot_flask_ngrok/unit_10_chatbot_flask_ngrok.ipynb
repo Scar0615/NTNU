{
 "cells": [
  {
   "cell_type": "markdown",
   "metadata": {},
   "source": [
    "<h1 align=\"center\">Flask Tutor</h1>\n",
    "<hr>\n",
    "<img src=\"https://flask.palletsprojects.com/en/1.1.x/_images/flask-logo.png\">\n",
    "<p style=\"text-align:center\">\n",
    "官方使用手冊（上圖來自於此）<br>\n",
    "<a href=\"https://flask.palletsprojects.com/\">https://flask.palletsprojects.com/</a>\n",
    "</p>"
   ]
  },
  {
   "cell_type": "markdown",
   "metadata": {},
   "source": [
    "<hr>\n",
    "<h3>在本機啟動一個自己的 Flask 網站</h3>\n",
    "<pre>\n",
    "<blockquote>\n",
    "啟動本機（127.0.0.1）網站，預設 Port No.=5000\n",
    "<span style=\"color:red\">app.run(host='127.0.0.1')</span>\n",
    "<a href=\"http://localhost:5000/\">http://localhost:5000/</a>\n",
    "啟動本機（127.0.0.1）網站，使用 Port=80，\n",
    "請注意不要隨便設為 80，因為，一般還有 Apache (port=80, port=443) 正在運作中\n",
    "<span style=\"color:red\">app.run(host='127.0.0.1', port=80)</span>\n",
    "<a href=\"http://localhost/\">http://localhost/</a>\n",
    "在 Linux 伺服器上建議設為 Debug Mode，可以看到傳輸過程對話內容\n",
    "<span style=\"color:red\">app.run(host='127.0.0.1', port=80, debug=True)</span>\n",
    "</blockquote>\n",
    "<pre>\n",
    "在 Jupyter 中使用有一些限制：\n",
    "1. 不可以用 debug=True\n",
    "2. port=8888 是不可以的，與 Jupyter 所使用的 port 是衝突的\n",
    "</pre>"
   ]
  },
  {
   "cell_type": "code",
   "execution_count": null,
   "metadata": {},
   "outputs": [],
   "source": [
    "# 在本機啟動一個自己的 Flask 網站\n",
    "\n",
    "from flask import Flask\n",
    "\n",
    "app = Flask(__name__)\n",
    "\n",
    "@app.route('/', methods=['GET'])\n",
    "\n",
    "def index():\n",
    "    html = '<h1 style=\"color:red\">Hello World from Flask</h1>'\n",
    "    return html\n",
    "\n",
    "if __name__ == '__main__':\n",
    "    app.run(host='127.0.0.1', port=10001)\n"
   ]
  },
  {
   "cell_type": "markdown",
   "metadata": {},
   "source": [
    "<hr>\n",
    "<h3>在本機啟動一個自己的 Flask 網站（另一種方式，for Jupyter）</h3>"
   ]
  },
  {
   "cell_type": "code",
   "execution_count": null,
   "metadata": {},
   "outputs": [],
   "source": [
    "# 在本機啟動一個自己的 Flask 網站（另一種方式，for Jupyter）\n",
    "\n",
    "from flask import Flask\n",
    "from werkzeug.wrappers import Request, Response\n",
    "\n",
    "app = Flask(__name__)\n",
    "\n",
    "@app.route('/')\n",
    "\n",
    "def index():\n",
    "    html = '<h1 style=\"color:red\">Hello World from Flask</h1>'\n",
    "    html = html + '<h3 style=\"color:orange\">Starting up in Jupyter</h3>'\n",
    "    return html\n",
    "\n",
    "if (__name__ == '__main__'):\n",
    "    print('Flask Web is running...')\n",
    "    from werkzeug.serving import run_simple\n",
    "    run_simple('localhost', 10001, app)\n"
   ]
  },
  {
   "cell_type": "markdown",
   "metadata": {},
   "source": [
    "<hr>\n",
    "<h3>在 Linux 平台上啟動 Flask 網站最一般的作法</h3>\n",
    "<pre>\n",
    "IP 改為未指定 <span style=\"color:red\">0.0.0.0</span>，以伺服器 IP 為預設\n",
    "防火牆需開放所指定的 Port No.\n",
    "<span style=\"color:red\">debug mode 在 Jupyter 中不能執行</span>\n",
    "</pre>"
   ]
  },
  {
   "cell_type": "code",
   "execution_count": null,
   "metadata": {},
   "outputs": [],
   "source": [
    "# 在 Linux 平台上啟動 Flask 網站最一般的作法\n",
    "\n",
    "from flask import Flask\n",
    "\n",
    "# Flask App 建立\n",
    "\n",
    "app = Flask(__name__)\n",
    "\n",
    "# 網站路徑指派\n",
    "\n",
    "@app.route('/', methods=['GET'])\n",
    "\n",
    "# 網站根目錄，/ 或 /index\n",
    "\n",
    "def index():\n",
    "    html = '<h1 style=\"color:blue\">Flask on Server</h1>'\n",
    "    return html\n",
    "\n",
    "# 啟動 Flask 網站\n",
    "\n",
    "if __name__ == '__main__':\n",
    "    app.run(host='0.0.0.0', port=10001, debug=True)\n"
   ]
  },
  {
   "cell_type": "markdown",
   "metadata": {},
   "source": [
    "<hr>\n",
    "<h3>Ubuntu 用 ufw 指令快速啟用和設定防火牆</h3>\n",
    "<pre>\n",
    "啟用防火牆\n",
    "<span style=\"color:red\">sudo ufw enable</span>\n",
    "停用防火牆\n",
    "<span style=\"color:red\">sudo ufw disable</span>\n",
    "開放使用 ssh 服務\n",
    "<span style=\"color:red\">sudo ufw allow ssh</span>\n",
    "開放使用 8080 (in/out)\n",
    "<span style=\"color:red\">sudo ufw allow 8080</span>\n",
    "禁止使用 8080 (in/out)\n",
    "<span style=\"color:red\">sudo ufw deny 8080</span>\n",
    "檢查服務狀態\n",
    "<span style=\"color:red\">sudo ufw status</span>\n",
    "</pre>"
   ]
  },
  {
   "cell_type": "markdown",
   "metadata": {},
   "source": [
    "<hr>\n",
    "<h3>在 Linux 平台上啟動 Flask SSL 網站（https）</h3>\n",
    "<pre>\n",
    "<span style=\"color:red\">需要申請 SSL 的 CA 憑證</span>\n",
    "可參考申請 Let's Encypt（<a href=\"https://letsencrypt.org/zh-tw/\">here</a>）的免費服務（必須具備 domain name）\n",
    "兩個必備的憑證檔：\n",
    "<span style=\"color:red\">fullchain.pem</span>\n",
    "<span style=\"color:red\">privkey.pem</span>\n",
    "</pre>"
   ]
  },
  {
   "cell_type": "code",
   "execution_count": null,
   "metadata": {},
   "outputs": [],
   "source": [
    "# 在 Linux 平台上啟動 Flask SSL 網站（https）\n",
    "\n",
    "import ssl\n",
    "from flask import Flask\n",
    "\n",
    "# Flask App 建立\n",
    "\n",
    "app = Flask(__name__)\n",
    "\n",
    "# 網站路徑指派\n",
    "\n",
    "@app.route('/', methods=['GET'])\n",
    "\n",
    "# 網站根目錄，/ 或 /index\n",
    "\n",
    "def index():\n",
    "    html = '<h1 style=\"color:blue\">SSL Flask on Server</h1>'\n",
    "    return html\n",
    "\n",
    "# 啟動 SSL Flask 網站\n",
    "\n",
    "if __name__ == '__main__':\n",
    "    context = ssl.SSLContext(ssl.PROTOCOL_TLSv1_2)\n",
    "    context.load_cert_chain('fullchain.pem', 'privkey.pem')\n",
    "    app.run(host='0.0.0.0', port=10001, ssl_context=context, debug=True)\n"
   ]
  },
  {
   "cell_type": "markdown",
   "metadata": {},
   "source": [
    "<hr>\n",
    "<h3>在 Linux 平台上啟動提供跨網域 Ajax 呼叫服務（CORS）的 Flask SSL 網站（https）</h3>\n",
    "<p>\n",
    "CORS：Cross-Origin Resource Sharing，跨來源資訊共享\n",
    "</p>"
   ]
  },
  {
   "cell_type": "code",
   "execution_count": null,
   "metadata": {},
   "outputs": [],
   "source": [
    "# 在 Linux 平台上啟動提供跨網域 Ajax 呼叫服務（CORS）的 Flask SSL 網站（https）\n",
    "\n",
    "import ssl\n",
    "from flask import Flask\n",
    "from flask_cors import CORS\n",
    "\n",
    "# Flask App 建立\n",
    "\n",
    "app = Flask(__name__)\n",
    "\n",
    "# CORS 服務\n",
    "\n",
    "CORS(app, supports_credentials=True)\n",
    "\n",
    "# 網站路徑指派\n",
    "\n",
    "@app.route('/', methods=['GET'])\n",
    "\n",
    "# 網站根目錄，/ 或 /index\n",
    "\n",
    "def index():\n",
    "    html = '<h1 style=\"color:blue\">SSL Flask on Server</h1>'\n",
    "    return html\n",
    "\n",
    "# 啟動 SSL Flask 網站\n",
    "\n",
    "if __name__ == '__main__':\n",
    "    context = ssl.SSLContext(ssl.PROTOCOL_TLSv1_2)\n",
    "    context.load_cert_chain('fullchain.pem', 'privkey.pem')\n",
    "    app.run(host='0.0.0.0', port=10001, ssl_context=context, debug=True)\n"
   ]
  },
  {
   "cell_type": "markdown",
   "metadata": {},
   "source": [
    "<hr>\n",
    "<h3>有關 Linebot webhook 的 SSL 認證需求</h3>\n",
    "<pre>\n",
    "開發期間最方便的解決方案是 <strong style=\"color:red\">ngrok</strong>\n",
    "<a href=\"https://ngrok.com/\">https://ngrok.com/</a>\n",
    "在自己開發端的區域伺服器執行 ngrok 服務，\n",
    "透過 ngrok 轉送外界的全域封包至區域網路內，\n",
    "區域端 localhost 不需 domain name，也不需 SSL 認證（ngrok 提供認證）\n",
    "</pre>\n",
    "<pre>\n",
    "步驟：\n",
    "\n",
    "(1) <span style=\"color:orange\">申請 ngrok 帳號</span>\n",
    "(2) 進入 ngrok 官網，登入帳號\n",
    "(3) 下載 ngrok 工具檔案\n",
    "(4) 取得認證 token（官網登入後會提供）\n",
    "    <span style=\"color:red\">ngrok authtoken [token]</span>\n",
    "(5) 執行封包轉送服務\n",
    "    <span style=\"color:red\">ngrok http [port]</span>\n",
    "\n",
    "<span style=\"color:magenta\">（使用網域為本地的 email，gmail 會被認為是在 us，封包轉送會被禁止）</span>\n",
    "</pre>"
   ]
  },
  {
   "cell_type": "markdown",
   "metadata": {
    "collapsed": true
   },
   "source": [
    "<hr>\n",
    "<h3>Flask 網站固定虛擬目錄</h3>"
   ]
  },
  {
   "cell_type": "code",
   "execution_count": null,
   "metadata": {},
   "outputs": [],
   "source": [
    "# Flask 網站固定虛擬目錄\n",
    "\n",
    "from flask import Flask\n",
    "\n",
    "app = Flask(__name__)\n",
    "\n",
    "@app.route('/', methods=['GET'])\n",
    "\n",
    "def index():\n",
    "    html = '<h1 style=\"color:red\">Hello World from Flask</h1>'\n",
    "    return html\n",
    "\n",
    "@app.route('/aisd', methods=['GET'])\n",
    "\n",
    "def aisd():\n",
    "    html = '<h1 style=\"color:orange\">AISD Site on Flask</h1>'\n",
    "    return html\n",
    "\n",
    "if __name__ == '__main__':\n",
    "    app.run(host='127.0.0.1', port=10001)\n"
   ]
  },
  {
   "cell_type": "markdown",
   "metadata": {},
   "source": [
    "<hr>\n",
    "<h3>Flask 網站彈性虛擬目錄</h3>"
   ]
  },
  {
   "cell_type": "code",
   "execution_count": null,
   "metadata": {},
   "outputs": [],
   "source": [
    "# Flask 網站彈性虛擬目錄\n",
    "\n",
    "from flask import Flask\n",
    "\n",
    "app = Flask(__name__)\n",
    "\n",
    "@app.route('/', methods=['GET'])\n",
    "\n",
    "def index():\n",
    "    html = '<h1 style=\"color:red\">Hello World from Flask</h1>'\n",
    "    return html\n",
    "\n",
    "@app.route('/aisd', methods=['GET'])\n",
    "\n",
    "def aisd():\n",
    "    html = '<h1 style=\"color:orange\">AISD Site on Flask</h1>'\n",
    "    return html\n",
    "\n",
    "@app.route('/site/<path>', methods=['GET'])\n",
    "\n",
    "def site(path):\n",
    "    html = '<h1 style=\"color:orange\">Site ' + path + ' on Flask</h1>'\n",
    "    return html\n",
    "\n",
    "if __name__ == '__main__':\n",
    "    app.run(host='127.0.0.1', port=10001)\n"
   ]
  }
 ],
 "metadata": {
  "kernelspec": {
   "display_name": "Python 3 (ipykernel)",
   "language": "python",
   "name": "python3"
  },
  "language_info": {
   "codemirror_mode": {
    "name": "ipython",
    "version": 3
   },
   "file_extension": ".py",
   "mimetype": "text/x-python",
   "name": "python",
   "nbconvert_exporter": "python",
   "pygments_lexer": "ipython3",
   "version": "3.7.11"
  }
 },
 "nbformat": 4,
 "nbformat_minor": 2
}
