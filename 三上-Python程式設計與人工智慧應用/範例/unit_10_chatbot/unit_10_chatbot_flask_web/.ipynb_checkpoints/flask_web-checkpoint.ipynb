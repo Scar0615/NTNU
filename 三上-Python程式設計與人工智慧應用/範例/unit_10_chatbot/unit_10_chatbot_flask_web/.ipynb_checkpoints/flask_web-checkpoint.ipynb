{
 "cells": [
  {
   "cell_type": "markdown",
   "metadata": {},
   "source": [
    "<h1 align=\"center\">Flask Tutor - Wed Design</h1>\n",
    "<hr>\n",
    "<img src=\"https://flask.palletsprojects.com/en/1.1.x/_images/flask-logo.png\">\n",
    "<p style=\"text-align:center\">\n",
    "官方使用手冊<br>\n",
    "<a href=\"https://flask.palletsprojects.com/\">https://flask.palletsprojects.com/</a>\n",
    "</p>"
   ]
  },
  {
   "cell_type": "markdown",
   "metadata": {},
   "source": [
    "<hr>\n",
    "<h3>網頁含外部圖片（URL）</h3>"
   ]
  },
  {
   "cell_type": "code",
   "execution_count": null,
   "metadata": {
    "collapsed": true
   },
   "outputs": [],
   "source": [
    "# 網頁含外部圖片（URL）\n",
    "\n",
    "from flask import Flask\n",
    "\n",
    "app = Flask(__name__)\n",
    "\n",
    "@app.route('/', methods=['GET'])\n",
    "\n",
    "def index():\n",
    "    html = '<h1 style=\"color:red\">Web Design using Flask</h1>'\n",
    "    html = html + '<p><img src=\"https://flask.palletsprojects.com/en/1.1.x/_images/flask-logo.png\"></p>'\n",
    "    return html\n",
    "\n",
    "if __name__ == '__main__':\n",
    "    app.run(host='127.0.0.1', port=10001)\n"
   ]
  },
  {
   "cell_type": "markdown",
   "metadata": {},
   "source": [
    "<hr>\n",
    "<h3>網頁含內部圖片（檔案）</h3>\n",
    "<p><span style=\"color:red\">/static/</span> 素材檔案（含圖片）固定放置於這個資料夾內</p>"
   ]
  },
  {
   "cell_type": "code",
   "execution_count": null,
   "metadata": {
    "collapsed": true
   },
   "outputs": [],
   "source": [
    "# 網頁含內部圖片（檔案）\n",
    "\n",
    "from flask import Flask\n",
    "\n",
    "app = Flask(__name__)\n",
    "\n",
    "@app.route('/', methods=['GET'])\n",
    "\n",
    "def index():\n",
    "    html = '<h1 style=\"color:red\">Web Design using Flask</h1>'\n",
    "    html = html + '<p><img src=\"/static/happy.png\"></p>'\n",
    "    return html\n",
    "\n",
    "if __name__ == '__main__':\n",
    "    app.run(host='127.0.0.1', port=10001)\n"
   ]
  },
  {
   "cell_type": "markdown",
   "metadata": {},
   "source": [
    "<hr>\n",
    "<h3>外部超連結</h3>"
   ]
  },
  {
   "cell_type": "code",
   "execution_count": null,
   "metadata": {
    "collapsed": true
   },
   "outputs": [],
   "source": [
    "# 外部超連結\n",
    "\n",
    "from flask import Flask\n",
    "\n",
    "app = Flask(__name__)\n",
    "\n",
    "@app.route('/', methods=['GET'])\n",
    "\n",
    "def index():\n",
    "    html = '<h1 style=\"color:red\">Web Design using Flask</h1>'\n",
    "    html = html + '<p><a href=\"http://www.google.com.tw/\">Google</a></p>'\n",
    "    return html\n",
    "\n",
    "if __name__ == '__main__':\n",
    "    app.run(host='127.0.0.1', port=10001)\n"
   ]
  },
  {
   "cell_type": "markdown",
   "metadata": {
    "collapsed": true
   },
   "source": [
    "<hr>\n",
    "<h3>內部超連結（網頁檔案）</h3>"
   ]
  },
  {
   "cell_type": "code",
   "execution_count": null,
   "metadata": {
    "collapsed": true
   },
   "outputs": [],
   "source": [
    "# 內部超連結（網頁檔案）\n",
    "\n",
    "from flask import Flask\n",
    "\n",
    "app = Flask(__name__)\n",
    "\n",
    "@app.route('/', methods=['GET'])\n",
    "\n",
    "def index():\n",
    "    html = '<h1 style=\"color:red\">Web Design using Flask</h1>'\n",
    "    html = html + '<p><a href=\"/static/hello.html\">Hello</a></p>'\n",
    "    return html\n",
    "\n",
    "if __name__ == '__main__':\n",
    "    app.run(host='127.0.0.1', port=10001)\n"
   ]
  },
  {
   "cell_type": "markdown",
   "metadata": {},
   "source": [
    "<hr>\n",
    "<h3>模版網頁</h3>\n",
    "<p><span style=\"color:red\">/templates/</span> 模版網頁檔案固定放置於這個資料夾內</p>"
   ]
  },
  {
   "cell_type": "code",
   "execution_count": null,
   "metadata": {
    "collapsed": true
   },
   "outputs": [],
   "source": [
    "# 模版網頁\n",
    "\n",
    "from flask import Flask,render_template\n",
    "\n",
    "app = Flask(__name__)\n",
    "\n",
    "@app.route('/', methods=['GET'])\n",
    "\n",
    "def index():\n",
    "    html = render_template('t01.html')\n",
    "    return html\n",
    "\n",
    "if __name__ == '__main__':\n",
    "    app.run(host='127.0.0.1', port=10001)\n"
   ]
  },
  {
   "cell_type": "markdown",
   "metadata": {},
   "source": [
    "<hr>\n",
    "<h3>模版網頁 + POST 參數傳遞</h3>\n",
    "<pre>\n",
    "Flask 本身的網頁參數傳遞，一律以 <span style=\"color:red\">POST</span> 方式傳送\n",
    "若需要用 GET（網址傳送），建議使用 php 網頁，而非 Python Flask 的 template 網頁\n",
    "Flask 不要指定服務種類，否則無法傳遞，有 Internal Server Error\n",
    "<span style=\"color:orange\">@app.route('/')</span>\n",
    "</pre>"
   ]
  },
  {
   "cell_type": "code",
   "execution_count": null,
   "metadata": {
    "collapsed": true
   },
   "outputs": [],
   "source": [
    "# 模版網頁 + POST 參數傳遞\n",
    "\n",
    "from flask import Flask,render_template\n",
    "\n",
    "app = Flask(__name__)\n",
    "\n",
    "@app.route('/')\n",
    "\n",
    "def index():\n",
    "    html = render_template('t02.html', a='Hello', b=123)\n",
    "    return html\n",
    "\n",
    "if __name__ == '__main__':\n",
    "    app.run(host='127.0.0.1', port=10001)\n"
   ]
  },
  {
   "cell_type": "markdown",
   "metadata": {},
   "source": [
    "<hr>\n",
    "<h3>PHP 網頁 + GET 參數傳遞</h3>\n",
    "<pre>\n",
    "GET 參數傳遞（網址傳送），運用 php 網頁，需在有提供 php 服務的伺服器上測試\n",
    "透過 <span style=\"color:red\">redirect</span> 方法轉移網頁來進行，而非 Python Flask 的 template 網頁\n",
    "</pre>"
   ]
  },
  {
   "cell_type": "code",
   "execution_count": null,
   "metadata": {},
   "outputs": [],
   "source": [
    "# PHP 網頁 + GET 參數傳遞\n",
    "\n",
    "from flask import Flask,redirect\n",
    "\n",
    "app = Flask(__name__)\n",
    "\n",
    "@app.route('/')\n",
    "\n",
    "def index():\n",
    "    a = 'Hello'\n",
    "    b = 123\n",
    "    url = '/static/t03.php?a=' + a + '&b=' + str(123)\n",
    "    html = redirect(url)\n",
    "    return html\n",
    "\n",
    "# 除錯檢查\n",
    "# with app.test_request_context():\n",
    "#     print(url_for('index'))\n",
    "\n",
    "if __name__ == '__main__':\n",
    "    app.run(host='127.0.0.1', port=10001)\n"
   ]
  },
  {
   "cell_type": "markdown",
   "metadata": {},
   "source": [
    "<hr>\n",
    "<h3>外部以 GET 方式傳遞參數給 Flask 網站</h3>\n",
    "<pre>\n",
    "運用 Flask 的 <span style=\"color:red\">request.args.get</span> 物件\n",
    "Flask 網站本身必須提供 GET 服務\n",
    "以 URL 參數接收資料\n",
    "</pre>"
   ]
  },
  {
   "cell_type": "code",
   "execution_count": null,
   "metadata": {},
   "outputs": [],
   "source": [
    "# 外部以 GET 方式傳遞參數給 Flask 網站\n",
    "\n",
    "from flask import Flask,request\n",
    "\n",
    "app = Flask(__name__)\n",
    "\n",
    "@app.route('/', methods=['GET'])\n",
    "\n",
    "def index():\n",
    "    try:\n",
    "        a = request.args.get('a', default='', type=str)\n",
    "        b = request.args.get('b', default='', type=str)\n",
    "        html = '<h1>Get Data (GET)</h1>\\n'\n",
    "        html = html + '<pre>\\na = ' + a + '\\n' + 'b = ' + b + '\\n</pre>'\n",
    "    except:\n",
    "        html = '<h1>Data Error!</h1>'\n",
    "    return html\n",
    "\n",
    "if __name__ == '__main__':\n",
    "    app.run(host='127.0.0.1', port=10001)\n"
   ]
  },
  {
   "cell_type": "markdown",
   "metadata": {},
   "source": [
    "<hr>\n",
    "<h3>發出 requests.get 網頁服務要求</h3>"
   ]
  },
  {
   "cell_type": "code",
   "execution_count": null,
   "metadata": {},
   "outputs": [],
   "source": [
    "# 發出 requests.get 網頁服務要求\n",
    "\n",
    "import requests\n",
    "\n",
    "url = 'http://127.0.0.1:10001/?a=Hello&b=123'\n",
    "\n",
    "res = requests.get(url)\n",
    "txt = res.text\n",
    "\n",
    "print(txt)\n"
   ]
  },
  {
   "cell_type": "markdown",
   "metadata": {},
   "source": [
    "<hr>\n",
    "<h3>外部以 POST 方式傳遞參數給 Flask 網站</h3>\n",
    "<pre>\n",
    "運用 Flask 的 <span style=\"color:red\">request.values.get</span> 物件\n",
    "Flask 網站本身必須提供 POST 服務\n",
    "</pre>"
   ]
  },
  {
   "cell_type": "code",
   "execution_count": null,
   "metadata": {
    "collapsed": true
   },
   "outputs": [],
   "source": [
    "# 外部以 POST 方式傳遞參數給 Flask 網站\n",
    "\n",
    "from flask import Flask,request\n",
    "\n",
    "app = Flask(__name__)\n",
    "\n",
    "@app.route('/', methods=['POST'])\n",
    "\n",
    "def index():\n",
    "    try:\n",
    "        a = request.values.get('a', default='', type=str)\n",
    "        b = request.values.get('b', default='', type=str)\n",
    "        html = '<h1>Get Data (POST)</h1>\\n'\n",
    "        html = html + '<pre>\\na = ' + a + '\\n' + 'b = ' + b + '\\n</pre>'\n",
    "    except:\n",
    "        html = '<h1>Data Error!</h1>'\n",
    "    return html\n",
    "\n",
    "if __name__ == '__main__':\n",
    "    app.run(host='127.0.0.1', port=10001)\n"
   ]
  },
  {
   "cell_type": "markdown",
   "metadata": {},
   "source": [
    "<hr>\n",
    "<h3>發出 requests.post 網頁服務要求</h3>"
   ]
  },
  {
   "cell_type": "code",
   "execution_count": null,
   "metadata": {
    "collapsed": true
   },
   "outputs": [],
   "source": [
    "# 發出 requests.get 網頁服務要求\n",
    "\n",
    "import requests\n",
    "\n",
    "url = 'http://127.0.0.1:10001/'\n",
    "\n",
    "a = 'Hello'\n",
    "b = 123\n",
    "dic = { 'a':a, 'b':b }\n",
    "\n",
    "res = requests.post(url, data=dic)\n",
    "\n",
    "txt = res.text\n",
    "\n",
    "print(txt)\n"
   ]
  },
  {
   "cell_type": "markdown",
   "metadata": {},
   "source": [
    "<hr>\n",
    "<h3>外部以 POST (JSON) 方式傳遞參數給 Flask 網站</h3>\n",
    "<pre>\n",
    "運用 Flask 的 <span style=\"color:red\">request.get_json</span> 物件\n",
    "Flask 網站本身必須提供 POST 服務\n",
    "</pre>"
   ]
  },
  {
   "cell_type": "code",
   "execution_count": null,
   "metadata": {
    "collapsed": true
   },
   "outputs": [],
   "source": [
    "# 外部以 POST (JSON) 方式傳遞參數給 Flask 網站\n",
    "\n",
    "from flask import Flask,request\n",
    "import json\n",
    "\n",
    "app = Flask(__name__)\n",
    "\n",
    "@app.route('/', methods=['POST'])\n",
    "\n",
    "def index():\n",
    "    try:\n",
    "        dic = request.get_json()\n",
    "        for k in dic:\n",
    "            print('%s:%s' % (k, dic[k]))\n",
    "        html = '<h1>Get Data (POST)</h1>\\n'\n",
    "        html = html + '<p>' + str(dic) + '</p>'\n",
    "    except:\n",
    "        html = '<h1>Data Error!</h1>'\n",
    "    return html\n",
    "\n",
    "if __name__ == '__main__':\n",
    "    app.run(host='127.0.0.1', port=10001)\n"
   ]
  },
  {
   "cell_type": "markdown",
   "metadata": {},
   "source": [
    "<hr>\n",
    "<h3>發出 requests.post 網頁服務要求</h3>\n",
    "<p style=\"color:red\">以 JSON 格式傳送資料</p>"
   ]
  },
  {
   "cell_type": "code",
   "execution_count": null,
   "metadata": {},
   "outputs": [],
   "source": [
    "import requests\n",
    "import json\n",
    "\n",
    "data = { 'a':'Hello', 'b':123 }\n",
    "headers = {'Content-type': 'application/json', 'Accept': 'text/plain'}\n",
    "\n",
    "url = 'http://127.0.0.1:10001/'\n",
    "\n",
    "res = requests.post(url, data=json.dumps(data), headers=headers)\n",
    "txt = res.text\n",
    "\n",
    "print(txt)\n"
   ]
  }
 ],
 "metadata": {
  "kernelspec": {
   "display_name": "Python 3",
   "language": "python",
   "name": "python3"
  },
  "language_info": {
   "codemirror_mode": {
    "name": "ipython",
    "version": 3
   },
   "file_extension": ".py",
   "mimetype": "text/x-python",
   "name": "python",
   "nbconvert_exporter": "python",
   "pygments_lexer": "ipython3",
   "version": "3.8.10"
  }
 },
 "nbformat": 4,
 "nbformat_minor": 2
}
