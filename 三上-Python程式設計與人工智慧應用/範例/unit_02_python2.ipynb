{
 "cells": [
  {
   "cell_type": "markdown",
   "metadata": {
    "collapsed": true
   },
   "source": [
    "<h1 align=\"center\">Unit 02 - Python 2</h1>"
   ]
  },
  {
   "cell_type": "markdown",
   "metadata": {},
   "source": [
    "<hr>\n",
    "<h3 style=\"color:orange\">重點提示</h3>"
   ]
  },
  {
   "cell_type": "markdown",
   "metadata": {},
   "source": [
    "<hr>\n",
    "<h3>固定格式化語言</h3>\n",
    "<pre>\n",
    "與格式相關的語法結構（這是目前大部分電腦語言並沒有的特性，早期很多）\n",
    "利用『<span style=\"color:red\">冒號</span>』＋『縮排』代表不同的層次的命令區塊\n",
    "一個縮排階層是 <span style=\"color:red\">4 個空白字元（4 個 Space）</span>，\n",
    "Jupyter 一個 Tab 會自動輸入 4 個 Space，按下『ENTER』會自動排列\n",
    "部分工具需要手動輸入空白（如在一般 Linux 伺服器上的 python console）\n",
    "格式不對則表示為文法錯誤（Syntax Error）\n",
    "錯誤的格式安排可能導致語法錯誤（Symantic/Logic Error）\n",
    "</pre>"
   ]
  },
  {
   "cell_type": "markdown",
   "metadata": {},
   "source": [
    "<hr>\n",
    "<h3>語法形式</h3>\n",
    "<pre style=\"color:red\">\n",
    "\n",
    "<strong style=\"color:black\">完整的兩個選擇分支</strong>\n",
    "if 邏輯關係運算:\n",
    "    ...... # A 區塊命令列\n",
    "    ......\n",
    "else:\n",
    "    ...... # B 區塊命令列\n",
    "    ......\n",
    "\n",
    "<strong style=\"color:black\">簡化的一個選擇分支</strong>\n",
    "if 邏輯關係運算:\n",
    "    ...... # A 區塊命令列\n",
    "    ......\n",
    "\n",
    "<strong style=\"color:black\">巢狀選擇（Nested-if）流程控制</strong>\n",
    "<span style=\"color:black\">（if 內的區塊包含其他的 if）</span>\n",
    "if 邏輯關係運算:\n",
    "    ......\n",
    "    [其他的 if 結構]\n",
    "    ......\n",
    "else:\n",
    "    ......\n",
    "    [其他的 if 結構]\n",
    "    ......\n",
    "\n",
    "<strong style=\"color:black\">elif 的特殊巢狀選擇流程控制</strong>\n",
    "<span style=\"color:black\">（現今別的語言語法通常是 else if）</span>\n",
    "if 邏輯關係運算狀況1:\n",
    "    ...... # 狀況1的處理命令列\n",
    "    ......\n",
    "elif 邏輯關係運算狀況:\n",
    "    ...... # 狀況2的處理命令列\n",
    "    ......\n",
    "elif 邏輯關係運算狀況3:\n",
    "    ...... # 狀況3的處理命令列\n",
    "    ......\n",
    "elif ......\n",
    "    ......\n",
    "else:\n",
    "    ...... # 其餘狀況的處理命令列\n",
    "    ......\n",
    "\n",
    "<strong style=\"color:black\">例外處理</strong>\n",
    "<span style=\"color:black\">有時會發生不預期的錯誤，為防止程式被強迫終止，可以設計發生不預期狀況時應有的反應</span>\n",
    "try:\n",
    "    ...... # 原本應執行程序\n",
    "    ......\n",
    "except:\n",
    "    ...... # 發生錯誤時影處理程序（try 區塊曾處理過的所有執行過的動作一律取消，恢復成尚未執行前的狀態）\n",
    "    ......\n",
    "</pre>"
   ]
  },
  {
   "cell_type": "markdown",
   "metadata": {},
   "source": [
    "<hr>\n",
    "<h3 style=\"color:orange\">簡要介紹</h3>"
   ]
  },
  {
   "cell_type": "markdown",
   "metadata": {},
   "source": [
    "<hr>\n",
    "<h3>邏輯關係與邏輯值（布林值）</h3>"
   ]
  },
  {
   "cell_type": "code",
   "execution_count": null,
   "metadata": {},
   "outputs": [],
   "source": [
    "# 邏輯關係與邏輯值（布林值）\n",
    "\n",
    "# 數值資料\n",
    "x = 3\n",
    "y = 5\n",
    "\n",
    "# 數值資料算術計算結果\n",
    "print(x + y)\n",
    "\n",
    "# 數值資料邏輯關係判斷結果\n",
    "print(x == y)\n",
    "print(x <= y)\n",
    "print(x != y)\n",
    "\n",
    "# 邏輯資料與邏輯變數\n",
    "a = True\n",
    "b = False\n",
    "print(type(a), type(b))\n",
    "print(a, b)\n",
    "\n",
    "# 邏輯判斷結果就是邏輯資料（邏輯值）\n",
    "bool_value = x == y\n",
    "print(type(bool_value))\n",
    "print('bool_value = ', bool_value)\n",
    "bool_value = x != y\n",
    "print(type(bool_value))\n",
    "print('bool_value = ', bool_value)\n"
   ]
  },
  {
   "cell_type": "markdown",
   "metadata": {},
   "source": [
    "<hr>\n",
    "<h3>邏輯判斷與選擇流程控制</h3>\n",
    "<pre>\n",
    "<span style=\"color:red\">很容易忘記『冒號』！</span>\n",
    "</pre>"
   ]
  },
  {
   "cell_type": "code",
   "execution_count": null,
   "metadata": {},
   "outputs": [],
   "source": [
    "# 邏輯判斷與選擇流程控制\n",
    "\n",
    "# 等於\n",
    "x = 3\n",
    "if x == 3:\n",
    "    print('x 的數值等於 3')\n",
    "else:\n",
    "    print('x 的數值不等於 3')\n",
    "    \n",
    "# 不等於\n",
    "y = 5\n",
    "if (x != y):\n",
    "    print('x 與 y 的數值不相等')\n",
    "else:\n",
    "    print('x 與 y 的數值相等')\n"
   ]
  },
  {
   "cell_type": "markdown",
   "metadata": {},
   "source": [
    "<hr>\n",
    "<h3>複合邏輯（邏輯關係運算）</h3>"
   ]
  },
  {
   "cell_type": "code",
   "execution_count": null,
   "metadata": {},
   "outputs": [],
   "source": [
    "# 複合邏輯（邏輯關係運算）\n",
    "\n",
    "# 否（NOT）\n",
    "x = 3\n",
    "if not x == 3:\n",
    "    print('x 的數值不等於 3')\n",
    "else:\n",
    "    print('x 的數值等於 3')\n",
    "\n",
    "# 且（AND）\n",
    "x = 5\n",
    "if ((x > 3) and (x < 8)):\n",
    "    print('x 大於 3 而且 x 小於 8（x 在 3 與 8 之間）')\n",
    "else:\n",
    "    print('x 不在 3 與 8 之間')\n",
    "\n",
    "# 或（OR）\n",
    "x = 5\n",
    "if ((x < 3) or (x > 8)):\n",
    "    print('x 小於 3 或者 x 大於 8')\n",
    "else:\n",
    "    print('x 在 3 與 8 之間')\n"
   ]
  },
  {
   "cell_type": "markdown",
   "metadata": {},
   "source": [
    "<hr>\n",
    "<h3 style=\"color:orange\">隨堂範例</h3>"
   ]
  },
  {
   "cell_type": "markdown",
   "metadata": {
    "collapsed": true
   },
   "source": [
    "<hr>\n",
    "<h3 style=\"color:blue\">設計一個 Python 程式，輸入一個整數，計算其絕對植，並顯示結果。</h3>"
   ]
  },
  {
   "cell_type": "code",
   "execution_count": null,
   "metadata": {},
   "outputs": [],
   "source": [
    "x = int(input('Enter an integer: '))\n",
    "if (x >= 0):\n",
    "    a = x\n",
    "else:\n",
    "    a = -x\n",
    "print('%d 的絕對值是 %d' % (x, a))"
   ]
  },
  {
   "cell_type": "markdown",
   "metadata": {
    "collapsed": true
   },
   "source": [
    "<hr>\n",
    "<h3 style=\"color:blue\">設計一個 Python 程式，輸入一個數字，計算其平方根，並顯示結果，若不能計算需顯示提示說明。</h3>"
   ]
  },
  {
   "cell_type": "code",
   "execution_count": null,
   "metadata": {},
   "outputs": [],
   "source": [
    "import math\n",
    "\n",
    "x = float(input('Enter a number: '))\n",
    "\n",
    "if (x >= 0):\n",
    "    s = math.sqrt(x)\n",
    "    print('sqrt of %6.2f = %8.4f' % (x, s))\n",
    "else:\n",
    "    print('%6.2f is a negative number.' % (x))\n"
   ]
  },
  {
   "cell_type": "markdown",
   "metadata": {
    "collapsed": true
   },
   "source": [
    "<hr>\n",
    "<h3 style=\"color:blue\">設計一個 Python 程式，輸入一個正整數 x，判斷 x 是奇數或偶數，並顯示結果。</h3>\n",
    "<pre>\n",
    "提示：\n",
    "運用 % 餘數運算\n",
    "</pre>"
   ]
  },
  {
   "cell_type": "code",
   "execution_count": null,
   "metadata": {},
   "outputs": [],
   "source": [
    "x = int(input('Enter a positive inetger: '))\n",
    "\n",
    "if (x % 2 == 0):\n",
    "    print(x, ' is an even number.')\n",
    "else:\n",
    "    print(x, ' is an odd number.')\n"
   ]
  },
  {
   "cell_type": "markdown",
   "metadata": {
    "collapsed": true
   },
   "source": [
    "<hr>\n",
    "<h3 style=\"color:blue\">設計一個 Python 程式，輸入兩個數字 a 與 b，判斷這兩個數字的大小，由大而小顯示這兩個數字。</h3>"
   ]
  },
  {
   "cell_type": "code",
   "execution_count": null,
   "metadata": {},
   "outputs": [],
   "source": [
    "a = int(input('a: '))\n",
    "b = int(input('b: '))\n",
    "\n",
    "if (a >= b):\n",
    "    t = '輸入：%d %d，排列：%d %d' % (a, b, a, b)\n",
    "else:\n",
    "    t = '輸入：%d %d，排列：%d %d' % (a, b, b, a)\n",
    "print(t)\n"
   ]
  },
  {
   "cell_type": "markdown",
   "metadata": {},
   "source": [
    "<hr>\n",
    "<h3 style=\"color:blue\">設計一個 Python 程式，輸入三個數字 a、b、c，判斷這三個數字的大小，是否由大至小正確排列？</h3>"
   ]
  },
  {
   "cell_type": "code",
   "execution_count": null,
   "metadata": {},
   "outputs": [],
   "source": [
    "a = int(input('a: '))\n",
    "b = int(input('b: '))\n",
    "c = int(input('c: '))\n",
    "\n",
    "if ((a >= b) and (b >= c)):\n",
    "    t = 'a = %d, b = %d, c = %d 是由大至小排列' % (a, b, c)\n",
    "else:\n",
    "    t = 'a = %d, b = %d, c = %d 不是由大至小排列' % (a, b, c)\n",
    "print(t)\n",
    "    "
   ]
  },
  {
   "cell_type": "markdown",
   "metadata": {},
   "source": [
    "<hr>\n",
    "<h3 style=\"color:blue\">設計一個 Python 程式，輸入三個數字 a、b、c，判斷這三個數字的大小，是否依序出現（由小至大或由大至小皆可）？</h3>"
   ]
  },
  {
   "cell_type": "code",
   "execution_count": null,
   "metadata": {},
   "outputs": [],
   "source": [
    "a = int(input('a: '))\n",
    "b = int(input('b: '))\n",
    "c = int(input('c: '))\n",
    "\n",
    "# a >= b >= c OR a <= b <= c\n",
    "if ((a >= b) and (b >= c)) or ((a <= b) and (b <= c)):\n",
    "    t = 'a = %d, b = %d, c = %d 是依序排列' % (a, b, c)\n",
    "else:\n",
    "    t = 'a = %d, b = %d, c = %d 不是依序排列' % (a, b, c)\n",
    "print(t)\n"
   ]
  },
  {
   "cell_type": "markdown",
   "metadata": {},
   "source": [
    "<hr>\n",
    "<h3 style=\"color:blue\">設計一個 Python 程式，輸入三個數字 a, b, c，找出最大的數字，並顯示結果。</h3>\n",
    "<pre>\n",
    "提示：\n",
    "純粹邏輯思考的練功，暫時不用系統內建的 max 函數，m = max(a, b, c)\n",
    "絕對需要先設計或構思清楚預計採用的演算法，才依據演算法來設計程式\n",
    "三個典型策略\n",
    "    巢狀選擇結構\n",
    "    複合邏輯條件\n",
    "    特殊演算法（線性搜尋法）\n",
    "</pre>"
   ]
  },
  {
   "cell_type": "code",
   "execution_count": null,
   "metadata": {},
   "outputs": [],
   "source": [
    "# 巢狀選擇結構\n",
    "\n",
    "a = int(input('a: '))\n",
    "b = int(input('b: '))\n",
    "c = int(input('c: '))\n",
    "\n",
    "if (a >= b):\n",
    "    # a, b\n",
    "    if (a >= c):\n",
    "        # a, (b, c)\n",
    "        m = a\n",
    "    else:\n",
    "        # c, a, b\n",
    "        m = c\n",
    "else:\n",
    "    # b, a\n",
    "    if (b >= c):\n",
    "        # b, (a, c)\n",
    "        m = b\n",
    "    else:\n",
    "        # c, b, a\n",
    "        m = c\n",
    "\n",
    "print(m)\n"
   ]
  },
  {
   "cell_type": "code",
   "execution_count": null,
   "metadata": {},
   "outputs": [],
   "source": [
    "# 複合邏輯條件\n",
    "\n",
    "a = int(input('a: '))\n",
    "b = int(input('b: '))\n",
    "c = int(input('c: '))\n",
    "\n",
    "if ((a >= b) and (a >= c)):\n",
    "    m = a\n",
    "if ((b >= a) and (b >= c)):\n",
    "    m = b\n",
    "if ((c >= a) and (c >= b)):\n",
    "    m = c\n",
    "\n",
    "print(m)\n"
   ]
  },
  {
   "cell_type": "code",
   "execution_count": null,
   "metadata": {},
   "outputs": [],
   "source": [
    "# 線性搜尋法\n",
    "\n",
    "a = int(input('a: '))\n",
    "b = int(input('b: '))\n",
    "c = int(input('c: '))\n",
    "\n",
    "m = a\n",
    "\n",
    "if (b >= m):\n",
    "    m = b\n",
    "\n",
    "if (c >= m):\n",
    "    m = c\n",
    "\n",
    "print(m)\n"
   ]
  },
  {
   "cell_type": "markdown",
   "metadata": {},
   "source": [
    "<hr>\n",
    "<h3 style=\"color:blue\">設計一個 Python 程式，計算手機的通話費用，輸入網內及網外兩項通話時間秒數 s1 與 s2，依照某行動通訊業者『國際大嘴巴（International Big Mouth，IBM）』專案的費率如下：</h3>\n",
    "<pre>\n",
    "<strong style=\"color:blue\">\n",
    "(1) 網內每秒 0.01 元\n",
    "(2) 網外，100 分鐘以內，每秒 0.07 元\n",
    "(3) 網外，100 分鐘至 200 分鐘，每秒 0.05 元\n",
    "(4) 網外，200 分鐘至 300 分鐘，每秒 0.03 元\n",
    "(5) 網外，300 分鐘以上，每秒 0.02 元</strong>\n",
    "</pre>\n",
    "<h3 style=\"color:blue\">計算並顯示網內與網外合計之通話費用。</h3>\n",
    "<pre>\n",
    "參考測試數據\n",
    "s1: 10000, s2: 20000\n",
    "收費：1040\n",
    "</pre>"
   ]
  },
  {
   "cell_type": "code",
   "execution_count": null,
   "metadata": {},
   "outputs": [],
   "source": [
    "s1 = int(input('s1: '))\n",
    "s2 = int(input('s2: '))\n",
    "\n",
    "c = 0.01 * s1\n",
    "\n",
    "if (s2 <= 100*60):\n",
    "    c = c + 0.07 * s2\n",
    "elif (s2 <= 200*60):\n",
    "    c = c + 0.07 * 100*60 + 0.05 * (s2-100*60)\n",
    "elif (s2 <= 300*60):\n",
    "    c = c + 0.07 * 100*60 + 0.05 * (200-100)*60 + 0.03 * (s2-200*60)\n",
    "else:\n",
    "    c = c + 0.07 * 100*60 + 0.05 * (200-100)*60 + 0.03 * (300-200)*60 + 0.02 * (s2-300*60)\n",
    "\n",
    "print(c)\n"
   ]
  },
  {
   "cell_type": "markdown",
   "metadata": {},
   "source": [
    "<hr>\n",
    "<h3 style=\"color:blue\">設計一個 Python 程式，先在螢幕上顯示以下列表：</h3>\n",
    "<pre>\n",
    "<strong style=\"color:blue\">\n",
    "1. 美式咖啡，NT$40\n",
    "2. 義式咖啡，NT$60\n",
    "3. 咖啡拿鐵，NT$80\n",
    "4. 摩卡咖啡，NT$80\n",
    "5. 冰特調咖啡，NT$50\n",
    "6. 特級冰滴咖啡，NT$100</strong>\n",
    "</pre>\n",
    "<h3 style=\"color:blue\">輸入你的選項（1、2、3、4、5、6）與數量 n，確認你的選項計算並顯示總價。</h3>"
   ]
  },
  {
   "cell_type": "code",
   "execution_count": null,
   "metadata": {},
   "outputs": [],
   "source": [
    "print('1. 美式咖啡，NT$40')\n",
    "print('2. 義式咖啡，NT$60')\n",
    "print('3. 咖啡拿鐵，NT$80')\n",
    "print('4. 摩卡咖啡，NT$80')\n",
    "print('5. 冰特調咖啡，NT$50')\n",
    "print('6. 特級冰滴咖啡，NT$100')\n",
    "\n",
    "s = int(input('選擇（1-6）：'))\n",
    "n = int(input('數量：'))\n",
    "\n",
    "if (s == 1):\n",
    "    c = 40 * n\n",
    "elif (s == 2):\n",
    "    c = 60 * n\n",
    "elif (s == 3):\n",
    "    c = 80 * n\n",
    "elif (s == 4):\n",
    "    c = 80 * n\n",
    "elif (s == 5):\n",
    "    c = 50 * n\n",
    "elif (s == 6):\n",
    "    c = 100 * n\n",
    "else:\n",
    "    print('選擇錯誤！')\n",
    "    c = -9999\n",
    "\n",
    "print('總價：', c)\n",
    "    "
   ]
  },
  {
   "cell_type": "markdown",
   "metadata": {},
   "source": [
    "<hr>\n",
    "<h3 style=\"color:blue\">寫一個 Python 程式，輸入三角形的三邊長 a, b, c，計算並顯示三角形面積，若不能構成三角形應有適當提示。</h3>\n",
    "<pre>\n",
    "提示：\n",
    "Heron's formula（海倫公式、海龍公式）\n",
    "<a href=\"https://en.wikipedia.org/wiki/Heron%27s_formula\">https://en.wikipedia.org/wiki/Heron%27s_formula</a>\n",
    "</pre>"
   ]
  },
  {
   "cell_type": "code",
   "execution_count": null,
   "metadata": {},
   "outputs": [],
   "source": [
    "import math\n",
    "\n",
    "a = float(input('a: '))\n",
    "b = float(input('b: '))\n",
    "c = float(input('c: '))\n",
    "\n",
    "s = (a + b + c) / 2\n",
    "\n",
    "try:\n",
    "    area = math.sqrt(s*(s-a)*(s-b)*(s-c))\n",
    "    print('area = ', area)\n",
    "except:\n",
    "    print('不能構成三角形！（Math Error）')\n"
   ]
  },
  {
   "cell_type": "markdown",
   "metadata": {},
   "source": [
    "<hr>\n",
    "<h3 style=\"color:orange\">隨堂練習</h3>"
   ]
  },
  {
   "cell_type": "markdown",
   "metadata": {},
   "source": [
    "<hr>\n",
    "<h3 style=\"color:green\">\n",
    "設計一個 Python 程式，輸入三個數字 a, b, c，找出最小的數字，並顯示結果在螢幕上。</h3>\n",
    "<pre>\n",
    "暫時不用系統內建 min 函數\n",
    "三種策略都應該嘗試\n",
    "</pre>"
   ]
  },
  {
   "cell_type": "code",
   "execution_count": null,
   "metadata": {},
   "outputs": [],
   "source": []
  },
  {
   "cell_type": "markdown",
   "metadata": {},
   "source": [
    "<hr>\n",
    "<h3 style=\"color:green\">\n",
    "設計一個 Python 程式，輸入體重（kg）與身高（cm），計算並顯示 BMI 數值，同時顯示 BMI 數值所對應的建議。\n",
    "</h3>\n",
    "<pre>\n",
    "提示：\n",
    "BMI = kg / (m^2), m = meter\n",
    "國健署健康九九網站，BMI 計算機\n",
    "<a href=\"http://health99.hpa.gov.tw/OnlinkHealth/Onlink_BMI.aspx\">http://health99.hpa.gov.tw/OnlinkHealth/Onlink_BMI.aspx</a>\n",
    "</pre>"
   ]
  },
  {
   "cell_type": "code",
   "execution_count": null,
   "metadata": {},
   "outputs": [],
   "source": []
  }
 ],
 "metadata": {
  "kernelspec": {
   "display_name": "Python 3",
   "language": "python",
   "name": "python3"
  },
  "language_info": {
   "codemirror_mode": {
    "name": "ipython",
    "version": 3
   },
   "file_extension": ".py",
   "mimetype": "text/x-python",
   "name": "python",
   "nbconvert_exporter": "python",
   "pygments_lexer": "ipython3",
   "version": "3.8.8"
  }
 },
 "nbformat": 4,
 "nbformat_minor": 2
}
