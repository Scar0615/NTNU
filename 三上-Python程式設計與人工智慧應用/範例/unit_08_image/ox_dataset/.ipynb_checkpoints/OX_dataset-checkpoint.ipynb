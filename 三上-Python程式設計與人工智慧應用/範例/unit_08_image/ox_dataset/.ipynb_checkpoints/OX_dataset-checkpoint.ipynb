{
 "cells": [
  {
   "cell_type": "markdown",
   "metadata": {},
   "source": [
    "<h1 align=\"center\">O/X Dataset of Symbol Recognition</h1>\n",
    "<table>\n",
    "    <tr><td><img src=\"o_all.png\" width=\"300\"></td><td><img src=\"x_all.png\" width=\"300\"></td></tr>\n",
    "</table>\n",
    "<hr>\n",
    "<pre>\n",
    "50 'O' + 50 'X' 樣本\n",
    "\n",
    "OX_images/\n",
    "    O000.png ... O049.png\n",
    "    X000.png ... X049.png\n",
    "\n",
    "尺寸不一樣\n",
    "O 尺寸：294x255\n",
    "X 尺寸：291x257\n",
    "</pre>"
   ]
  },
  {
   "cell_type": "markdown",
   "metadata": {},
   "source": [
    "<hr>\n",
    "<h3>讀取並顯示資料夾中所有圖片影像</h3>"
   ]
  },
  {
   "cell_type": "code",
   "execution_count": null,
   "metadata": {},
   "outputs": [],
   "source": [
    "# 讀取並顯示資料夾中所有圖片影像\n",
    "\n",
    "import numpy as np\n",
    "import cv2\n",
    "import glob\n",
    "\n",
    "files = glob.glob('OX_samples/*')\n",
    "\n",
    "# print(files)\n",
    "\n",
    "cv2.namedWindow('O/X')\n",
    "for f in files:\n",
    "    print(f)\n",
    "    x = cv2.imread(f)\n",
    "    z = cv2.resize(x, (256,256))\n",
    "    cv2.imshow('O/X', z)\n",
    "    cv2.waitKey(100)\n",
    "\n",
    "cv2.destroyAllWindows()\n"
   ]
  },
  {
   "cell_type": "markdown",
   "metadata": {},
   "source": [
    "<hr>\n",
    "<h3>正規化儲存</h3>"
   ]
  },
  {
   "cell_type": "code",
   "execution_count": null,
   "metadata": {},
   "outputs": [],
   "source": [
    "# 正規化儲存\n",
    "\n",
    "import numpy as np\n",
    "import cv2\n",
    "import glob\n",
    "\n",
    "files = glob.glob('OX_samples/*')\n",
    "\n",
    "# print(files)\n",
    "\n",
    "cv2.namedWindow('O/X')\n",
    "for f in files:\n",
    "    name = f[11:]\n",
    "    # print(f)\n",
    "    x = cv2.imread(f)\n",
    "    z = cv2.resize(x, (32,32))\n",
    "    z = 255 - z\n",
    "    nf = 'OX_normal/%s' % (name)\n",
    "    cv2.imwrite(nf, z)\n",
    "    cv2.imshow('O/X', z)\n",
    "    cv2.waitKey(100)\n",
    "\n",
    "cv2.destroyAllWindows()\n"
   ]
  },
  {
   "cell_type": "markdown",
   "metadata": {},
   "source": [
    "<hr>\n",
    "<h3>建立資料集</h3>\n",
    "<pre>\n",
    "前 40 'O' + 40 'X' 作為訓練樣本（Training samples，<span style=\"color:red\">ox_train_image.pkl + ox_train_labels.pkl</span>）\n",
    "後 10 'O' + 10 'X' 作為測試樣本（Testing samples，<span style=\"color:red\">ox_test_images.pkl + ox_test_labels.pkl</span>）\n",
    "</pre>"
   ]
  },
  {
   "cell_type": "code",
   "execution_count": null,
   "metadata": {},
   "outputs": [],
   "source": [
    "# 建立資料集\n",
    "\n",
    "import numpy as np\n",
    "import cv2\n",
    "import glob\n",
    "import pickle\n",
    "\n",
    "size = 32\n",
    "\n",
    "files = glob.glob('OX_samples/*')\n",
    "\n",
    "ox_train_images = np.zeros([80,size,size], dtype='uint8')\n",
    "ox_train_labels = np.zeros([80,2], dtype='uint8')\n",
    "ox_test_images = np.zeros([20,size,size], dtype='uint8')\n",
    "ox_test_labels = np.zeros([20,2], dtype='uint8')\n",
    "\n",
    "i = 0\n",
    "for f in files:\n",
    "    # print(f)\n",
    "    x = cv2.imread(f)\n",
    "    z = cv2.resize(x, (32,32))\n",
    "    z = cv2.cvtColor(z, cv2.COLOR_BGR2GRAY)\n",
    "    z = 255 - z\n",
    "    if (i < 40):\n",
    "        ox_train_images[i,:,:] = z\n",
    "        ox_train_labels[i,:] = np.asarray([1,0])\n",
    "    elif (i < 50):\n",
    "        ox_test_images[i-40,:,:] = z\n",
    "        ox_test_labels[i-40,:] = np.asarray([1,0])\n",
    "    elif (i < 90):\n",
    "        ox_train_images[40+i-50,:,:] = z\n",
    "        ox_train_labels[40+i-50,:] = np.asarray([0,1])\n",
    "    else:\n",
    "        ox_test_images[10+i-90,:,:] = z\n",
    "        ox_test_labels[10+i-90,:] = np.asarray([0,1])\n",
    "    i = i + 1\n",
    "\n",
    "with open('ox_train_images.pkl', 'wb') as fp:\n",
    "    pickle.dump(ox_train_images, fp)\n",
    "fp.close()\n",
    "\n",
    "with open('ox_train_labels.pkl', 'wb') as fp:\n",
    "    pickle.dump(ox_train_labels, fp)\n",
    "fp.close()\n",
    "\n",
    "with open('ox_test_images.pkl', 'wb') as fp:\n",
    "    pickle.dump(ox_test_images, fp)\n",
    "fp.close()\n",
    "\n",
    "with open('ox_test_labels.pkl', 'wb') as fp:\n",
    "    pickle.dump(ox_test_labels, fp)\n",
    "fp.close()\n"
   ]
  },
  {
   "cell_type": "markdown",
   "metadata": {},
   "source": [
    "<hr>\n",
    "<h3>載入資料集，驗證</h3>"
   ]
  },
  {
   "cell_type": "code",
   "execution_count": null,
   "metadata": {},
   "outputs": [],
   "source": [
    "# 載入資料集，驗證\n",
    "\n",
    "import pickle\n",
    "import cv2\n",
    "\n",
    "with open('ox_train_images.pkl', 'rb') as fp:\n",
    "    ox_train_images = pickle.load(fp)\n",
    "fp.close()\n",
    "\n",
    "with open('ox_train_labels.pkl', 'rb') as fp:\n",
    "    ox_train_labels = pickle.load(fp)\n",
    "fp.close()\n",
    "\n",
    "with open('ox_test_images.pkl', 'rb') as fp:\n",
    "    ox_test_images = pickle.load(fp)\n",
    "fp.close()\n",
    "\n",
    "with open('ox_test_labels.pkl', 'rb') as fp:\n",
    "    ox_test_labels = pickle.load(fp)\n",
    "fp.close()\n",
    "\n",
    "cv2.namedWindow('O/X')\n",
    "n = len(ox_train_images)\n",
    "for i in range(n):\n",
    "    z = ox_train_images[i,:,:]\n",
    "    cv2.imshow('O/X', z)\n",
    "    cv2.waitKey(100)\n",
    "n = len(ox_test_images)\n",
    "for i in range(n):\n",
    "    z = ox_test_images[i,:,:]\n",
    "    cv2.imshow('O/X', z)\n",
    "    cv2.waitKey(100)\n",
    "cv2.destroyAllWindows()\n"
   ]
  }
 ],
 "metadata": {
  "kernelspec": {
   "display_name": "Python 3",
   "language": "python",
   "name": "python3"
  },
  "language_info": {
   "codemirror_mode": {
    "name": "ipython",
    "version": 3
   },
   "file_extension": ".py",
   "mimetype": "text/x-python",
   "name": "python",
   "nbconvert_exporter": "python",
   "pygments_lexer": "ipython3",
   "version": "3.8.3"
  }
 },
 "nbformat": 4,
 "nbformat_minor": 4
}
