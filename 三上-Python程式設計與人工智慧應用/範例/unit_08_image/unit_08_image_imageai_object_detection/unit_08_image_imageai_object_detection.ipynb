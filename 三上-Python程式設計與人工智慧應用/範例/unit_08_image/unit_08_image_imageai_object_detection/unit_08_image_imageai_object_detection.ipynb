{
 "cells": [
  {
   "cell_type": "markdown",
   "metadata": {},
   "source": [
    "<h1 align=\"center\">ImageAI Object Detection</h1>\n",
    "<img src=\"imageAI_logo.png\" width=\"300\">\n",
    "<hr>\n",
    "<pre>\n",
    "ImageAI 官網：\n",
    "<blockquote><a href=\"http://imageai.org\">http://imageai.org</a></blockquote>\n",
    "GitHub (codes, examples, data, ...)：\n",
    "<blockquote><a href=\"https://github.com/OlafenwaMoses/ImageAI\">https://github.com/OlafenwaMoses/ImageAI</a></blockquote>\n",
    "官方說明：\n",
    "<blockquote><a href=\"https://imageai.readthedocs.io/en/latest/\">https://imageai.readthedocs.io/en/latest/</a></blockquote>\n",
    "</pre>"
   ]
  },
  {
   "cell_type": "markdown",
   "metadata": {},
   "source": [
    "<hr>\n",
    "<h3>ImageAI 安裝（建立 imageai 虛擬環境）</h3>\n",
    "<pre>\n",
    "注意版本，以下為測試過的版本（2020-06-14，MacBook Pro）\n",
    "<blockquote style=\"color:orange\">\n",
    "conda create --name imageai python=3.7.6\n",
    "conda activate imageai\n",
    "conda install jupyter\n",
    "（注意 pip.exe 的路徑，虛擬環境中的 Script）\n",
    "pip install numpy==1.16.6\n",
    "pip install opencv-python\n",
    "pip install tensorflow==1.4.0\n",
    "pip install keras==2.2.0\n",
    "pip install imageai\n",
    "<br>\n",
    "<span style=\"color:black\">（注意：h5py 模組在 3.0.0 版本以後會有問題，model 無法載入，需要更新為舊的模組）</span>\n",
    "pip3 install h5py==2.9\n",
    "</blockquote>\n",
    "</pre>"
   ]
  },
  {
   "cell_type": "markdown",
   "metadata": {},
   "source": [
    "<hr>\n",
    "<h3>版本測試</h3>"
   ]
  },
  {
   "cell_type": "code",
   "execution_count": null,
   "metadata": {},
   "outputs": [],
   "source": [
    "import numpy as np\n",
    "import cv2\n",
    "import tensorflow as tf\n",
    "import keras\n",
    "import imageai\n",
    "\n",
    "print(np.__version__)\n",
    "print(cv2.__version__)\n",
    "print(tf.__version__)\n",
    "print(keras.__version__)"
   ]
  },
  {
   "cell_type": "markdown",
   "metadata": {},
   "source": [
    "<hr>\n",
    "<h3>載入 ImageAI Object Detection Model</h3>\n",
    "<p>\n",
    "<strong style=\"color:red\">ResNet50 (CoCo)</strong><br>\n",
    "Download from\n",
    "<a href=\"https://github.com/OlafenwaMoses/ImageAI/releases/tag/1.0\">\n",
    "https://github.com/OlafenwaMoses/ImageAI/releases/tag/1.0\n",
    "</a>\n",
    "</p>"
   ]
  },
  {
   "cell_type": "code",
   "execution_count": null,
   "metadata": {},
   "outputs": [],
   "source": [
    "# 載入 ImageAI Object Detection Model (RasNet)\n",
    "\n",
    "from imageai.Detection import ObjectDetection\n",
    "\n",
    "rasnet = ObjectDetection()\n",
    "\n",
    "rasnet.setModelTypeAsRetinaNet()\n",
    "rasnet.setModelPath('resnet50_coco_best_v2.0.1.h5')\n",
    "\n",
    "rasnet.loadModel()\n"
   ]
  },
  {
   "cell_type": "markdown",
   "metadata": {},
   "source": [
    "<hr>\n",
    "<h3>RasNet 測試＆顯示</h3>"
   ]
  },
  {
   "cell_type": "code",
   "execution_count": null,
   "metadata": {},
   "outputs": [],
   "source": [
    "# RasNet 測試＆顯示\n",
    "\n",
    "detections = rasnet.detectObjectsFromImage(\n",
    "    # input_image='fruit.jpg',\n",
    "    # output_image_path='fruit_detected.jpg',\n",
    "    # input_image='street.jpg',\n",
    "    # output_image_path='street_detected.jpg',\n",
    "    input_image='meeting.jpg',\n",
    "    output_image_path='meeting_detected.jpg',\n",
    "    minimum_percentage_probability=40)\n",
    "\n",
    "for eachObject in detections:\n",
    "    name = eachObject[\"name\"]\n",
    "    prob = eachObject[\"percentage_probability\"]\n",
    "    bbox = eachObject[\"box_points\"]\n",
    "    x0, y0, x1, y1 = bbox[0], bbox[1], bbox[2], bbox[3]\n",
    "    t = 'Object=[%-8s] Prob=%10.6f%% BBox=(%4d,%4d)-(%4d,%4d)' % (name, prob, x0, y0, x1, y1)\n",
    "    print(t)\n"
   ]
  },
  {
   "cell_type": "markdown",
   "metadata": {},
   "source": [
    "<hr>\n",
    "<h3>載入 ImageAI Object Detection Model</h3>\n",
    "<p>\n",
    "<strong style=\"color:red\">YOLOv3</strong><br>\n",
    "Download from\n",
    "<a href=\"https://github.com/OlafenwaMoses/ImageAI/releases/tag/1.0\">\n",
    "https://github.com/OlafenwaMoses/ImageAI/releases/tag/1.0\n",
    "</a>\n",
    "</p>"
   ]
  },
  {
   "cell_type": "code",
   "execution_count": null,
   "metadata": {},
   "outputs": [],
   "source": [
    "# 載入 ImageAI Object Detection Model (YOLOv3)\n",
    "\n",
    "from imageai.Detection import ObjectDetection\n",
    "\n",
    "yolo = ObjectDetection()\n",
    "\n",
    "yolo.setModelTypeAsYOLOv3()\n",
    "yolo.setModelPath('yolo.h5')\n",
    "\n",
    "yolo.loadModel()"
   ]
  },
  {
   "cell_type": "markdown",
   "metadata": {},
   "source": [
    "<hr>\n",
    "<h3>YOLOv3 測試＆顯示</h3>"
   ]
  },
  {
   "cell_type": "code",
   "execution_count": null,
   "metadata": {},
   "outputs": [],
   "source": [
    "# YOLOv3 測試＆顯示\n",
    "\n",
    "detections = yolo.detectObjectsFromImage(\n",
    "    input_image='fruit.jpg',\n",
    "    output_image_path='fruit_detected.jpg',\n",
    "    minimum_percentage_probability=40)\n",
    "\n",
    "for eachObject in detections:\n",
    "    name = eachObject[\"name\"]\n",
    "    prob = eachObject[\"percentage_probability\"]\n",
    "    bbox = eachObject[\"box_points\"]\n",
    "    x0, y0, x1, y1 = bbox[0], bbox[1], bbox[2], bbox[3]\n",
    "    t = 'Object=[%-12s] Prob=%10.6f%% BBox=(%4d,%4d)-(%4d,%4d)' % (name, prob, x0, y0, x1, y1)\n",
    "    print(t)\n"
   ]
  }
 ],
 "metadata": {
  "kernelspec": {
   "display_name": "Python 3",
   "language": "python",
   "name": "python3"
  },
  "language_info": {
   "codemirror_mode": {
    "name": "ipython",
    "version": 3
   },
   "file_extension": ".py",
   "mimetype": "text/x-python",
   "name": "python",
   "nbconvert_exporter": "python",
   "pygments_lexer": "ipython3",
   "version": "3.6.12"
  }
 },
 "nbformat": 4,
 "nbformat_minor": 2
}
