{
 "cells": [
  {
   "cell_type": "markdown",
   "metadata": {},
   "source": [
    "<h1 align=\"center\">Symbol Recognition of O/X Dataset Using MLP</h1>\n",
    "<table>\n",
    "    <tr><td><img src=\"images/o_all.png\" width=\"300\"></td><td><img src=\"images/x_all.png\" width=\"300\"></td></tr>\n",
    "</table>"
   ]
  },
  {
   "cell_type": "markdown",
   "metadata": {},
   "source": [
    "<hr>\n",
    "<h3>載入資料集，驗證</h3>"
   ]
  },
  {
   "cell_type": "code",
   "execution_count": 1,
   "metadata": {},
   "outputs": [],
   "source": [
    "# 載入資料集，驗證\n",
    "\n",
    "import pickle\n",
    "import cv2\n",
    "\n",
    "with open('data/ox_train_images.pkl', 'rb') as fp:\n",
    "    ox_train_images = pickle.load(fp)\n",
    "fp.close()\n",
    "\n",
    "with open('data/ox_train_labels.pkl', 'rb') as fp:\n",
    "    ox_train_labels = pickle.load(fp)\n",
    "fp.close()\n",
    "\n",
    "with open('data/ox_test_images.pkl', 'rb') as fp:\n",
    "    ox_test_images = pickle.load(fp)\n",
    "fp.close()\n",
    "\n",
    "with open('data/ox_test_labels.pkl', 'rb') as fp:\n",
    "    ox_test_labels = pickle.load(fp)\n",
    "fp.close()\n",
    "\n",
    "cv2.namedWindow('O/X')\n",
    "n = len(ox_train_images)\n",
    "for i in range(n):\n",
    "    z = ox_train_images[i,:,:]\n",
    "    cv2.imshow('O/X', z)\n",
    "    cv2.waitKey(100)\n",
    "n = len(ox_test_images)\n",
    "for i in range(n):\n",
    "    z = ox_test_images[i,:,:]\n",
    "    cv2.imshow('O/X', z)\n",
    "    cv2.waitKey(100)\n",
    "cv2.destroyAllWindows()\n"
   ]
  },
  {
   "cell_type": "markdown",
   "metadata": {},
   "source": [
    "<hr>\n",
    "<h3>觀察樣本資料維度</h3>"
   ]
  },
  {
   "cell_type": "code",
   "execution_count": 2,
   "metadata": {},
   "outputs": [
    {
     "name": "stdout",
     "output_type": "stream",
     "text": [
      "(80, 32, 32)\n",
      "(80, 2)\n",
      "(20, 32, 32)\n",
      "(20, 2)\n"
     ]
    }
   ],
   "source": [
    "# 觀察樣本資料維度\n",
    "\n",
    "print(ox_train_images.shape)\n",
    "print(ox_train_labels.shape)\n",
    "print(ox_test_images.shape)\n",
    "print(ox_test_labels.shape)\n"
   ]
  },
  {
   "cell_type": "markdown",
   "metadata": {},
   "source": [
    "<hr>\n",
    "<h3>扁平化（Flatten）訓練影像（二維影像轉換為一維特徵向量）</h3>"
   ]
  },
  {
   "cell_type": "code",
   "execution_count": 3,
   "metadata": {},
   "outputs": [
    {
     "name": "stdout",
     "output_type": "stream",
     "text": [
      "(80, 1024)\n",
      "(80, 2)\n"
     ]
    }
   ],
   "source": [
    "# 扁平化（Flatten）訓練影像（二維影像轉換為一維特徵向量）\n",
    "\n",
    "x0 = ox_train_images.reshape(80,32*32)\n",
    "y0 = ox_train_labels\n",
    "\n",
    "print(x0.shape)\n",
    "print(y0.shape)\n"
   ]
  },
  {
   "cell_type": "markdown",
   "metadata": {},
   "source": [
    "<hr>\n",
    "<h3>建立訓練集 Tensors</h3>"
   ]
  },
  {
   "cell_type": "code",
   "execution_count": 4,
   "metadata": {},
   "outputs": [
    {
     "name": "stdout",
     "output_type": "stream",
     "text": [
      "tensor([[0., 0., 0.,  ..., 0., 0., 0.],\n",
      "        [0., 0., 0.,  ..., 0., 0., 0.],\n",
      "        [0., 0., 0.,  ..., 0., 0., 0.],\n",
      "        ...,\n",
      "        [0., 0., 0.,  ..., 0., 0., 0.],\n",
      "        [0., 0., 0.,  ..., 0., 0., 0.],\n",
      "        [0., 0., 0.,  ..., 0., 0., 0.]])\n",
      "tensor([[1., 0.],\n",
      "        [1., 0.],\n",
      "        [1., 0.],\n",
      "        [1., 0.],\n",
      "        [1., 0.],\n",
      "        [1., 0.],\n",
      "        [1., 0.],\n",
      "        [1., 0.],\n",
      "        [1., 0.],\n",
      "        [1., 0.],\n",
      "        [1., 0.],\n",
      "        [1., 0.],\n",
      "        [1., 0.],\n",
      "        [1., 0.],\n",
      "        [1., 0.],\n",
      "        [1., 0.],\n",
      "        [1., 0.],\n",
      "        [1., 0.],\n",
      "        [1., 0.],\n",
      "        [1., 0.],\n",
      "        [1., 0.],\n",
      "        [1., 0.],\n",
      "        [1., 0.],\n",
      "        [1., 0.],\n",
      "        [1., 0.],\n",
      "        [1., 0.],\n",
      "        [1., 0.],\n",
      "        [1., 0.],\n",
      "        [1., 0.],\n",
      "        [1., 0.],\n",
      "        [1., 0.],\n",
      "        [1., 0.],\n",
      "        [1., 0.],\n",
      "        [1., 0.],\n",
      "        [1., 0.],\n",
      "        [1., 0.],\n",
      "        [1., 0.],\n",
      "        [1., 0.],\n",
      "        [1., 0.],\n",
      "        [1., 0.],\n",
      "        [0., 1.],\n",
      "        [0., 1.],\n",
      "        [0., 1.],\n",
      "        [0., 1.],\n",
      "        [0., 1.],\n",
      "        [0., 1.],\n",
      "        [0., 1.],\n",
      "        [0., 1.],\n",
      "        [0., 1.],\n",
      "        [0., 1.],\n",
      "        [0., 1.],\n",
      "        [0., 1.],\n",
      "        [0., 1.],\n",
      "        [0., 1.],\n",
      "        [0., 1.],\n",
      "        [0., 1.],\n",
      "        [0., 1.],\n",
      "        [0., 1.],\n",
      "        [0., 1.],\n",
      "        [0., 1.],\n",
      "        [0., 1.],\n",
      "        [0., 1.],\n",
      "        [0., 1.],\n",
      "        [0., 1.],\n",
      "        [0., 1.],\n",
      "        [0., 1.],\n",
      "        [0., 1.],\n",
      "        [0., 1.],\n",
      "        [0., 1.],\n",
      "        [0., 1.],\n",
      "        [0., 1.],\n",
      "        [0., 1.],\n",
      "        [0., 1.],\n",
      "        [0., 1.],\n",
      "        [0., 1.],\n",
      "        [0., 1.],\n",
      "        [0., 1.],\n",
      "        [0., 1.],\n",
      "        [0., 1.],\n",
      "        [0., 1.]])\n"
     ]
    }
   ],
   "source": [
    "# 建立訓練集 Tensors\n",
    "\n",
    "import torch\n",
    "\n",
    "x = torch.from_numpy(x0).float()\n",
    "y = torch.from_numpy(y0).float()\n",
    "\n",
    "print(x)\n",
    "print(y)\n"
   ]
  },
  {
   "cell_type": "markdown",
   "metadata": {},
   "source": [
    "<hr>\n",
    "<h3>建立 MLP 模型</h3>"
   ]
  },
  {
   "cell_type": "code",
   "execution_count": 5,
   "metadata": {},
   "outputs": [
    {
     "name": "stdout",
     "output_type": "stream",
     "text": [
      "MLPNet(\n",
      "  (fc1): Linear(in_features=1024, out_features=128, bias=True)\n",
      "  (fc2): Linear(in_features=128, out_features=16, bias=True)\n",
      "  (fc3): Linear(in_features=16, out_features=2, bias=True)\n",
      ")\n"
     ]
    }
   ],
   "source": [
    "# 建立 MLP 模型\n",
    "\n",
    "import torch.nn as nn\n",
    "\n",
    "class MLPNet(nn.Module):\n",
    "    def __init__(self):\n",
    "        super(MLPNet, self).__init__()\n",
    "        # 1024 inputs -> 128 hiddens --> 16 hiddens --> 2 outputs\n",
    "        self.fc1 = nn.Linear(1024, 128)\n",
    "        self.fc2 = nn.Linear(128, 16)\n",
    "        self.fc3 = nn.Linear(16, 2)\n",
    "    def forward(self, x):\n",
    "        x = self.fc1(x).sigmoid()\n",
    "        x = self.fc2(x).sigmoid()\n",
    "        x = self.fc3(x).sigmoid()\n",
    "        return x\n",
    "\n",
    "mlp = MLPNet()\n",
    "\n",
    "print(mlp)\n"
   ]
  },
  {
   "cell_type": "markdown",
   "metadata": {},
   "source": [
    "<hr>\n",
    "<h3>MLP 訓練</h3>"
   ]
  },
  {
   "cell_type": "code",
   "execution_count": 6,
   "metadata": {},
   "outputs": [
    {
     "name": "stdout",
     "output_type": "stream",
     "text": [
      "epoch =      0, loss =   0.25138551\n",
      "epoch =     10, loss =   0.17715217\n",
      "epoch =     20, loss =   0.14235599\n",
      "epoch =     30, loss =   0.11685989\n",
      "epoch =     40, loss =   0.09833296\n",
      "epoch =     50, loss =   0.08440344\n",
      "epoch =     60, loss =   0.07349205\n",
      "epoch =     70, loss =   0.06463897\n",
      "epoch =     80, loss =   0.05718330\n",
      "epoch =     90, loss =   0.05078288\n",
      "epoch =    100, loss =   0.04528184\n",
      "epoch =    110, loss =   0.04059545\n",
      "epoch =    120, loss =   0.03661466\n",
      "epoch =    130, loss =   0.03321796\n",
      "epoch =    140, loss =   0.03029745\n",
      "epoch =    150, loss =   0.02776594\n",
      "epoch =    160, loss =   0.02555485\n",
      "epoch =    170, loss =   0.02361027\n",
      "epoch =    180, loss =   0.02188951\n",
      "epoch =    190, loss =   0.02035838\n",
      "epoch =    200, loss =   0.01898919\n",
      "epoch =    210, loss =   0.01775860\n",
      "epoch =    220, loss =   0.01664917\n",
      "epoch =    230, loss =   0.01564481\n",
      "epoch =    240, loss =   0.01473226\n",
      "epoch =    250, loss =   0.01390043\n",
      "epoch =    260, loss =   0.01313987\n",
      "epoch =    270, loss =   0.01244252\n",
      "epoch =    280, loss =   0.01180142\n",
      "epoch =    290, loss =   0.01121058\n",
      "epoch =    300, loss =   0.01066477\n",
      "epoch =    310, loss =   0.01015944\n",
      "epoch =    320, loss =   0.00969061\n",
      "epoch =    330, loss =   0.00925479\n",
      "epoch =    340, loss =   0.00884889\n",
      "epoch =    350, loss =   0.00847016\n",
      "epoch =    360, loss =   0.00811582\n",
      "epoch =    370, loss =   0.00778447\n",
      "epoch =    380, loss =   0.00747385\n",
      "epoch =    390, loss =   0.00718219\n",
      "epoch =    400, loss =   0.00690794\n",
      "epoch =    410, loss =   0.00664973\n",
      "epoch =    420, loss =   0.00640628\n",
      "epoch =    430, loss =   0.00617649\n",
      "epoch =    440, loss =   0.00595932\n",
      "epoch =    450, loss =   0.00575385\n",
      "epoch =    460, loss =   0.00555923\n",
      "epoch =    470, loss =   0.00537470\n",
      "epoch =    480, loss =   0.00519955\n",
      "epoch =    490, loss =   0.00503314\n",
      "epoch =    500, loss =   0.00487490\n",
      "epoch =    510, loss =   0.00472427\n",
      "epoch =    520, loss =   0.00458077\n",
      "epoch =    530, loss =   0.00444396\n",
      "epoch =    540, loss =   0.00431339\n",
      "epoch =    550, loss =   0.00418871\n",
      "epoch =    560, loss =   0.00406954\n",
      "epoch =    570, loss =   0.00395556\n",
      "epoch =    580, loss =   0.00384647\n",
      "epoch =    590, loss =   0.00374198\n",
      "epoch =    600, loss =   0.00364182\n",
      "epoch =    610, loss =   0.00354578\n",
      "epoch =    620, loss =   0.00345360\n",
      "epoch =    630, loss =   0.00336508\n",
      "epoch =    640, loss =   0.00328003\n",
      "epoch =    650, loss =   0.00319827\n",
      "epoch =    660, loss =   0.00311961\n",
      "epoch =    670, loss =   0.00304382\n",
      "epoch =    680, loss =   0.00297092\n",
      "epoch =    690, loss =   0.00290069\n",
      "epoch =    700, loss =   0.00283299\n",
      "epoch =    710, loss =   0.00276769\n",
      "epoch =    720, loss =   0.00270469\n",
      "epoch =    730, loss =   0.00264387\n",
      "epoch =    740, loss =   0.00258513\n",
      "epoch =    750, loss =   0.00252838\n",
      "epoch =    760, loss =   0.00247352\n",
      "epoch =    770, loss =   0.00242046\n",
      "epoch =    780, loss =   0.00236914\n",
      "epoch =    790, loss =   0.00231947\n",
      "epoch =    800, loss =   0.00227138\n",
      "epoch =    810, loss =   0.00222480\n",
      "epoch =    820, loss =   0.00217967\n",
      "epoch =    830, loss =   0.00213592\n",
      "epoch =    840, loss =   0.00209350\n",
      "epoch =    850, loss =   0.00205236\n",
      "epoch =    860, loss =   0.00201244\n",
      "epoch =    870, loss =   0.00197369\n",
      "epoch =    880, loss =   0.00193607\n",
      "epoch =    890, loss =   0.00189953\n",
      "epoch =    900, loss =   0.00186404\n",
      "epoch =    910, loss =   0.00182954\n",
      "epoch =    920, loss =   0.00179600\n",
      "epoch =    930, loss =   0.00176339\n",
      "epoch =    940, loss =   0.00173167\n",
      "epoch =    950, loss =   0.00170081\n",
      "epoch =    960, loss =   0.00167078\n",
      "epoch =    970, loss =   0.00164154\n",
      "epoch =    980, loss =   0.00161307\n",
      "epoch =    990, loss =   0.00158533\n"
     ]
    }
   ],
   "source": [
    "# MLP 訓練\n",
    "\n",
    "import torch\n",
    "import torch.nn as nn\n",
    "import torch.optim as optim\n",
    "import numpy as np\n",
    "\n",
    "# 樣本數\n",
    "N = len(x)\n",
    "\n",
    "EPOCH = 1000\n",
    "\n",
    "# preparing training samples\n",
    "# (Ready)\n",
    "\n",
    "# shuffling definition\n",
    "def shuffling(x, y):\n",
    "    x_out = torch.randn(N, 1024)\n",
    "    y_out = torch.randn(N, 2)\n",
    "    idx = [i for i in range(N)]\n",
    "    idx = np.random.permutation(idx)\n",
    "    for i in range(N):\n",
    "        x_out[i] = x[idx[i]]\n",
    "        y_out[i] = y[idx[i]]\n",
    "    return x_out, y_out\n",
    "\n",
    "# Loss function\n",
    "criterion = nn.MSELoss()\n",
    "# Optimizer\n",
    "# optimizer = optim.SGD(mlp.parameters(), lr=0.01)\n",
    "optimizer = optim.Adam(mlp.parameters(), lr=0.001)\n",
    "\n",
    "# training\n",
    "for epoch in range(EPOCH):\n",
    "    # zero the gradient buffers\n",
    "    optimizer.zero_grad()\n",
    "    # shuffling\n",
    "    x_new, y_new = shuffling(x, y)\n",
    "    # feed foreward\n",
    "    output = mlp(x_new)\n",
    "    # evaluating loss\n",
    "    loss = criterion(output, y_new)\n",
    "    # display loss\n",
    "    if (epoch % 10 == 0):\n",
    "        print('epoch = %6d, loss = %12.8f' % (epoch, loss))\n",
    "    # feed backward\n",
    "    loss.backward()\n",
    "    # update parameters\n",
    "    optimizer.step()\n"
   ]
  },
  {
   "cell_type": "markdown",
   "metadata": {},
   "source": [
    "<hr>\n",
    "<h3>扁平化（Flatten）測試影像（二維影像轉換為一維特徵向量）</h3>"
   ]
  },
  {
   "cell_type": "code",
   "execution_count": 7,
   "metadata": {},
   "outputs": [
    {
     "name": "stdout",
     "output_type": "stream",
     "text": [
      "(20, 1024)\n",
      "(20, 2)\n"
     ]
    }
   ],
   "source": [
    "# 扁平化（Flatten）測試影像（二維影像轉換為一維特徵向量）\n",
    "\n",
    "x0 = ox_test_images.reshape(20,32*32)\n",
    "y0 = ox_test_labels\n",
    "\n",
    "print(x0.shape)\n",
    "print(y0.shape)\n"
   ]
  },
  {
   "cell_type": "markdown",
   "metadata": {},
   "source": [
    "<hr>\n",
    "<h3>建立測試集 Tensors</h3>"
   ]
  },
  {
   "cell_type": "code",
   "execution_count": 8,
   "metadata": {},
   "outputs": [
    {
     "name": "stdout",
     "output_type": "stream",
     "text": [
      "tensor([[0., 0., 0.,  ..., 0., 0., 0.],\n",
      "        [0., 0., 0.,  ..., 0., 0., 0.],\n",
      "        [0., 0., 0.,  ..., 0., 0., 0.],\n",
      "        ...,\n",
      "        [0., 0., 0.,  ..., 0., 0., 0.],\n",
      "        [0., 0., 0.,  ..., 0., 0., 0.],\n",
      "        [0., 0., 0.,  ..., 0., 0., 0.]])\n",
      "tensor([[1., 0.],\n",
      "        [1., 0.],\n",
      "        [1., 0.],\n",
      "        [1., 0.],\n",
      "        [1., 0.],\n",
      "        [1., 0.],\n",
      "        [1., 0.],\n",
      "        [1., 0.],\n",
      "        [1., 0.],\n",
      "        [1., 0.],\n",
      "        [0., 1.],\n",
      "        [0., 1.],\n",
      "        [0., 1.],\n",
      "        [0., 1.],\n",
      "        [0., 1.],\n",
      "        [0., 1.],\n",
      "        [0., 1.],\n",
      "        [0., 1.],\n",
      "        [0., 1.],\n",
      "        [0., 1.]])\n"
     ]
    }
   ],
   "source": [
    "# 建立測試集 Tensors\n",
    "\n",
    "import torch\n",
    "\n",
    "xt = torch.from_numpy(x0).float()\n",
    "yt = torch.from_numpy(y0).float()\n",
    "\n",
    "print(xt)\n",
    "print(yt)\n"
   ]
  },
  {
   "cell_type": "markdown",
   "metadata": {},
   "source": [
    "<hr>\n",
    "<h3>饋入 MLP 整批測試</h3>"
   ]
  },
  {
   "cell_type": "code",
   "execution_count": 9,
   "metadata": {},
   "outputs": [
    {
     "name": "stdout",
     "output_type": "stream",
     "text": [
      "[0.966418,0.043954] vs. [1,0]\n",
      "[0.966418,0.043954] vs. [1,0]\n",
      "[0.966418,0.043954] vs. [1,0]\n",
      "[0.966392,0.043989] vs. [1,0]\n",
      "[0.966418,0.043954] vs. [1,0]\n",
      "[0.966418,0.043954] vs. [1,0]\n",
      "[0.966418,0.043954] vs. [1,0]\n",
      "[0.966300,0.044102] vs. [1,0]\n",
      "[0.966315,0.044081] vs. [1,0]\n",
      "[0.966418,0.043954] vs. [1,0]\n",
      "[0.035467,0.956197] vs. [0,1]\n",
      "[0.036231,0.955254] vs. [0,1]\n",
      "[0.035404,0.956278] vs. [0,1]\n",
      "[0.035404,0.956278] vs. [0,1]\n",
      "[0.035444,0.956225] vs. [0,1]\n",
      "[0.035515,0.956135] vs. [0,1]\n",
      "[0.036200,0.955288] vs. [0,1]\n",
      "[0.037937,0.953233] vs. [0,1]\n",
      "[0.035404,0.956278] vs. [0,1]\n",
      "[0.035648,0.955970] vs. [0,1]\n",
      "Accuracy = 20 / 20\n"
     ]
    }
   ],
   "source": [
    "# 饋入 MLP 整批測試\n",
    "\n",
    "output = mlp(xt)\n",
    "\n",
    "olst = output.tolist()\n",
    "\n",
    "n = len(olst)\n",
    "\n",
    "correct = 0\n",
    "for i in range(n):\n",
    "    o = olst[i]\n",
    "    if (o[0] > o[1]) and (yt[i][0] > yt[i][1]):\n",
    "        correct = correct + 1\n",
    "    if (o[0] < o[1]) and (yt[i][0] < yt[i][1]):\n",
    "        correct = correct + 1\n",
    "    t = '[%8.6f,%8.6f] vs. [%d,%d]' % (o[0], o[1], yt[i][0], yt[i][1])\n",
    "    print(t)\n",
    "\n",
    "print('Accuracy = %d / %d' % (correct, n))\n"
   ]
  }
 ],
 "metadata": {
  "kernelspec": {
   "display_name": "Python 3 (ipykernel)",
   "language": "python",
   "name": "python3"
  },
  "language_info": {
   "codemirror_mode": {
    "name": "ipython",
    "version": 3
   },
   "file_extension": ".py",
   "mimetype": "text/x-python",
   "name": "python",
   "nbconvert_exporter": "python",
   "pygments_lexer": "ipython3",
   "version": "3.7.11"
  }
 },
 "nbformat": 4,
 "nbformat_minor": 4
}
