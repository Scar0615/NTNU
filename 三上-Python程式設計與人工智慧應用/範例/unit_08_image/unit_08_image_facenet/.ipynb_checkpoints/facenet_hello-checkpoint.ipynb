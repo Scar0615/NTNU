{
 "cells": [
  {
   "cell_type": "markdown",
   "metadata": {},
   "source": [
    "<h1 align=\"center\">Face Detection Using Facenet-PyTorch</h1>"
   ]
  },
  {
   "cell_type": "markdown",
   "metadata": {},
   "source": [
    "<hr>\n",
    "<h3>載入工具</h3>"
   ]
  },
  {
   "cell_type": "code",
   "execution_count": 1,
   "metadata": {},
   "outputs": [],
   "source": [
    "# 載入工具\n",
    "\n",
    "from facenet_pytorch import MTCNN\n",
    "import torch\n",
    "import numpy as np\n",
    "import cv2\n"
   ]
  },
  {
   "cell_type": "markdown",
   "metadata": {},
   "source": [
    "<hr>\n",
    "<h3>偵測 GPU</h3>"
   ]
  },
  {
   "cell_type": "code",
   "execution_count": 2,
   "metadata": {},
   "outputs": [
    {
     "name": "stdout",
     "output_type": "stream",
     "text": [
      "Running on device: cpu\n"
     ]
    }
   ],
   "source": [
    "# 偵測 GPU\n",
    "\n",
    "device = torch.device('cuda:0' if torch.cuda.is_available() else 'cpu')\n",
    "print('Running on device: %s' % (device))\n"
   ]
  },
  {
   "cell_type": "markdown",
   "metadata": {},
   "source": [
    "<hr>\n",
    "<h3>建立 MTCNN 模型</h3>"
   ]
  },
  {
   "cell_type": "code",
   "execution_count": 3,
   "metadata": {},
   "outputs": [],
   "source": [
    "# 建立 MTCNN 模型\n",
    "\n",
    "mtcnn = MTCNN(keep_all=True, device=device)\n"
   ]
  },
  {
   "cell_type": "markdown",
   "metadata": {},
   "source": [
    "<hr>\n",
    "<h3>讀取並顯示含人臉影像畫面</h3>\n",
    "<p>（畫面影像等比例縮圖才進行後續偵測與其它運用）</p>"
   ]
  },
  {
   "cell_type": "code",
   "execution_count": null,
   "metadata": {},
   "outputs": [],
   "source": [
    "# 讀取並顯示含人臉影像畫面\n",
    "\n",
    "img0 = cv2.imread('face.jpg')\n",
    "\n",
    "h0, w0, _ = img0.shape\n",
    "\n",
    "h = 256\n",
    "w = int(w0*256/h0)\n",
    "\n",
    "img = cv2.resize(img0, (w,h))\n",
    "\n",
    "# print(img0.shape)\n",
    "# print(img.shape)\n",
    "\n",
    "cv2.namedWindow('Face')\n",
    "cv2.imshow('Face', img)\n",
    "cv2.waitKey(5000)\n",
    "cv2.destroyWindow('Face')\n"
   ]
  },
  {
   "cell_type": "markdown",
   "metadata": {},
   "source": [
    "<hr>\n",
    "<h3>MTCNN 偵測人臉</h3>"
   ]
  },
  {
   "cell_type": "code",
   "execution_count": null,
   "metadata": {},
   "outputs": [],
   "source": [
    "# MTCNN 偵測人臉\n",
    " \n",
    "boxes, _ = mtcnn.detect(img)\n",
    "\n",
    "print(boxes)\n"
   ]
  },
  {
   "cell_type": "markdown",
   "metadata": {},
   "source": [
    "<hr>\n",
    "<h3>繪製人臉加框畫面</h3>"
   ]
  },
  {
   "cell_type": "code",
   "execution_count": null,
   "metadata": {},
   "outputs": [],
   "source": [
    "# 繪製人臉加框畫面\n",
    "    \n",
    "img_boxes = img.copy()\n",
    "\n",
    "for box in boxes:\n",
    "    print(box)\n",
    "    cv2.rectangle(img_boxes, (box[0], box[1]), (box[2], box[3]), (0, 255, 0), 2)\n",
    "\n",
    "cv2.namedWindow('Face')\n",
    "cv2.imshow('Face', img_boxes)\n",
    "cv2.waitKey(5000)\n",
    "cv2.destroyWindow('Face')\n"
   ]
  },
  {
   "cell_type": "markdown",
   "metadata": {},
   "source": [
    "<hr>\n",
    "<h3>儲存加框人臉畫面影像</h3>"
   ]
  },
  {
   "cell_type": "code",
   "execution_count": null,
   "metadata": {},
   "outputs": [],
   "source": [
    "# 儲存加框人臉畫面影像\n",
    "\n",
    "cv2.imwrite('face_boxes.jpg', img_boxes)\n",
    "\n",
    "print('偵測儲存完畢！')\n"
   ]
  },
  {
   "cell_type": "markdown",
   "metadata": {},
   "source": [
    "<hr>\n",
    "<h3 style=\"color:orange\">Facenet 人臉偵測測試（整合版，批次執行版）</h3>\n",
    "<pre>\n",
    "frames 資料夾：待測 image frames（*.jpg）\n",
    "boxes  資料夾：加框人臉影像（縮圖）\n",
    "</pre>"
   ]
  },
  {
   "cell_type": "code",
   "execution_count": null,
   "metadata": {},
   "outputs": [],
   "source": [
    "# Facenet 人臉偵測測試（整合版）\n",
    "\n",
    "# 載入工具\n",
    "\n",
    "from facenet_pytorch import MTCNN\n",
    "import torch\n",
    "import numpy as np\n",
    "import cv2\n",
    "import glob\n",
    "\n",
    "# 偵測 GPU\n",
    "\n",
    "device = torch.device('cuda:0' if torch.cuda.is_available() else 'cpu')\n",
    "print('Running on device: %s' % (device))\n",
    "\n",
    "# 建立 MTCNN 模型\n",
    "\n",
    "mtcnn = MTCNN(keep_all=True, device=device)\n",
    "\n",
    "# 批次處理\n",
    "\n",
    "files = glob.glob('frames/*.jpg')\n",
    "\n",
    "for f in files:\n",
    "    print(f)\n",
    "    # 讀取並顯示含人臉影像畫面\n",
    "    img0 = cv2.imread(f)\n",
    "    h0, w0, _ = img0.shape\n",
    "    h = 270\n",
    "    w = int(w0*270/h0)\n",
    "    img = cv2.resize(img0, (w,h))\n",
    "    # print(img0.shape)\n",
    "    # print(img.shape)\n",
    "    # cv2.namedWindow('Face')\n",
    "    # cv2.imshow('Face', img)\n",
    "    # cv2.waitKey(5000)\n",
    "    # cv2.destroyWindow('Face')\n",
    "    # MTCNN 偵測人臉\n",
    "    boxes, _ = mtcnn.detect(img)\n",
    "    # print(boxes)\n",
    "    # 繪製人臉加框畫面\n",
    "    img_boxes = img.copy()\n",
    "    for box in boxes:\n",
    "        # print(box)\n",
    "        cv2.rectangle(img_boxes, (box[0], box[1]), (box[2], box[3]), (0, 255, 0), 2)\n",
    "    # cv2.namedWindow('Face')\n",
    "    # cv2.imshow('Face', img_boxes)\n",
    "    # cv2.waitKey(5000)\n",
    "    # cv2.destroyWindow('Face')\n",
    "    # 儲存加框人臉畫面影像\n",
    "    f_boxes = 'boxes/'+ f[7:-4] + '_boxes.jpg'\n",
    "    cv2.imwrite(f_boxes, img_boxes)\n",
    "    # print('偵測儲存完畢！')\n",
    "\n",
    "print('批次處理完畢，一共 %d 個畫面影像' % (len(files)))\n"
   ]
  }
 ],
 "metadata": {
  "kernelspec": {
   "display_name": "Python 3",
   "language": "python",
   "name": "python3"
  },
  "language_info": {
   "codemirror_mode": {
    "name": "ipython",
    "version": 3
   },
   "file_extension": ".py",
   "mimetype": "text/x-python",
   "name": "python",
   "nbconvert_exporter": "python",
   "pygments_lexer": "ipython3",
   "version": "3.6.12"
  }
 },
 "nbformat": 4,
 "nbformat_minor": 2
}
