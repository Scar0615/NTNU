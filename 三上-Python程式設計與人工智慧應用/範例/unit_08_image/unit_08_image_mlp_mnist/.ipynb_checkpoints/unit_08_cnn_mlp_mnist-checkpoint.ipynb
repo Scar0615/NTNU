{
 "cells": [
  {
   "cell_type": "markdown",
   "metadata": {},
   "source": [
    "<h1 align=\"center\">MNIST Dataset of Handwritten Digit Recognition（待完成）</h1>\n",
    "<img src=\"images/mnist.png\">\n",
    "<hr>\n",
    "<h3>下載 MNIST 資料集</h3>\n",
    "<p>\n",
    "放在 data 資料夾下\n",
    "</p>"
   ]
  },
  {
   "cell_type": "code",
   "execution_count": null,
   "metadata": {},
   "outputs": [],
   "source": [
    "# 下載 MNIST 資料集\n",
    "\n",
    "import torchvision.datasets as datasets\n",
    "\n",
    "mnist_train = datasets.MNIST(root='./data', train=True, download=True, transform=None)\n",
    "mnist_test = datasets.MNIST(root='./data', train=False, download=True, transform=None)\n"
   ]
  },
  {
   "cell_type": "code",
   "execution_count": null,
   "metadata": {},
   "outputs": [],
   "source": [
    "# 檢驗樣本數\n",
    "\n",
    "print(len(mnist_train))\n",
    "print(len(mnist_test))"
   ]
  },
  {
   "cell_type": "markdown",
   "metadata": {},
   "source": [
    "<hr>\n",
    "<h3>觀察驗證樣本</h3>\n",
    "<pre>\n",
    "早期需要將影像格式由 PIL Image 格式（RGB）轉換為 OpenCV 格式（BGR）\n",
    "目前似乎 MNIST 的 PIL Image（Gray）不能轉換\n",
    "</pre>"
   ]
  },
  {
   "cell_type": "code",
   "execution_count": null,
   "metadata": {},
   "outputs": [],
   "source": [
    "# 觀察驗證樣本\n",
    "\n",
    "import cv2\n",
    "from PIL import Image\n",
    "import numpy as np\n",
    "\n",
    "n = len(mnist_train)\n",
    "\n",
    "i = np.random.randint(0, n-1)\n",
    "img = mnist_train[i][0]\n",
    "lbl = mnist_train[i][1]\n",
    "\n",
    "print('label = ', lbl)\n",
    "\n",
    "# 影像格式由 PIL Image 格式（RGB）轉換為 OpenCV 格式（BGR）\n",
    "# z = cv2.cvtColor(np.asarray(img), cv2.COLOR_RGB2BGR)\n",
    "z = np.asarray(img)\n",
    "cv2.imshow('MNIST', z)\n",
    "cv2.waitKey(5000)\n",
    "\n",
    "cv2.destroyAllWindows()\n"
   ]
  },
  {
   "cell_type": "markdown",
   "metadata": {},
   "source": [
    "<hr>\n",
    "<h3>檢查樣本影像的維度</h3>"
   ]
  },
  {
   "cell_type": "code",
   "execution_count": null,
   "metadata": {},
   "outputs": [],
   "source": [
    "print(z.shape)"
   ]
  },
  {
   "cell_type": "markdown",
   "metadata": {},
   "source": [
    "<hr>\n",
    "<h3>建立訓練集 Tensors（同時，扁平化（Flatten）訓練影像）</h3>"
   ]
  },
  {
   "cell_type": "code",
   "execution_count": null,
   "metadata": {},
   "outputs": [],
   "source": []
  },
  {
   "cell_type": "markdown",
   "metadata": {},
   "source": [
    "<hr>\n",
    "<h3>建立 MLP 模型</h3>"
   ]
  },
  {
   "cell_type": "code",
   "execution_count": null,
   "metadata": {},
   "outputs": [],
   "source": []
  },
  {
   "cell_type": "markdown",
   "metadata": {},
   "source": [
    "<hr>\n",
    "<h3>MLP 訓練</h3>"
   ]
  },
  {
   "cell_type": "code",
   "execution_count": null,
   "metadata": {},
   "outputs": [],
   "source": []
  },
  {
   "cell_type": "markdown",
   "metadata": {},
   "source": [
    "<hr>\n",
    "<h3>建立測試集 Tensors（同時，扁平化（Flatten）測試影像）</h3>"
   ]
  },
  {
   "cell_type": "code",
   "execution_count": null,
   "metadata": {},
   "outputs": [],
   "source": []
  },
  {
   "cell_type": "markdown",
   "metadata": {},
   "source": [
    "<hr>\n",
    "<h3>饋入 MLP 整批測試</h3>"
   ]
  },
  {
   "cell_type": "code",
   "execution_count": null,
   "metadata": {},
   "outputs": [],
   "source": []
  }
 ],
 "metadata": {
  "kernelspec": {
   "display_name": "Python 3 (ipykernel)",
   "language": "python",
   "name": "python3"
  },
  "language_info": {
   "codemirror_mode": {
    "name": "ipython",
    "version": 3
   },
   "file_extension": ".py",
   "mimetype": "text/x-python",
   "name": "python",
   "nbconvert_exporter": "python",
   "pygments_lexer": "ipython3",
   "version": "3.7.11"
  }
 },
 "nbformat": 4,
 "nbformat_minor": 4
}
