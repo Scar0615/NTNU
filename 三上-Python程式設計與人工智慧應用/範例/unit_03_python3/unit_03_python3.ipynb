{
 "cells": [
  {
   "cell_type": "markdown",
   "metadata": {
    "collapsed": true
   },
   "source": [
    "<h1 align=\"center\">Unit 03 - Python 3</h1>"
   ]
  },
  {
   "cell_type": "markdown",
   "metadata": {},
   "source": [
    "<hr>\n",
    "<h3 style=\"color:orange\">重點提示</h3>"
   ]
  },
  {
   "cell_type": "markdown",
   "metadata": {},
   "source": [
    "<hr>\n",
    "<h3>結構型資料型態</h3>\n",
    "<pre>\n",
    "（Python 或非常少數語言才有的，大多數語言都使用陣列、結構或其它）\n",
    "\n",
    "目的\n",
    "    複雜或大量資料的儲存與使用\n",
    "\n",
    "種類\n",
    "    <strong style=\"color:red\">串列（List）</strong>\n",
    "        list()\n",
    "        [1, 2, 3, 4, 5]\n",
    "        ['aaa', 'bbb', 'ccc']\n",
    "        [1, 'a', 2, 'b', True, 3.14]\n",
    "    <strong style=\"color:red\">字典（Dictionary）</strong>\n",
    "        dict()\n",
    "        key &amp; value pair\n",
    "        {'a':1, 'b':22, 'c':333, 'd':4444, 'e':55555}\n",
    "    <strong>集合（Set）</strong>\n",
    "        set()\n",
    "        {1, 2, 3, 4, 5}\n",
    "        {'aaa', 'bbb', 'ccc'}\n",
    "        {1, 'a', 2, 'b', True, 3.14}\n",
    "    <strong>元組、數對（Tuple）</strong>\n",
    "        (1.0, 1.0, 0.0, 0.5)\n",
    "\n",
    "幾個注意的重點\n",
    "    與一般傳統語言陣列的差別在非單一型態資料被集合在一起。\n",
    "    串列原素有次序性，字典元素無次序性。\n",
    "    文字字串其實就是以串列的形式儲存。\n",
    "    結構型資料的元素也可以是結構型資料（串列內含其它串列、字典內含其它字典、串列內含字典、字典內含串列、、、）。\n",
    "</pre>"
   ]
  },
  {
   "cell_type": "markdown",
   "metadata": {},
   "source": [
    "<hr>\n",
    "<h3>語法形式</h3>\n",
    "\n",
    "<pre style=\"color:red\">\n",
    "<strong style=\"color:black\">物件的選擇命令</strong>\n",
    "\n",
    "    <span style=\"color:black\">數數字</span>\n",
    "    數字變數 in range( 初始值 , 最終值＋1 , 累加值 )\n",
    "\n",
    "    <span style=\"color:black\">取出串列元素</span>\n",
    "    元素變數 in 串列\n",
    "\n",
    "    <span style=\"color:black\">取出字典元素（key，非 value）</span>\n",
    "    元素 key 變數 in 字典\n",
    "    \n",
    "    <span style=\"color:black\">取出生成元素</span>\n",
    "    <span style=\"color:black\">（其實，range 就是數字生成子）</span>\n",
    "    ......\n",
    "\n",
    "<strong style=\"color:black\">for 迴圈</strong>\n",
    "\n",
    "for 大量資料中物件的選擇命令:\n",
    "    # ......\n",
    "    # 需要重複執行的命令列\n",
    "    # ......\n",
    "\n",
    "<strong style=\"color:black\">巢狀 for 迴圈（使用不同的索引變數）</strong>\n",
    "\n",
    "for 大量資料中物件的選擇命令:\n",
    "    # ......\n",
    "    # 需要重複執行的命令列\n",
    "    # 其它 for 迴圈\n",
    "    for 大量資料中物件的選擇命令:\n",
    "        # ......\n",
    "        # 需要重複執行的命令列\n",
    "        # ......\n",
    "        # ......\n",
    "\n",
    "<strong style=\"color:black\">while 迴圈</strong>\n",
    "\n",
    "while 進入迴圈的條件:\n",
    "    # ......\n",
    "    # 需要重複執行的命令列\n",
    "    # ......\n",
    "\n",
    "<strong style=\"color:black\">巢狀 for / while / if 結構混合</strong>\n",
    "\n",
    "......\n",
    "</pre>"
   ]
  },
  {
   "cell_type": "markdown",
   "metadata": {},
   "source": [
    "<hr>\n",
    "<h3 style=\"color:orange\">簡要介紹</h3>"
   ]
  },
  {
   "cell_type": "markdown",
   "metadata": {},
   "source": [
    "<hr>\n",
    "<h3>range 的使用（整數數字選擇）</h3>"
   ]
  },
  {
   "cell_type": "code",
   "execution_count": null,
   "metadata": {},
   "outputs": [],
   "source": [
    "# range 的使用\n",
    "\n",
    "# range( start, stop, step )\n",
    "for i in range(1, 10, 2):\n",
    "    print(i)\n",
    "print()\n",
    "\n",
    "# range( start, stop, step ), 不會等於 stop\n",
    "for i in range(2, 10, 2):\n",
    "    print(i)\n",
    "print()\n",
    "\n",
    "# range( start, stop )，累加 1 可以忽略（預設 step = 1）\n",
    "for i in range(1, 6):\n",
    "    print(i)\n",
    "print()\n",
    "\n",
    "# range( stop )，初始值 0 可以忽略（預設 start = 0）\n",
    "for i in range(6):\n",
    "    print(i)\n",
    "print()\n",
    "\n",
    "# range( start, stop, step )，累加數值可以是負值（倒數）\n",
    "for i in range(5, 0, -1):\n",
    "    print(i)\n",
    "print()\n",
    "\n",
    "# start、stop、step 均必須整數（int），浮點數不被允許\n",
    "# 錯誤範例！\n",
    "# for x in range(1.2, 3.5, 0.3):\n",
    "#     print(x)\n",
    "\n",
    "# 浮點數需求，在 numpy 工具模組中有另一個 arange 版本可用\n",
    "# 正確範例\n",
    "import numpy as np\n",
    "for x in np.arange(1.2, 3.5, 0.3):\n",
    "    print(x)\n",
    "print()\n"
   ]
  },
  {
   "cell_type": "markdown",
   "metadata": {},
   "source": [
    "<hr>\n",
    "<h3 style=\"color:orange\">隨堂範例</h3>"
   ]
  },
  {
   "cell_type": "markdown",
   "metadata": {
    "collapsed": true
   },
   "source": [
    "<hr>\n",
    "<h3 style=\"color:blue\">設計一個 Python 程式，利用 for 迴圈輸出顯示 0, 1, 2, ... , 9。</h3>"
   ]
  },
  {
   "cell_type": "code",
   "execution_count": null,
   "metadata": {},
   "outputs": [],
   "source": [
    "for i in range(10):\n",
    "    print(i)\n",
    "\n",
    "# for i in range(10):\n",
    "#     print('%d' % (i), end=', ')\n"
   ]
  },
  {
   "cell_type": "markdown",
   "metadata": {
    "collapsed": true
   },
   "source": [
    "<hr>\n",
    "<h3 style=\"color:blue\">設計一個 Python 程式，利用 for 迴圈輸出顯示 3, 4, 5, ... , 8。</h3>"
   ]
  },
  {
   "cell_type": "code",
   "execution_count": null,
   "metadata": {},
   "outputs": [],
   "source": [
    "for i in range(3, 9):\n",
    "    print(i)"
   ]
  },
  {
   "cell_type": "markdown",
   "metadata": {
    "collapsed": true
   },
   "source": [
    "<hr>\n",
    "<h3 style=\"color:blue\">設計一個 Python 程式，利用 for 迴圈輸出顯示 1, 3, 5, ... , 19。</h3>"
   ]
  },
  {
   "cell_type": "code",
   "execution_count": null,
   "metadata": {},
   "outputs": [],
   "source": [
    "for i in range(1, 20, 2):\n",
    "    print(i)"
   ]
  },
  {
   "cell_type": "markdown",
   "metadata": {
    "collapsed": true
   },
   "source": [
    "<hr>\n",
    "<h3 style=\"color:blue\">設計一個 Python 程式，利用 for 迴圈輸出顯示 2, 4, 6, ... , 20。</h3>"
   ]
  },
  {
   "cell_type": "code",
   "execution_count": null,
   "metadata": {},
   "outputs": [],
   "source": [
    "for i in range(2, 21, 2):\n",
    "    print(i)"
   ]
  },
  {
   "cell_type": "markdown",
   "metadata": {},
   "source": [
    "<hr>\n",
    "<h3 style=\"color:blue\">設計一個 Python 程式，利用 for 迴圈輸出顯示 10, 9, 8, ... , 1。</h3>"
   ]
  },
  {
   "cell_type": "code",
   "execution_count": null,
   "metadata": {},
   "outputs": [],
   "source": [
    "for i in range(10, 0, -1):\n",
    "    print(i)"
   ]
  },
  {
   "cell_type": "markdown",
   "metadata": {},
   "source": [
    "<hr>\n",
    "<h3 style=\"color:blue\">設計一個 Python 程式，連續輸出顯示 2000 個 * 符號。</h3>"
   ]
  },
  {
   "cell_type": "code",
   "execution_count": null,
   "metadata": {},
   "outputs": [],
   "source": [
    "for i in range(2000):\n",
    "    print('*', end='')"
   ]
  },
  {
   "cell_type": "markdown",
   "metadata": {},
   "source": [
    "<hr>\n",
    "<h3 style=\"color:blue\">設計一個 Python 程式，輸出顯示 200 橫列資料，每一個橫列先顯示列號，隨後右側跟著顯示『Hello World!』。</h3>"
   ]
  },
  {
   "cell_type": "code",
   "execution_count": null,
   "metadata": {},
   "outputs": [],
   "source": [
    "for i in range(1, 201):\n",
    "    print('%3d. Hello World!' % (i))"
   ]
  },
  {
   "cell_type": "markdown",
   "metadata": {},
   "source": [
    "<hr>\n",
    "<h3 style=\"color:blue\">設計一個 Python 程式，輸出以下數字資料（平方）。</h3>\n",
    "<pre>\n",
    "<strong style=\"color:blue\">1    1\n",
    "2    4\n",
    "3    9\n",
    "4    16 \n",
    "5    25\n",
    "6    36\n",
    "7    49\n",
    "8    64\n",
    "9    81\n",
    "</strong>"
   ]
  },
  {
   "cell_type": "code",
   "execution_count": null,
   "metadata": {},
   "outputs": [],
   "source": [
    "for i in range(1, 10):\n",
    "    print('   %1d    %-2d' % (i, i*i))"
   ]
  },
  {
   "cell_type": "markdown",
   "metadata": {},
   "source": [
    "<hr>\n",
    "<h3 style=\"color:blue\">設計一個 Python 程式，輸入一個正整數 N，計算 1 + 2 + 3 + ... + N 的總和，並顯示結果。</h3>"
   ]
  },
  {
   "cell_type": "code",
   "execution_count": null,
   "metadata": {},
   "outputs": [],
   "source": [
    "n = int(input('輸入一個正整數 n：'))\n",
    "\n",
    "s = 0\n",
    "\n",
    "for i in range(1, n+1):\n",
    "    s = s + i\n",
    "\n",
    "# s = 0\n",
    "# s = 0+1, i = 1\n",
    "# s = 0+1+2, i = 2\n",
    "# s = 0+1+2+3, i = 3\n",
    "# s = 0+1+2+3+4, i = 4\n",
    "# ...\n",
    "# s = 0+1+2+3+4+ ... +(n-1)+(n), i = n\n",
    "\n",
    "print('總和是：', s)\n"
   ]
  },
  {
   "cell_type": "markdown",
   "metadata": {},
   "source": [
    "<hr>\n",
    "<h3 style=\"color:blue\">設計一個 Python 程式，輸入一個正整數 N，計算 1 x 2 x 3 x ... x N 的乘積結果，並顯示結果。</h3>"
   ]
  },
  {
   "cell_type": "code",
   "execution_count": null,
   "metadata": {},
   "outputs": [],
   "source": [
    "n = int(input('輸入一個正整數 n：'))\n",
    "\n",
    "p = 1\n",
    "for i in range(1, n+1):\n",
    "    p = p * i\n",
    "\n",
    "# p = 1\n",
    "# p = 1*1, i = 1\n",
    "# p = 1*1*2, i = 2\n",
    "# p = 1*1*2*3, i = 3\n",
    "# p = 1*1*2*3*4, i = 4\n",
    "# ...\n",
    "# p = 1*1*2*3*4* ... *(n-1)*(n), i = n \n",
    "    \n",
    "print('n! = ', p)\n"
   ]
  },
  {
   "cell_type": "markdown",
   "metadata": {},
   "source": [
    "<hr>\n",
    "<h3 style=\"color:blue\">設計一個 Python 程式，輸入一個正整數 N，計算 1/1 + 1/2 + ... + 1/N 的總和，並顯示結果。</h3>"
   ]
  },
  {
   "cell_type": "code",
   "execution_count": null,
   "metadata": {},
   "outputs": [],
   "source": [
    "n = int(input('輸入一個正整數 n：'))\n",
    "\n",
    "s = 0\n",
    "\n",
    "for i in range(1, n+1):\n",
    "    s = s + (1 / i)\n",
    "\n",
    "print('總和是：', s)\n"
   ]
  },
  {
   "cell_type": "markdown",
   "metadata": {},
   "source": [
    "<hr>\n",
    "<h3 style=\"color:blue\">設計一個 Python 程式，輸入一個正整數 N，計算並顯示 N 的所有因數。</h3>"
   ]
  },
  {
   "cell_type": "code",
   "execution_count": null,
   "metadata": {},
   "outputs": [],
   "source": [
    "# 32\n",
    "# 1, 2, 4, 8, 16, 32\n",
    "# 36\n",
    "# 1, 2, 3, 4, 6, 9, 12, 18, 36\n",
    "\n",
    "n = int(input('輸入一個正整數 n：'))\n",
    "\n",
    "for i in range(1, n+1):\n",
    "    if (n % i == 0):\n",
    "        print(i, end=', ')\n"
   ]
  },
  {
   "cell_type": "markdown",
   "metadata": {},
   "source": [
    "<hr>\n",
    "<h3 style=\"color:blue\">設計一個 Python 程式，輸入兩個正整數 M 與 N，計算並顯示 M 與 N 的公因數。</h3>\n",
    "<pre>\n",
    "提示：\n",
    "思考一下 M 與 N 的大小次序對解決問題是否有影響？\n",
    "</pre>"
   ]
  },
  {
   "cell_type": "code",
   "execution_count": null,
   "metadata": {},
   "outputs": [],
   "source": [
    "# 24, 36\n",
    "# 1, 2, 3, 4, 6, 12\n",
    "\n",
    "m = int(input('輸入一個正整數 m：'))\n",
    "n = int(input('輸入一個正整數 n：'))\n",
    "\n",
    "for i in range(1, m+1):\n",
    "    if ((m % i == 0) and (n % i == 0)):\n",
    "        print(i, end=', ')\n"
   ]
  },
  {
   "cell_type": "markdown",
   "metadata": {},
   "source": [
    "<hr>\n",
    "<h3 style=\"color:blue\">設計一個 Python 程式，輸入一個正整數 N，計算前 N 個費伯那西數（Fibonacci），並顯示結果。</h3>\n",
    "<pre>\n",
    "提示：\n",
    "費伯那西數字 F1 = 1, F2 = 1, ... , and Fn = Fn-1 + Fn-2 for n >= 3\n",
    "費伯那西數列 1, 1, 2, 3, 5, 8, 13, 21, 34, ...\n",
    "</pre>"
   ]
  },
  {
   "cell_type": "code",
   "execution_count": null,
   "metadata": {},
   "outputs": [],
   "source": [
    "n = int(input('輸入一個正整數 n：'))\n",
    "\n",
    "# 初始設定\n",
    "f1 = 1\n",
    "f2 = 1\n",
    "\n",
    "print('F(%3d) = %10d' % (1, f1))\n",
    "print('F(%3d) = %10d' % (2, f2))\n",
    "\n",
    "for i in range(3, n+1):\n",
    "    # 運算出第 n 格費伯那西數（fn）\n",
    "    # fn 的前兩項是 f1, f2\n",
    "    # ... f1, f2, fn ...\n",
    "    fn = f1 + f2\n",
    "    print('F(%3d) = %10d' % (i, fn))\n",
    "    # 下一回合的前兩項 f1, f2，分別是這一回合的 f2, fn\n",
    "    f1, f2 = f2, fn\n"
   ]
  },
  {
   "cell_type": "markdown",
   "metadata": {},
   "source": [
    "<hr>\n",
    "<h3 style=\"color:blue\">設計一個 Python 程式，利用元組（數對，Tuple）儲存半透明黃色的色頻數值資料，顯示 RGB 與 Alpha 色頻數值。</h3>\n",
    "<pre>\n",
    "黃色的  RGB 色頻數值（255, 255, 0）\n",
    "黃色的 sRGB 色頻數值（1.0, 1.0, 0.0）\n",
    "</pre>"
   ]
  },
  {
   "cell_type": "code",
   "execution_count": null,
   "metadata": {},
   "outputs": [],
   "source": [
    "# RGB\n",
    "\n",
    "c = (255, 255, 0, 127)\n",
    "\n",
    "print(type(c))\n",
    "\n",
    "r = c[0]\n",
    "g = c[1]\n",
    "b = c[2]\n",
    "a = c[3]\n",
    "\n",
    "print(type(r))\n",
    "print(type(g))\n",
    "print(type(b))\n",
    "print(type(a))\n",
    "\n",
    "print(r, g, b, a)\n",
    "\n",
    "# sRGB\n",
    "\n",
    "c = (1.0, 1.0, 0.0, 0.5)\n",
    "\n",
    "print(type(c))\n",
    "\n",
    "r = c[0]\n",
    "g = c[1]\n",
    "b = c[2]\n",
    "a = c[3]\n",
    "\n",
    "print(type(r))\n",
    "print(type(g))\n",
    "print(type(b))\n",
    "print(type(a))\n",
    "\n",
    "print(r, g, b, a)\n"
   ]
  },
  {
   "cell_type": "markdown",
   "metadata": {},
   "source": [
    "<hr>\n",
    "<h3 style=\"color:blue\">設計一個 Python 程式，將以下串列（List）的內容顯示出來。</h3>\n",
    "<pre>\n",
    "<strong style=\"color:blue\">L1 = [1,2,3,4,5]\n",
    "L2 = [1,'a',2,'b',[3,4,5]]</strong>\n",
    "</pre>"
   ]
  },
  {
   "cell_type": "code",
   "execution_count": null,
   "metadata": {},
   "outputs": [],
   "source": [
    "L1 = [ 1, 2, 3, 4, 5 ]\n",
    "\n",
    "print(type(L1))\n",
    "print(L1)\n",
    "\n",
    "for x in L1:\n",
    "    print(x, type(x))\n",
    "\n",
    "# n = len(L1)\n",
    "# for i in range(n):\n",
    "#     print(L1[i])\n",
    "\n",
    "L2 = [ 1, 'a', 2, 'b', [3,4,5] ]\n",
    "    \n",
    "print(type(L2))\n",
    "print(L2)\n",
    "\n",
    "for x in L2:\n",
    "    print(x, type(x))\n"
   ]
  },
  {
   "cell_type": "markdown",
   "metadata": {},
   "source": [
    "<hr>\n",
    "<h3 style=\"color:blue\">設計一個 Python 程式，逐一項目建構如右複雜結構的串列（List），[1,2,[3,4],5,'a','bb','ccc']，建構完成後，動態進行以下步驟：</h3>\n",
    "<pre>\n",
    "<strong style=\"color:blue\">(1) 刪除最後加入的兩個項目；\n",
    "(2) 顯示最後串列的所有內容；\n",
    "(3) 顯示內容項目的個數；\n",
    "(4) 顯示第一個與第三個項目；\n",
    "(5) 顯示第二到第四的項目內容。</strong>\n",
    "</pre>"
   ]
  },
  {
   "cell_type": "code",
   "execution_count": null,
   "metadata": {},
   "outputs": [],
   "source": [
    "# 逐一項目（元素）建構串列\n",
    "\n",
    "lst = list()\n",
    "\n",
    "lst.append(1)\n",
    "lst.append(2)\n",
    "lst.append([3,4])\n",
    "lst.append(5)\n",
    "lst.append('a')\n",
    "lst.append('bb')\n",
    "lst.append('ccc')\n",
    "\n",
    "print(lst)\n",
    "\n",
    "# (1) 刪除最後加入的兩個項目\n",
    "\n",
    "x = lst.pop()\n",
    "\n",
    "print(x)\n",
    "print(lst)\n",
    "\n",
    "y = lst.pop()\n",
    "\n",
    "print(y)\n",
    "print(lst)\n",
    "\n",
    "# (2) 顯示最後串列的所有內容\n",
    "\n",
    "print(lst)\n",
    "\n",
    "for e in lst:\n",
    "    print(e)\n",
    "\n",
    "# (3) 顯示內容項目的個數\n",
    "\n",
    "n = len(lst)\n",
    "\n",
    "print('n = ', n)\n",
    "\n",
    "# (4) 顯示第一個與第三個項目\n",
    "\n",
    "print(lst[0])\n",
    "print(lst[2])\n",
    "\n",
    "# (5) 顯示第二到第四的項目內容\n",
    "\n",
    "print(lst[1:4])\n",
    "\n",
    "# 補充\n",
    "\n",
    "lst = [ 'a', 'b', 'c', 'd', 'e', 'f', 'g' ]\n",
    "\n",
    "print(lst)\n",
    "print(lst[1:6])\n"
   ]
  },
  {
   "cell_type": "markdown",
   "metadata": {},
   "source": [
    "<hr>\n",
    "<h3 style=\"color:blue\">設計一個 Python 程式，已知串列 L 的內容為 L = [5,7,2,1,3,4,8,2,6,3,1,9,2]，進行以下的串列處理步驟：</h3>\n",
    "<pre>\n",
    "<strong style=\"color:blue\">(1) 顯示串列的項目數目；\n",
    "(2) 顯示最大值；\n",
    "(3) 顯示最小值；\n",
    "(4) 顯示項目內容 3 的所在位置；\n",
    "(5) 顯示項目內容 2 出現的次數；\n",
    "(6) 由小至大排序（Sort），顯示排序後的結果；\n",
    "(7) 串列反轉（Reverse），顯示反轉後的結果；\n",
    "(8) 移除項目內容 3，顯示移除後的結果；\n",
    "(9) 移除所有項目內容 2，顯示移除後的結果。</strong>\n",
    "</pre>"
   ]
  },
  {
   "cell_type": "code",
   "execution_count": null,
   "metadata": {},
   "outputs": [],
   "source": [
    "L = [5,7,2,1,3,4,8,2,6,3,1,9,2]\n",
    "\n",
    "print(L)\n",
    "\n",
    "# (1) 顯示串列的項目數目\n",
    "\n",
    "print('len = ', len(L))\n",
    "\n",
    "# (2) 顯示最大值\n",
    "\n",
    "print('max = ', max(L))\n",
    "\n",
    "# (3) 顯示最小值\n",
    "\n",
    "print('min = ', min(L))\n",
    "\n",
    "# (4) 顯示項目內容 3 的所在位置\n",
    "\n",
    "i = L.index(3)\n",
    "\n",
    "print('idx (3) = ', i)\n",
    "\n",
    "# (5) 顯示項目內容 2 出現的次數\n",
    "\n",
    "c = L.count(2)\n",
    "\n",
    "print('c (2) = ', c)\n",
    "\n",
    "# (6) 由小至大排序（Sort），顯示排序後的結果\n",
    "\n",
    "S = sorted(L)\n",
    "\n",
    "print(S)\n",
    "\n",
    "# (7) 串列反轉（Reverse），顯示反轉後的結果\n",
    "\n",
    "S = sorted(L, reverse=True)\n",
    "\n",
    "print(S)\n",
    "\n",
    "# (8) 移除項目內容 3，顯示移除後的結果\n",
    "\n",
    "L.remove(3)\n",
    "\n",
    "print(L)\n",
    "\n",
    "# (9) 移除所有項目內容 2，顯示移除後的結果\n",
    "\n",
    "lst = []\n",
    "for x in L:\n",
    "    if (x != 2):\n",
    "        lst.append(x)\n",
    "print(lst)\n"
   ]
  },
  {
   "cell_type": "markdown",
   "metadata": {},
   "source": [
    "<hr>\n",
    "<h3 style=\"color:blue\">補充：串列的特殊用法</h3>\n",
    "<pre>\n",
    "提示：\n",
    "L = [ 1, 2, 3, 4, 2, 2, 3 ]\n",
    "L = [ x for x in L if x != 2 ]\n",
    "print(L)\n",
    "</pre>"
   ]
  },
  {
   "cell_type": "code",
   "execution_count": null,
   "metadata": {},
   "outputs": [],
   "source": [
    "L = [ 1, 2, 3, 4, 2, 2, 3 ]\n",
    "\n",
    "lst = [ x for x in L if x != 2 ]\n",
    "\n",
    "# lst = []\n",
    "# for x in L:\n",
    "#     if (x != 2):\n",
    "#         lst.append(x)\n",
    "\n",
    "print(L)\n",
    "print(lst)\n"
   ]
  },
  {
   "cell_type": "markdown",
   "metadata": {},
   "source": [
    "<hr>\n",
    "<h3 style=\"color:blue\">設計一個 Python 程式，建構以下的集合（Set），並將集合內的所有元素（Member）顯示出來。</h3>\n",
    "<pre>\n",
    "<strong style=\"color:blue\">S1 = {1,2,3,4,5}\n",
    "S2 = {1,'a',2,'b'}</strong>\n",
    "</pre>"
   ]
  },
  {
   "cell_type": "code",
   "execution_count": null,
   "metadata": {},
   "outputs": [],
   "source": [
    "# 空集合\n",
    "\n",
    "S1 = set()\n",
    "\n",
    "print(S1)\n",
    "\n",
    "# 加入元素\n",
    "\n",
    "S1.add(1)\n",
    "S1.add(2)\n",
    "S1.add(3)\n",
    "S1.add(4)\n",
    "S1.add(5)\n",
    "\n",
    "print(S1)\n",
    "\n",
    "S2 = set()\n",
    "\n",
    "S2.add(1)\n",
    "S2.add('a')\n",
    "S2.add(2)\n",
    "S2.add('b')\n",
    "\n",
    "print(S2)\n",
    "\n",
    "# 移除元素\n",
    "\n",
    "S1.remove(3)\n",
    "\n",
    "print(S1)\n",
    "\n",
    "# 顯示元素\n",
    "\n",
    "for m in S1:\n",
    "    print(m)\n",
    "\n",
    "for m in S2:\n",
    "    print(m)\n",
    "\n",
    "# 判斷元素\n",
    "\n",
    "print(1 in S1)\n",
    "print('c' in S2)\n"
   ]
  },
  {
   "cell_type": "markdown",
   "metadata": {},
   "source": [
    "<hr>\n",
    "<h3>補充：集合的運算</h3>\n",
    "<pre>\n",
    "&：交集（Intersection）\n",
    "|：聯集（Union）\n",
    "-：差集（Difference）\n",
    "</pre>"
   ]
  },
  {
   "cell_type": "code",
   "execution_count": null,
   "metadata": {},
   "outputs": [],
   "source": [
    "# 集合運算的補充\n",
    "\n",
    "print(S1)\n",
    "print(S2)\n",
    "\n",
    "# 交集（Intersection）\n",
    "\n",
    "a = S1 & S2\n",
    "\n",
    "print(a)\n",
    "\n",
    "# 聯集（Union）\n",
    "\n",
    "b = S1 | S2\n",
    "\n",
    "print(b)\n",
    "\n",
    "# 差集（Difference）\n",
    "\n",
    "d1 = S1 - S2\n",
    "\n",
    "print(d1)\n",
    "\n",
    "d2 = S2 - S1\n",
    "\n",
    "print(d2)\n"
   ]
  },
  {
   "cell_type": "markdown",
   "metadata": {},
   "source": [
    "<hr>\n",
    "<h3 style=\"color:blue\">設計一個 Python 程式，預設 City 城市集合為 {'台北', '上海', '北京', '東京', '首爾', '雪梨'}，輸入一個城市名稱，檢查所輸入的城市是否在 City 集合中，顯示檢查結果。</h3>"
   ]
  },
  {
   "cell_type": "code",
   "execution_count": null,
   "metadata": {},
   "outputs": [],
   "source": [
    "city = { '台北', '上海', '北京', '東京', '首爾', '雪梨' }\n",
    "\n",
    "print(type(city))\n",
    "print('預設城市：', city)\n",
    "\n",
    "c = input('輸入一個城市名稱：')\n",
    "\n",
    "if (c in city):\n",
    "    print(c, '在預設城市中。')\n",
    "else:\n",
    "    print(c, '不在預設城市中。')\n"
   ]
  },
  {
   "cell_type": "markdown",
   "metadata": {},
   "source": [
    "<hr>\n",
    "<h3 style=\"color:blue\">設計一個 Python 程式，將以下字典（Dictionary）的內容顯示出來。</h3>\n",
    "<pre>\n",
    "<strong style=\"color:blue\">D1 = {1:'aaaaa',3:'bbbb',5:'ccc',7:'dd',9:'e'}\n",
    "D2 = {'k1':1,'k2':'a','k3':2,'k4':'b','k5':[3,4,5]}\n",
    "D3 = {'title':'Hello', 'content':{1:'Chap.1 XXX', 2:'Chap.2 YYY', 3:'Chap.3 ZZZ'}, 'author':'HaHaHa, AA'}。</strong>\n",
    "</pre>"
   ]
  },
  {
   "cell_type": "code",
   "execution_count": null,
   "metadata": {
    "scrolled": true
   },
   "outputs": [],
   "source": [
    "D1 = { 1: 'aaaaa', 3: 'bbbb', 5: 'ccc', 7: 'dd', 9: 'e', 'abc': 13579 }\n",
    "\n",
    "# D1 = dict()\n",
    "# D1[1] = 'aaaaa'\n",
    "# D1[3] = 'bbbb'\n",
    "# D1[5] = 'ccc'\n",
    "# D1[7] = 'dd'\n",
    "# D1[9] = 'e'\n",
    "# D1['abc'] = 13579\n",
    "\n",
    "print(D1)\n",
    "\n",
    "D2 = { 'k1':1,'k2':'a','k3':2,'k4':'b','k5':[3,4,5] }\n",
    "\n",
    "print(D2)\n",
    "\n",
    "D3 = { 'title':'Hello', 'content':{1:'Chap.1 XXX', 2:'Chap.2 YYY', 3:'Chap.3 ZZZ'}, 'author':'HaHaHa, AA' }\n",
    "\n",
    "print(D3)\n",
    "\n",
    "for k in D1:\n",
    "    print(k, D1[k])\n",
    "\n",
    "for k in D2 :\n",
    "    print(k, D2[k])\n",
    "\n",
    "for k in D3:\n",
    "    print(k, D3[k])\n"
   ]
  },
  {
   "cell_type": "markdown",
   "metadata": {},
   "source": [
    "<hr>\n",
    "<h3 style=\"color:blue\">設計一個 Python 程式，逐一項目建構如下字典（Dictionary），建構完成後，顯示字典所有內容。</h3>\n",
    "<pre>\n",
    "<strong style=\"color:blue\">台師大附近的三個 ubike 站\n",
    "    0038:（緯度： 25.026650，經度：121.528890）和平東路/師大路口(北側)\n",
    "    0066:（緯度： 25.007528，經度：121.537188）師大公館校區校門口(汀州路側)\n",
    "    0102:（緯度： 25.020430，經度：121.525322）師大路/汀州路交叉口</strong>\n",
    "<strong style=\"color:blue\">字典（Dictionary）的表示方式\n",
    "    { \\\n",
    "        1: {'sno':'0038','lat':25.026650,'lng':121.528890,'ar':'和平東路/師大路口(北側)'}, \\\n",
    "        2: {'sno':'0066','lat':25.007528,'lng':121.537188,'ar':'師大公館校區校門口(汀州路側)'}, \\\n",
    "        3: {'sno':'0102','lat':25.020430,'lng':121.525322,'ar':'師大路/汀州路交叉口'}, \\\n",
    "    }</strong>\n",
    "</pre>\n",
    "<pre>\n",
    "提示：\n",
    "\\ 表示未完接續\n",
    "全部 404 個 ubike 站的經緯度與地址資料（站台數持續增加中）\n",
    "<a href=\"ubike_data.zip\">ubike_data.zip</a>\n",
    "</pre>"
   ]
  },
  {
   "cell_type": "code",
   "execution_count": null,
   "metadata": {},
   "outputs": [],
   "source": [
    "# site = dict()\n",
    "# site[1] = { 'sno':'0038', 'lat':25.026650, 'lng':121.528890, 'ar':'和平東路/師大路口(北側)' }\n",
    "# site[2] = { 'sno':'0066', 'lat':25.007528, 'lng':121.537188, 'ar':'師大公館校區校門口(汀州路側)' }\n",
    "# site[3] = { 'sno':'0102', 'lat':25.020430, 'lng':121.525322, 'ar':'師大路/汀州路交叉口' }\n",
    "\n",
    "site = { \\\n",
    "    1: {'sno':'0038','lat':25.026650,'lng':121.528890,'ar':'和平東路/師大路口(北側)'}, \\\n",
    "    2: {'sno':'0066','lat':25.007528,'lng':121.537188,'ar':'師大公館校區校門口(汀州路側)'}, \\\n",
    "    3: {'sno':'0102','lat':25.020430,'lng':121.525322,'ar':'師大路/汀州路交叉口'}, \\\n",
    "}\n",
    "\n",
    "print(site)\n",
    "print('n = ', len(site))\n",
    "\n",
    "for k in site:\n",
    "    print(k, site[k])\n"
   ]
  },
  {
   "cell_type": "markdown",
   "metadata": {},
   "source": [
    "<hr>\n",
    "<h3 style=\"color:blue\">設計一個 Python 程式，輸入一個中文句子，將整句切成個別單字顯示出來，例如：輸入圖文傳播學系，顯示為圖、文、傳、播、學、系。</h3>"
   ]
  },
  {
   "cell_type": "code",
   "execution_count": null,
   "metadata": {},
   "outputs": [],
   "source": [
    "# s = '圖文傳播學系'\n",
    "\n",
    "s = input('請輸入一個字串：')\n",
    "\n",
    "print(s)\n",
    "print('n = ', len(s))\n",
    "\n",
    "# print(s[0])\n",
    "# print(s[1])\n",
    "# print(s[2])\n",
    "# print(s[3])\n",
    "# print(s[4])\n",
    "# print(s[5])\n",
    "\n",
    "for c in s:\n",
    "    print(c)\n",
    "\n",
    "idx = s.index('傳播')\n",
    "\n",
    "print('idx = ', idx)\n",
    "      "
   ]
  },
  {
   "cell_type": "markdown",
   "metadata": {},
   "source": [
    "<hr>\n",
    "<h3 style=\"color:blue\">設計一個 Python 程式，輸入一個中文句子，將整句切成二字詞（二元詞，Bigram）顯示出來，例如：輸入圖文傳播學系，顯示為圖文、文傳、傳播、播學、學系。</h3>"
   ]
  },
  {
   "cell_type": "code",
   "execution_count": null,
   "metadata": {},
   "outputs": [],
   "source": [
    "# s = '圖文傳播學系'\n",
    "\n",
    "s = input('請輸入一個字串：')\n",
    "\n",
    "n = len(s)\n",
    "\n",
    "print(s)\n",
    "print('n = ', n)\n",
    "\n",
    "for i in range(n-1):\n",
    "    print(i, i+1, s[i:i+2])\n"
   ]
  },
  {
   "cell_type": "markdown",
   "metadata": {},
   "source": [
    "<hr>\n",
    "<h3 style=\"color:orange\">隨堂練習</h3>"
   ]
  },
  {
   "cell_type": "markdown",
   "metadata": {},
   "source": [
    "<hr>\n",
    "<h3 style=\"color:green\">\n",
    "設計一個 Python 程式，輸入一個正整數 N，計算 1/(1**2) + 1/(2**2) + ... + 1/(N**2) 的總和，並顯示結果。</h3>"
   ]
  },
  {
   "cell_type": "code",
   "execution_count": null,
   "metadata": {},
   "outputs": [],
   "source": []
  },
  {
   "cell_type": "markdown",
   "metadata": {},
   "source": [
    "<hr>\n",
    "<h3 style=\"color:green\">設計一個 Python 程式，輸入一個正整數 N，計算前 N 個費伯那西數（Fibonacci）的和，其中 n > 3，並顯示結果。</h3>"
   ]
  },
  {
   "cell_type": "code",
   "execution_count": null,
   "metadata": {},
   "outputs": [],
   "source": []
  },
  {
   "cell_type": "markdown",
   "metadata": {},
   "source": [
    "<hr>\n",
    "<h3 style=\"color:green\">設計一個 Python 程式，將以下兩組學生的成績資料，利用串列（List）儲存起，加以合併並排序後，將處理後的結果顯示出來，同時，顯示最高分，與不及格（&lt;60）人數。</h3>\n",
    "<pre>\n",
    "<strong style=\"color:green\">L1 = [65,88,93,72,80,42]\n",
    "L2 = [77,82,60,90,33,84,91]</strong>\n",
    "</pre>\n",
    "<pre>\n",
    "提示：\n",
    "習題中漸漸會有一些沒教過的內容，需要你訓練自己，自行上網找尋解答\n",
    "串列相接：L1+L2\n",
    "最大值：max\n",
    "最小值：min\n",
    "</pre>"
   ]
  },
  {
   "cell_type": "code",
   "execution_count": null,
   "metadata": {},
   "outputs": [],
   "source": []
  },
  {
   "cell_type": "markdown",
   "metadata": {},
   "source": [
    "<hr>\n",
    "<h3 style=\"color:green\">設計一個 Python 程式，儲存以下的學生成績資料在字典（Dictionary）中，計算這三個科目的平均值，並顯示結果。</h3>\n",
    "<pre>\n",
    "<strong style=\"color:green\">SID   Name C1 C2 C3\n",
    "123456789 ABC 90 80 85\n",
    "987654321 XYZ 70 82 83\n",
    "135792468 WoW 84 96 80\n",
    "246813579 Hmm 80 88 62\n",
    "192837465 Hmm 80 88 62</strong>\n",
    "</pre>\n",
    "<pre>\n",
    "提示：\n",
    "先把各科成績放入 List 中，\n",
    "再利用 sum() 與 len() 計算 List 的平均值，\n",
    "或其它你可以想得到的巧妙方法。\n",
    "......\n",
    "</pre>\n",
    "\n"
   ]
  },
  {
   "cell_type": "code",
   "execution_count": null,
   "metadata": {},
   "outputs": [],
   "source": []
  }
 ],
 "metadata": {
  "kernelspec": {
   "display_name": "Python 3",
   "language": "python",
   "name": "python3"
  },
  "language_info": {
   "codemirror_mode": {
    "name": "ipython",
    "version": 3
   },
   "file_extension": ".py",
   "mimetype": "text/x-python",
   "name": "python",
   "nbconvert_exporter": "python",
   "pygments_lexer": "ipython3",
   "version": "3.8.8"
  }
 },
 "nbformat": 4,
 "nbformat_minor": 2
}
