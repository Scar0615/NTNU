{
 "cells": [
  {
   "cell_type": "markdown",
   "metadata": {},
   "source": [
    "<h1 align=\"center\">jieba Tutorial</h1>\n",
    "<hr>\n",
    "<pre>\n",
    "安裝：\n",
    "<span style=\"color:orange\">conda install -c conda-forge jieba</span>\n",
    "或\n",
    "<span style=\"color:orange\">pip3 install jieba</span>\n",
    "</pre>"
   ]
  },
  {
   "cell_type": "markdown",
   "metadata": {},
   "source": [
    "<hr>\n",
    "<h3>基本用法</h3>"
   ]
  },
  {
   "cell_type": "code",
   "execution_count": 1,
   "metadata": {},
   "outputs": [
    {
     "name": "stderr",
     "output_type": "stream",
     "text": [
      "Building prefix dict from the default dictionary ...\n",
      "Loading model from cache C:\\Users\\trchou\\AppData\\Local\\Temp\\jieba.cache\n",
      "Loading model cost 0.540 seconds.\n",
      "Prefix dict has been built successfully.\n"
     ]
    },
    {
     "name": "stdout",
     "output_type": "stream",
     "text": [
      "['很多', '學生', '在', '大學校', '園裡', '閒', '逛']\n"
     ]
    }
   ],
   "source": [
    "# 基本用法\n",
    "\n",
    "import jieba\n",
    "\n",
    "s = '很多學生在大學校園裡閒逛'\n",
    "\n",
    "res = jieba.cut(s)\n",
    "lst = [ x for x in res ]\n",
    "\n",
    "print(lst)\n"
   ]
  },
  {
   "cell_type": "markdown",
   "metadata": {},
   "source": [
    "<hr>\n",
    "<h3>使用預設通用詞典與專屬詞典</h3>"
   ]
  },
  {
   "cell_type": "code",
   "execution_count": 2,
   "metadata": {},
   "outputs": [
    {
     "name": "stderr",
     "output_type": "stream",
     "text": [
      "Building prefix dict from C:\\Users\\trchou\\Dropbox\\000 teaching\\aisd10a\\jupyter\\unit_09_text\\unit_09_text_jieba\\dict.txt.big ...\n",
      "Loading model from cache C:\\Users\\trchou\\AppData\\Local\\Temp\\jieba.u5a5b3323114360d7dd4d3a47a3c2f287.cache\n",
      "Loading model cost 0.904 seconds.\n",
      "Prefix dict has been built successfully.\n"
     ]
    },
    {
     "name": "stdout",
     "output_type": "stream",
     "text": [
      "['很多', '學生', '在', '大學校園', '裡', '閒逛']\n"
     ]
    }
   ],
   "source": [
    "# 使用預設通用詞典與專屬詞典\n",
    "\n",
    "import jieba\n",
    "\n",
    "# 例句一\n",
    "s = '很多學生在大學校園裡閒逛'\n",
    "# 例句二\n",
    "# s = '你再隨便揮霍亂花錢就不給你零用錢了'\n",
    "# 例句三\n",
    "# s = '我想要快快樂樂地過日子'\n",
    "\n",
    "# 載入預設通用詞典\n",
    "jieba.set_dictionary('dict.txt.big')\n",
    "# 有必要的話載入專屬詞典\n",
    "# jieba.load_userdict('user.txt')\n",
    "\n",
    "res = jieba.cut(s)\n",
    "lst = [ x for x in res ]\n",
    "\n",
    "print(lst)\n"
   ]
  },
  {
   "cell_type": "markdown",
   "metadata": {},
   "source": [
    "<hr>\n",
    "<h3>古詩詞的分詞特性與一般白話文有差異</h3>"
   ]
  },
  {
   "cell_type": "code",
   "execution_count": 3,
   "metadata": {},
   "outputs": [
    {
     "name": "stderr",
     "output_type": "stream",
     "text": [
      "Building prefix dict from C:\\Users\\trchou\\Dropbox\\000 teaching\\aisd10a\\jupyter\\unit_09_text\\unit_09_text_jieba\\dict.txt.big ...\n",
      "Loading model from cache C:\\Users\\trchou\\AppData\\Local\\Temp\\jieba.u5a5b3323114360d7dd4d3a47a3c2f287.cache\n",
      "Loading model cost 0.901 seconds.\n",
      "Prefix dict has been built successfully.\n"
     ]
    },
    {
     "name": "stdout",
     "output_type": "stream",
     "text": [
      "['床前', '明月光', '，', '疑似', '地上', '霜', '，', '舉頭', '望明月', '，', '低頭', '思', '故鄉', '。']\n"
     ]
    }
   ],
   "source": [
    "# 古詩詞的分詞特性與一般白話文有差異\n",
    "\n",
    "import jieba\n",
    "\n",
    "s = '床前明月光，疑似地上霜，舉頭望明月，低頭思故鄉。'\n",
    "\n",
    "jieba.set_dictionary('dict.txt.big')\n",
    "\n",
    "res = jieba.cut(s)\n",
    "lst = [ x for x in res ]\n",
    "\n",
    "print(lst)\n"
   ]
  },
  {
   "cell_type": "markdown",
   "metadata": {},
   "source": [
    "<hr>\n",
    "<h3>以專屬辭典指定優先詞彙（如：成語）</h3>\n",
    "<pre>\n",
    "語料（corpus）\n",
    "『起雲』？可能語料收集時，正好收錄了不少關於『起雲劑』的新聞。\n",
    "</pre>"
   ]
  },
  {
   "cell_type": "code",
   "execution_count": 4,
   "metadata": {},
   "outputs": [
    {
     "name": "stderr",
     "output_type": "stream",
     "text": [
      "Building prefix dict from C:\\Users\\trchou\\Dropbox\\000 teaching\\aisd10a\\jupyter\\unit_09_text\\unit_09_text_jieba\\dict.txt.big ...\n",
      "Loading model from cache C:\\Users\\trchou\\AppData\\Local\\Temp\\jieba.u5a5b3323114360d7dd4d3a47a3c2f287.cache\n",
      "Loading model cost 0.908 seconds.\n",
      "Prefix dict has been built successfully.\n"
     ]
    },
    {
     "name": "stdout",
     "output_type": "stream",
     "text": [
      "['時代', '巨輪', '向前', '飛奔', '，', '推動', '著', '流行音樂', '的', '浪潮', '風', '起雲', '湧']\n",
      "['時代', '巨輪', '向前', '飛奔', '，', '推動', '著', '流行音樂', '的', '浪潮', '風起雲湧']\n"
     ]
    }
   ],
   "source": [
    "# 以專屬辭典指定優先詞彙（如：成語）\n",
    "\n",
    "import  jieba\n",
    "\n",
    "s = '時代巨輪向前飛奔，推動著流行音樂的浪潮風起雲湧'\n",
    "\n",
    "# 載入常用辭典\n",
    "jieba.set_dictionary('dict.txt.big')\n",
    "\n",
    "res = jieba.cut(s)\n",
    "lst = [ x for x in res ]\n",
    "\n",
    "print(lst)\n",
    "\n",
    "# 有必要的話載入專屬字典\n",
    "jieba.load_userdict('user.txt')\n",
    "\n",
    "res = jieba.cut(s)\n",
    "lst = [ x for x in res ]\n",
    "\n",
    "print(lst)\n"
   ]
  }
 ],
 "metadata": {
  "kernelspec": {
   "display_name": "Python 3 (ipykernel)",
   "language": "python",
   "name": "python3"
  },
  "language_info": {
   "codemirror_mode": {
    "name": "ipython",
    "version": 3
   },
   "file_extension": ".py",
   "mimetype": "text/x-python",
   "name": "python",
   "nbconvert_exporter": "python",
   "pygments_lexer": "ipython3",
   "version": "3.7.11"
  }
 },
 "nbformat": 4,
 "nbformat_minor": 2
}
