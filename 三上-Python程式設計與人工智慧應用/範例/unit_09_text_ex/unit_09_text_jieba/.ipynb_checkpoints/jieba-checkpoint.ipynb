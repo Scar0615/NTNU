{
 "cells": [
  {
   "cell_type": "markdown",
   "metadata": {},
   "source": [
    "<h1 align=\"center\">jieba Tutorial</h1>\n",
    "<hr>\n",
    "<pre>\n",
    "安裝：\n",
    "<span style=\"color:orange\">pip3 install jieba</span>\n",
    "</pre>"
   ]
  },
  {
   "cell_type": "markdown",
   "metadata": {},
   "source": [
    "<hr>\n",
    "<h3>基本用法</h3>"
   ]
  },
  {
   "cell_type": "code",
   "execution_count": 1,
   "metadata": {},
   "outputs": [
    {
     "name": "stderr",
     "output_type": "stream",
     "text": [
      "Building prefix dict from the default dictionary ...\n",
      "Dumping model to file cache C:\\Users\\trchou\\AppData\\Local\\Temp\\jieba.cache\n",
      "Loading model cost 0.824 seconds.\n",
      "Prefix dict has been built successfully.\n"
     ]
    },
    {
     "name": "stdout",
     "output_type": "stream",
     "text": [
      "['很多', '學生', '在', '大學', '校園', '閒', '逛']\n"
     ]
    }
   ],
   "source": [
    "import jieba\n",
    "\n",
    "s = '很多學生在大學校園閒逛'\n",
    "\n",
    "res = jieba.cut(s)\n",
    "lst = [ x for x in res ]\n",
    "\n",
    "print(lst)"
   ]
  },
  {
   "cell_type": "markdown",
   "metadata": {},
   "source": [
    "<hr>\n",
    "<h3>各種測試</h3>"
   ]
  },
  {
   "cell_type": "code",
   "execution_count": 2,
   "metadata": {},
   "outputs": [
    {
     "name": "stdout",
     "output_type": "stream",
     "text": [
      "['很多', '學生', '在', '大學校', '園裡', '閒', '逛']\n"
     ]
    }
   ],
   "source": [
    "import jieba\n",
    "\n",
    "s = '很多學生在大學校園裡閒逛'\n",
    "\n",
    "res = jieba.cut(s)\n",
    "lst = [ x for x in res ]\n",
    "\n",
    "print(lst)"
   ]
  },
  {
   "cell_type": "code",
   "execution_count": 3,
   "metadata": {},
   "outputs": [
    {
     "name": "stderr",
     "output_type": "stream",
     "text": [
      "Building prefix dict from C:\\Users\\trchou\\Dropbox\\000 dev\\000 aisd\\aisd09b\\text analytics\\jieba\\dict.txt.big ...\n",
      "Dumping model to file cache C:\\Users\\trchou\\AppData\\Local\\Temp\\jieba.u0bc150292514ab08428040e6d8f6ab54.cache\n",
      "Loading model cost 1.462 seconds.\n",
      "Prefix dict has been built successfully.\n"
     ]
    },
    {
     "name": "stdout",
     "output_type": "stream",
     "text": [
      "['很多', '學生', '在', '大學校園', '裡', '閒逛']\n"
     ]
    }
   ],
   "source": [
    "import jieba\n",
    "\n",
    "s = '很多學生在大學校園裡閒逛'\n",
    "\n",
    "# 載入常用辭典\n",
    "jieba.set_dictionary('dict.txt.big')\n",
    "# 有必要的話載入專屬字典\n",
    "# jieba.load_userdict('user.txt')\n",
    "\n",
    "res = jieba.cut(s)\n",
    "lst = [ x for x in res ]\n",
    "\n",
    "print(lst)"
   ]
  },
  {
   "cell_type": "code",
   "execution_count": 4,
   "metadata": {},
   "outputs": [
    {
     "name": "stderr",
     "output_type": "stream",
     "text": [
      "Building prefix dict from C:\\Users\\trchou\\Dropbox\\000 dev\\000 aisd\\aisd09b\\text analytics\\jieba\\dict.txt.big ...\n",
      "Loading model from cache C:\\Users\\trchou\\AppData\\Local\\Temp\\jieba.u0bc150292514ab08428040e6d8f6ab54.cache\n",
      "Loading model cost 1.241 seconds.\n",
      "Prefix dict has been built successfully.\n"
     ]
    },
    {
     "name": "stdout",
     "output_type": "stream",
     "text": [
      "['你', '再', '隨便', '揮霍', '亂花錢', '就', '不給', '你', '零用錢', '了']\n"
     ]
    }
   ],
   "source": [
    "import jieba\n",
    "\n",
    "s = '你再隨便揮霍亂花錢就不給你零用錢了'\n",
    "\n",
    "jieba.set_dictionary('dict.txt.big')\n",
    "\n",
    "res = jieba.cut(s)\n",
    "lst = [ x for x in res ]\n",
    "\n",
    "print(lst)\n"
   ]
  },
  {
   "cell_type": "code",
   "execution_count": 5,
   "metadata": {},
   "outputs": [
    {
     "name": "stderr",
     "output_type": "stream",
     "text": [
      "Building prefix dict from C:\\Users\\trchou\\Dropbox\\000 dev\\000 aisd\\aisd09b\\text analytics\\jieba\\dict.txt.big ...\n",
      "Loading model from cache C:\\Users\\trchou\\AppData\\Local\\Temp\\jieba.u0bc150292514ab08428040e6d8f6ab54.cache\n",
      "Loading model cost 1.162 seconds.\n",
      "Prefix dict has been built successfully.\n"
     ]
    },
    {
     "name": "stdout",
     "output_type": "stream",
     "text": [
      "['床前', '明月光', '，', '疑似', '地上', '霜', '，', '舉頭', '望明月', '，', '低頭', '思', '故鄉', '。']\n"
     ]
    }
   ],
   "source": [
    "import jieba\n",
    "\n",
    "s = '床前明月光，疑似地上霜，舉頭望明月，低頭思故鄉。'\n",
    "\n",
    "jieba.set_dictionary('dict.txt.big')\n",
    "\n",
    "res = jieba.cut(s)\n",
    "lst = [ x for x in res ]\n",
    "\n",
    "print(lst)\n"
   ]
  },
  {
   "cell_type": "code",
   "execution_count": 6,
   "metadata": {},
   "outputs": [
    {
     "name": "stderr",
     "output_type": "stream",
     "text": [
      "Building prefix dict from C:\\Users\\trchou\\Dropbox\\000 dev\\000 aisd\\aisd09b\\text analytics\\jieba\\dict.txt.big ...\n",
      "Loading model from cache C:\\Users\\trchou\\AppData\\Local\\Temp\\jieba.u0bc150292514ab08428040e6d8f6ab54.cache\n",
      "Loading model cost 1.161 seconds.\n",
      "Prefix dict has been built successfully.\n"
     ]
    },
    {
     "name": "stdout",
     "output_type": "stream",
     "text": [
      "['時代', '巨輪', '向前', '飛奔', '，', '推動', '著', '流行音樂', '的', '浪潮', '風', '起雲', '湧']\n",
      "['時代', '巨輪', '向前', '飛奔', '，', '推動', '著', '流行音樂', '的', '浪潮', '風起雲湧']\n"
     ]
    }
   ],
   "source": [
    "import  jieba\n",
    "\n",
    "s = '時代巨輪向前飛奔，推動著流行音樂的浪潮風起雲湧'\n",
    "\n",
    "# 載入常用辭典\n",
    "jieba.set_dictionary('dict.txt.big')\n",
    "\n",
    "res = jieba.cut(s)\n",
    "lst = [ x for x in res ]\n",
    "\n",
    "print(lst)\n",
    "\n",
    "# 有必要的話載入專屬字典\n",
    "jieba.load_userdict('user.txt')\n",
    "\n",
    "res = jieba.cut(s)\n",
    "lst = [ x for x in res ]\n",
    "\n",
    "print(lst)\n"
   ]
  }
 ],
 "metadata": {
  "kernelspec": {
   "display_name": "Python 3",
   "language": "python",
   "name": "python3"
  },
  "language_info": {
   "codemirror_mode": {
    "name": "ipython",
    "version": 3
   },
   "file_extension": ".py",
   "mimetype": "text/x-python",
   "name": "python",
   "nbconvert_exporter": "python",
   "pygments_lexer": "ipython3",
   "version": "3.8.3"
  }
 },
 "nbformat": 4,
 "nbformat_minor": 2
}
