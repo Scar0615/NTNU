{
 "cells": [
  {
   "cell_type": "markdown",
   "metadata": {},
   "source": [
    "<h1 align=\"center\">中文資訊檢索（文件檢索）採用 TF-IDF 方法</h1>\n",
    "<h3 align=\"center\">Chinese Document Retrieval with TF-IDF</h3>\n",
    "<hr>\n",
    "<pre>\n",
    "doc: 文件資料夾（純文字，utf-8）\n",
    "qry: 查詢字串\n",
    "</pre>"
   ]
  },
  {
   "cell_type": "markdown",
   "metadata": {},
   "source": [
    "<hr>\n",
    "<h3>詞法分析，工具函數定義（刪除非中文的所有文字與符號）</h3>"
   ]
  },
  {
   "cell_type": "code",
   "execution_count": null,
   "metadata": {},
   "outputs": [],
   "source": [
    "# 詞法分析，工具函數定義（刪除非中文的所有文字與符號）\n",
    "\n",
    "import re\n",
    "\n",
    "def remove_non_chinese(line):\n",
    "    # 消除英文文數字\n",
    "    rule = re.compile('[a-zA-Z0-9]')\n",
    "    line = rule.sub(' ', line)\n",
    "    # 消除特殊符號（含部分全形符號）\n",
    "    rule = re.compile('[’!\"#$%&\\'()*+,-./:;<=>?@，。?★、…【】《》？“”‘’！[\\\\]^_`{|}~\\s]+')\n",
    "    line = rule.sub(' ', line)\n",
    "    # 消除不可見字碼\n",
    "    rule = re.compile('[\\001\\002\\003\\004\\005\\006\\007\\x08\\x09\\x0a\\x0b\\x0c\\x0d\\x0e\\x0f\\x10\\x11\\x12\\x13\\x14\\x15\\x16\\x17\\x18\\x19\\x1a]+')\n",
    "    line = rule.sub(' ', line)\n",
    "    # 消除所有全形符號\n",
    "    rule = re.compile('[^\\u4e00-\\u9fa5]')\n",
    "    line = rule.sub(' ', line)\n",
    "    return line\n",
    "\n",
    "def remove_redundant_space(line):\n",
    "    line = re.sub(' +', ' ', line)\n",
    "    return line\n"
   ]
  },
  {
   "cell_type": "markdown",
   "metadata": {},
   "source": [
    "<hr>\n",
    "<h3>詞法分析，載入 jieba 工具模組</h3>"
   ]
  },
  {
   "cell_type": "code",
   "execution_count": null,
   "metadata": {},
   "outputs": [],
   "source": [
    "# 詞法分析，載入 jieba 模組\n",
    "\n",
    "import jieba\n",
    "\n",
    "# 有必要的話載入常用辭典\n",
    "jieba.set_dictionary('dict.txt.big')\n",
    "# 有必要的話載入專屬字典\n",
    "jieba.load_userdict('user.txt')\n"
   ]
  },
  {
   "cell_type": "markdown",
   "metadata": {},
   "source": [
    "<hr>\n",
    "<h3>過濾無意義詞彙（stopwords，虛字與其它無意義詞彙）</h3>"
   ]
  },
  {
   "cell_type": "code",
   "execution_count": null,
   "metadata": {},
   "outputs": [],
   "source": [
    "# 過濾無意義詞彙（stopwords，虛字與其它無意義詞彙）\n",
    "\n",
    "stopwords = [ '之', '乎', '者', '也', '的' ]\n",
    "\n",
    "def remove_stopword(lst0):\n",
    "    lst = []\n",
    "    for x in lst0:\n",
    "        if x not in stopwords:\n",
    "            lst.append(x)\n",
    "    return lst\n"
   ]
  },
  {
   "cell_type": "markdown",
   "metadata": {},
   "source": [
    "<hr>\n",
    "<h3>詞法分析，函數定義</h3>"
   ]
  },
  {
   "cell_type": "code",
   "execution_count": null,
   "metadata": {},
   "outputs": [],
   "source": [
    "# 詞法分析，函數定義\n",
    "\n",
    "def lexical_analyzer(txt):\n",
    "    txt = remove_non_chinese(txt)\n",
    "    txt = remove_redundant_space(txt)\n",
    "    res = jieba.cut(txt)\n",
    "    lst = [ x for x in res ]\n",
    "    lst = remove_stopword(lst)\n",
    "    doc = ' '.join(lst)\n",
    "    doc = re.sub(' +', ' ', doc)\n",
    "    return doc\n",
    "    "
   ]
  },
  {
   "cell_type": "markdown",
   "metadata": {},
   "source": [
    "<hr>\n",
    "<h3>整理 Corpus 資料格式</h3>"
   ]
  },
  {
   "cell_type": "code",
   "execution_count": null,
   "metadata": {},
   "outputs": [],
   "source": [
    "# 整理 Corpus 資料格式\n",
    "\n",
    "import glob\n",
    "import pickle\n",
    "\n",
    "files = glob.glob('doc/*.txt')\n",
    "\n",
    "corpus = dict()\n",
    "\n",
    "for f in files:\n",
    "    with open(f, 'r', encoding='utf-8') as fp:\n",
    "        txt = fp.read()\n",
    "    fp.close()\n",
    "    corpus[f] = { 'name':f, 'txt':txt, 'doc':None }\n",
    "\n",
    "for f in corpus:\n",
    "    print(f)\n",
    "    txt = corpus[f]['txt']\n",
    "    doc = lexical_analyzer(txt)\n",
    "    corpus[f]['doc'] = doc\n",
    "\n",
    "with open('corpus_harry_potter.pkl', 'wb') as fp:\n",
    "    pickle.dump(corpus, fp)\n",
    "fp.close()\n"
   ]
  },
  {
   "cell_type": "markdown",
   "metadata": {},
   "source": [
    "<hr>\n",
    "<h3>TF-IDF 文件檢索</h3>"
   ]
  },
  {
   "cell_type": "code",
   "execution_count": null,
   "metadata": {},
   "outputs": [],
   "source": [
    "# TF-IDF 文件檢索\n",
    "\n",
    "from sklearn.feature_extraction.text import TfidfVectorizer\n",
    "\n",
    "qry = '分類咒語'\n",
    "\n",
    "vectorizer = TfidfVectorizer()\n",
    "\n",
    "def cosine_sim(text1, text2):\n",
    "    tfidf = vectorizer.fit_transform([text1, text2])\n",
    "    return ((tfidf * tfidf.T).A)[0,1]\n",
    "\n",
    "d = dict()\n",
    "for f in corpus:\n",
    "    text1 = lexical_analyzer(qry)\n",
    "    text2 = corpus[f]['doc']\n",
    "    c = cosine_sim(text1, text2)\n",
    "    d[f] = c\n",
    "\n",
    "# 字典排序（成為串列）\n",
    "lst = sorted(d.items(), key=lambda x: x[1], reverse=True)\n",
    "\n",
    "# 顯示排序結果\n",
    "print('查詢：', qry)\n",
    "for f, c in lst:\n",
    "    t = '關連度：%12.10f，文章：%s' % (c, f)\n",
    "    print(t)\n"
   ]
  },
  {
   "cell_type": "markdown",
   "metadata": {},
   "source": [
    "<hr>\n",
    "<h3 style=\"color:orange\">『朱自清散文』語料的資料檢索平台建立（整合版）</h3>\n",
    "<pre>\n",
    "語料來源：\n",
    "<a href=\"http://www.bwsk.net/mj/z/zhuziqing/index.html\">http://www.bwsk.net/mj/z/zhuziqing/index.html</a>\n",
    "</pre>"
   ]
  },
  {
   "cell_type": "code",
   "execution_count": null,
   "metadata": {},
   "outputs": [],
   "source": [
    "# 『朱自清散文』語料的資料檢索平台建立（整合版）\n",
    "\n",
    "# 詞法分析，工具函數定義（刪除非中文的所有文字與符號）\n",
    "\n",
    "import re\n",
    "\n",
    "def remove_non_chinese(line):\n",
    "    # 消除英文文數字\n",
    "    rule = re.compile('[a-zA-Z0-9]')\n",
    "    line = rule.sub(' ', line)\n",
    "    # 消除特殊符號（含部分全形符號）\n",
    "    rule = re.compile('[’!\"#$%&\\'()*+,-./:;<=>?@，。?★、…【】《》？“”‘’！[\\\\]^_`{|}~\\s]+')\n",
    "    line = rule.sub(' ', line)\n",
    "    # 消除不可見字碼\n",
    "    rule = re.compile('[\\001\\002\\003\\004\\005\\006\\007\\x08\\x09\\x0a\\x0b\\x0c\\x0d\\x0e\\x0f\\x10\\x11\\x12\\x13\\x14\\x15\\x16\\x17\\x18\\x19\\x1a]+')\n",
    "    line = rule.sub(' ', line)\n",
    "    # 消除所有全形符號\n",
    "    rule = re.compile('[^\\u4e00-\\u9fa5]')\n",
    "    line = rule.sub(' ', line)\n",
    "    return line\n",
    "\n",
    "def remove_redundant_space(line):\n",
    "    line = re.sub(' +', ' ', line)\n",
    "    return line\n",
    "\n",
    "# 詞法分析，載入 jieba 模組\n",
    "\n",
    "import jieba\n",
    "\n",
    "# 有必要的話載入常用辭典\n",
    "jieba.set_dictionary('dict.txt.big')\n",
    "# 有必要的話載入專屬字典\n",
    "jieba.load_userdict('user.txt')\n",
    "\n",
    "# 無意義詞彙過濾（stopwords，虛字與其它無意義詞彙）\n",
    "\n",
    "stopwords = [ '之', '乎', '者', '也', '的' ]\n",
    "\n",
    "def remove_stopword(lst0):\n",
    "    lst = []\n",
    "    for x in lst0:\n",
    "        if x not in stopwords:\n",
    "            lst.append(x)\n",
    "    return lst\n",
    "\n",
    "# 詞法分析，函數定義\n",
    "\n",
    "def lexical_analyzer(txt):\n",
    "    txt = remove_non_chinese(txt)\n",
    "    txt = remove_redundant_space(txt)\n",
    "    res = jieba.cut(txt)\n",
    "    lst = [ x for x in res ]\n",
    "    lst = remove_stopword(lst)\n",
    "    doc = ' '.join(lst)\n",
    "    doc = re.sub(' +', ' ', doc)\n",
    "    return doc\n",
    "\n",
    "# 整理 Corpus 資料格式\n",
    "\n",
    "import glob\n",
    "import pickle\n",
    "\n",
    "files = glob.glob('朱自清散文/*.txt')\n",
    "\n",
    "corpus = dict()\n",
    "\n",
    "for f in files:\n",
    "    with open(f, 'r', encoding='utf-8') as fp:\n",
    "        txt = fp.read()\n",
    "    fp.close()\n",
    "    corpus[f] = { 'name':f, 'txt':txt, 'doc':None }\n",
    "\n",
    "# 儲存語料庫\n",
    "\n",
    "for f in corpus:\n",
    "    txt = corpus[f]['txt']\n",
    "    doc = lexical_analyzer(txt)\n",
    "    corpus[f]['doc'] = doc\n",
    "\n",
    "with open('corpus_朱自清散文.pkl', 'wb') as fp:\n",
    "    pickle.dump(corpus, fp)\n",
    "fp.close()\n"
   ]
  },
  {
   "cell_type": "markdown",
   "metadata": {},
   "source": [
    "<hr>\n",
    "<h3 style=\"color:orange\">測試</h3>"
   ]
  },
  {
   "cell_type": "code",
   "execution_count": null,
   "metadata": {},
   "outputs": [],
   "source": [
    "# 測試\n",
    "\n",
    "# 載入語料庫\n",
    "\n",
    "with open('corpus_朱自清散文.pkl', 'rb') as fp:\n",
    "    corpus = pickle.load(fp)\n",
    "fp.close()\n",
    "\n",
    "# TF-IDF 文件檢索\n",
    "\n",
    "from sklearn.feature_extraction.text import TfidfVectorizer\n",
    "\n",
    "qry = '月台+橘子'\n",
    "\n",
    "vectorizer = TfidfVectorizer()\n",
    "\n",
    "def cosine_sim(text1, text2):\n",
    "    tfidf = vectorizer.fit_transform([text1, text2])\n",
    "    return ((tfidf * tfidf.T).A)[0,1]\n",
    "\n",
    "d = dict()\n",
    "for f in corpus:\n",
    "    text1 = lexical_analyzer(qry)\n",
    "    text2 = corpus[f]['doc']\n",
    "    c = cosine_sim(text1, text2)\n",
    "    d[f] = c\n",
    "\n",
    "# 字典排序（成為串列）\n",
    "lst = sorted(d.items(), key=lambda x: x[1], reverse=True)\n",
    "\n",
    "# 顯示排序結果\n",
    "print('查詢：', qry)\n",
    "for f, c in lst:\n",
    "    t = '關連度：%12.10f，文章：%s' % (c, f)\n",
    "    print(t)\n"
   ]
  }
 ],
 "metadata": {
  "kernelspec": {
   "display_name": "Python 3 (ipykernel)",
   "language": "python",
   "name": "python3"
  },
  "language_info": {
   "codemirror_mode": {
    "name": "ipython",
    "version": 3
   },
   "file_extension": ".py",
   "mimetype": "text/x-python",
   "name": "python",
   "nbconvert_exporter": "python",
   "pygments_lexer": "ipython3",
   "version": "3.7.11"
  }
 },
 "nbformat": 4,
 "nbformat_minor": 2
}
