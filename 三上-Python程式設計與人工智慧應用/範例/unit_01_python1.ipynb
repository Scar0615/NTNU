{
 "cells": [
  {
   "cell_type": "markdown",
   "metadata": {
    "collapsed": true
   },
   "source": [
    "<h1 align=\"center\">Unit 01 - Python 1</h1>"
   ]
  },
  {
   "cell_type": "markdown",
   "metadata": {},
   "source": [
    "<hr>\n",
    "<h3 style=\"color:orange\">簡要介紹</h3>"
   ]
  },
  {
   "cell_type": "markdown",
   "metadata": {},
   "source": [
    "<hr>\n",
    "<h3>數字的使用（整數、浮點數）</h3>"
   ]
  },
  {
   "cell_type": "code",
   "execution_count": null,
   "metadata": {},
   "outputs": [],
   "source": [
    "# 數字的使用（整數、浮點數）\n",
    "\n",
    "# 整數計算\n",
    "a = 1\n",
    "b = 2\n",
    "c = a + b\n",
    "print(c)\n",
    "\n",
    "# 浮點數計算\n",
    "x = 1.23\n",
    "y = 4.5\n",
    "z = x + y\n",
    "print(z)\n",
    "\n",
    "# 消除小數，截斷（Truncation），無條件捨去\n",
    "u = int(z)\n",
    "print(u)\n",
    "\n",
    "# 四捨五入\n",
    "v = round(z)\n",
    "print(v)\n"
   ]
  },
  {
   "cell_type": "markdown",
   "metadata": {},
   "source": [
    "<hr>\n",
    "<h3>文字的使用（字串）</h3>"
   ]
  },
  {
   "cell_type": "code",
   "execution_count": null,
   "metadata": {},
   "outputs": [],
   "source": [
    "# 文字的使用（字串）\n",
    "\n",
    "# 輸出字串\n",
    "print('Hello World!')\n",
    "\n",
    "# 輸入字串\n",
    "s = input('Enter: ')\n",
    "\n",
    "# 字串相接\n",
    "t = 'What you entered is ' + s + '.'\n",
    "\n",
    "# 輸出字串\n",
    "print(t)\n"
   ]
  },
  {
   "cell_type": "markdown",
   "metadata": {},
   "source": [
    "<hr>\n",
    "<h3>超長字串的使用</h3>"
   ]
  },
  {
   "cell_type": "code",
   "execution_count": null,
   "metadata": {},
   "outputs": [],
   "source": [
    "# 超長字串的使用\n",
    "\n",
    "# 跨列命令\n",
    "s = \\\n",
    "'ABCDEFG' + \\\n",
    "'12345'\n",
    "\n",
    "# 輸出字串\n",
    "print(s)\n",
    "\n",
    "# 跨列命令形成長字串\n",
    "s = '\\\n",
    "ABCDEFGHIJKLMNOPQRSTUVWXYZ\\\n",
    "0123456789\\\n",
    "abcdefghijklmnopqrstuvwxyz\\\n",
    "中文字測試'\n",
    "\n",
    "# 輸出字串\n",
    "print(s)\n",
    "\n",
    "# 長篇文章類長字串（含換行）\n",
    "s = \\\n",
    "'''\n",
    "ABCDEFGHIJKLMNOPQRSTUVWXYZ\n",
    "0123456789\n",
    "abcdefghijklmnopqrstuvwxyz\n",
    "中文字測試\n",
    "'''\n",
    "\n",
    "# 輸出字串\n",
    "print(s)\n"
   ]
  },
  {
   "cell_type": "markdown",
   "metadata": {},
   "source": [
    "<hr>\n",
    "<h3>數字字串（嚴格的資料型態檢查）</h3>"
   ]
  },
  {
   "cell_type": "code",
   "execution_count": null,
   "metadata": {},
   "outputs": [],
   "source": [
    "# 數字字串（嚴格的資料型態檢查）\n",
    "\n",
    "a = '123'\n",
    "b = '456'\n",
    "c = a + b\n",
    "print(type(c))\n",
    "print(c)\n"
   ]
  },
  {
   "cell_type": "markdown",
   "metadata": {},
   "source": [
    "<hr>\n",
    "<h3>數字的輸入與計算</h3>"
   ]
  },
  {
   "cell_type": "code",
   "execution_count": null,
   "metadata": {},
   "outputs": [],
   "source": [
    "# 數字的輸入與計算\n",
    "\n",
    "# 輸入整數數字\n",
    "a = int(input('輸入一個整數 a: '))\n",
    "\n",
    "# 輸入整數數字\n",
    "b = int(input('輸入一個整數 b: '))\n",
    "\n",
    "# 整數數字計算\n",
    "c = a + b\n",
    "print(type(c))\n",
    "\n",
    "# 輸出整數數字\n",
    "print(c)\n"
   ]
  },
  {
   "cell_type": "markdown",
   "metadata": {},
   "source": [
    "<hr>\n",
    "<h3>數字的輸入、計算、複雜顯示</h3>"
   ]
  },
  {
   "cell_type": "code",
   "execution_count": null,
   "metadata": {},
   "outputs": [],
   "source": [
    "# 數字的輸入、計算、複雜顯示\n",
    "\n",
    "# 輸入整數數字\n",
    "a = int(input('輸入一個整數 a: '))\n",
    "\n",
    "# 輸入整數數字\n",
    "b = int(input('輸入一個整數 b: '))\n",
    "\n",
    "# 整數數字計算\n",
    "c = a + b\n",
    "\n",
    "# 輸出整數數字\n",
    "print(c)\n",
    "\n",
    "# 整數數字先轉換成字串，再進行字串相接\n",
    "t = 'a + b = ' + str(c)\n",
    "\n",
    "# 輸出字串\n",
    "print(t)\n"
   ]
  },
  {
   "cell_type": "markdown",
   "metadata": {},
   "source": [
    "<hr>\n",
    "<h3>數字的輸入、計算、格式化顯示</h3>"
   ]
  },
  {
   "cell_type": "code",
   "execution_count": null,
   "metadata": {},
   "outputs": [],
   "source": [
    "# 數字的輸入、計算、格式化顯示\n",
    "\n",
    "# 輸入整數數字\n",
    "a = int(input('輸入一個整數 a: '))\n",
    "\n",
    "# 輸入整數數字\n",
    "b = int(input('輸入一個整數 b: '))\n",
    "\n",
    "# 整數數字計算\n",
    "c = a + b\n",
    "\n",
    "# 輸出整數數字\n",
    "print(c)\n",
    "\n",
    "# 整數數字先轉換成字串，再進行字串相接\n",
    "t = 'a + b = ' + str(c)\n",
    "\n",
    "# 輸出字串\n",
    "print(t)\n",
    "\n",
    "# 建立格式化字串\n",
    "f = 'a + b = %3d (格式化輸出)' % c\n",
    "\n",
    "# 輸出字串\n",
    "print(f)\n"
   ]
  },
  {
   "cell_type": "markdown",
   "metadata": {},
   "source": [
    "<hr>\n",
    "<h3>浮點數的輸入、計算、格式化顯示</h3>"
   ]
  },
  {
   "cell_type": "code",
   "execution_count": null,
   "metadata": {},
   "outputs": [],
   "source": [
    "# 輸入浮點數字\n",
    "a = float(input('輸入一個數字 a: '))\n",
    "\n",
    "# 輸入浮點數字\n",
    "b = float(input('輸入一個數字 b: '))\n",
    "\n",
    "c = a + b\n",
    "\n",
    "print(c)\n"
   ]
  },
  {
   "cell_type": "code",
   "execution_count": null,
   "metadata": {},
   "outputs": [],
   "source": [
    "# 浮點數的輸入、計算、格式化顯示\n",
    "\n",
    "# 輸入浮點數字\n",
    "a = float(input('輸入一個數字 a: '))\n",
    "\n",
    "# 輸入浮點數字\n",
    "b = float(input('輸入一個數字 b: '))\n",
    "\n",
    "# 浮點數字計算\n",
    "c = a + b\n",
    "\n",
    "# 輸出格式化字串\n",
    "print('浮點數 a (%8.3f) + b (%8.3f) = c (%8.3f)' % (a,b,c))\n"
   ]
  },
  {
   "cell_type": "markdown",
   "metadata": {},
   "source": [
    "<hr>\n",
    "<h3 style=\"color:orange\">隨堂範例</h3>"
   ]
  },
  {
   "cell_type": "markdown",
   "metadata": {
    "collapsed": true
   },
   "source": [
    "<hr>\n",
    "<h3 style=\"color:blue\">設計一個 Python 程式，輸入攝氏溫度，計算並顯示華氏溫度。</h3>\n",
    "<pre>\n",
    "轉換工具<a href=\"https://www.digikey.tw/zh/resources/conversion-calculators/conversion-calculator-temperature\">\n",
    "https://www.digikey.tw/zh/resources/conversion-calculators/conversion-calculator-temperature</a>\n",
    "</pre>"
   ]
  },
  {
   "cell_type": "code",
   "execution_count": null,
   "metadata": {},
   "outputs": [],
   "source": [
    "c = float(input('c: '))\n",
    "f = c * (9/5) + 32\n",
    "print('f = %5.1f' % (f))"
   ]
  },
  {
   "cell_type": "markdown",
   "metadata": {
    "collapsed": true
   },
   "source": [
    "<hr>\n",
    "<h3 style=\"color:blue\">設計一個 Python 程式，輸入三角形的底與高，計算並顯示三角形面積。</h3>"
   ]
  },
  {
   "cell_type": "code",
   "execution_count": null,
   "metadata": {},
   "outputs": [],
   "source": [
    "b = float(input('b: '))\n",
    "h = float(input('h: '))\n",
    "a = b * h / 2\n",
    "print('area = %5.1f' % (a))"
   ]
  },
  {
   "cell_type": "markdown",
   "metadata": {
    "collapsed": true
   },
   "source": [
    "<hr>\n",
    "<h3 style=\"color:blue\">設計一個 Python 程式，輸入體重（kg）與身高（cm），計算並顯示 BMI 數值。</h3>\n",
    "<pre>\n",
    "提示：\n",
    "BMI = kg / (m^2), m = 100*cm\n",
    "BMI 計算器：<a href=\"http://depart.femh.org.tw/dietary/3opd/bmi.htm\">http://depart.femh.org.tw/dietary/3opd/bmi.htm</a>\n",
    "</pre>"
   ]
  },
  {
   "cell_type": "code",
   "execution_count": null,
   "metadata": {},
   "outputs": [],
   "source": [
    "cm = float(input('cm: '))\n",
    "kg = float(input('kg: '))\n",
    "\n",
    "m = cm / 100\n",
    "\n",
    "bmi = kg / m**2\n",
    "\n",
    "print('bmi = %5.1f' % (bmi))\n"
   ]
  },
  {
   "cell_type": "markdown",
   "metadata": {
    "collapsed": true
   },
   "source": [
    "<hr>\n",
    "<h3 style=\"color:blue\">設計一個 Python 程式，輸入三角形的三邊長 a, b, c，計算並顯示三角形面積。</h3>\n",
    "<pre>\n",
    "提示：\n",
    "暫時不考慮不能構成三角形的 a、b、c 數值\n",
    "Heron's formula（海倫公式、海龍公式）\n",
    "<a href=\"https://en.wikipedia.org/wiki/Heron%27s_formula\">https://en.wikipedia.org/wiki/Heron%27s_formula</a>\n",
    "需要載入 math 模組\n",
    "例如：\n",
    "import math\n",
    "x = math.sqrt(4.0)\n",
    "print(x)\n",
    "</pre>"
   ]
  },
  {
   "cell_type": "code",
   "execution_count": null,
   "metadata": {},
   "outputs": [],
   "source": [
    "import math\n",
    "\n",
    "a = float(input('a: '))\n",
    "b = float(input('b: '))\n",
    "c = float(input('c: '))\n",
    "\n",
    "s = (a + b + c) / 2\n",
    "\n",
    "area = math.sqrt(s * (s-a) * (s-b) * (s-c))\n",
    "\n",
    "print('area = %5.1f' % (area))\n"
   ]
  },
  {
   "cell_type": "markdown",
   "metadata": {},
   "source": [
    "<hr>\n",
    "<h3 style=\"color:blue\">101 大樓高度 509.2 米（尖頂），若從此高度垂直扔下一石塊，不計空氣阻力，多少時間後石塊會落地？</h3>\n",
    "<pre>\n",
    "提示：\n",
    "s = (1/2) * g * t^2\n",
    "g = 9.8\n",
    "</pre>"
   ]
  },
  {
   "cell_type": "code",
   "execution_count": null,
   "metadata": {},
   "outputs": [],
   "source": [
    "import math\n",
    "\n",
    "s = 509.2\n",
    "g = 9.8\n",
    "\n",
    "# s = (1/2) * g * t**2\n",
    "# 2*s = g * t**2\n",
    "# 2*s/g = t**2\n",
    "# (2*s/g)**0.5 = t\n",
    "\n",
    "# t = (2 * s / g)**0.5\n",
    "t = math.sqrt(2 * s / g)\n",
    "\n",
    "print('%6.2f 秒後落地' % t)\n"
   ]
  },
  {
   "cell_type": "markdown",
   "metadata": {},
   "source": [
    "<hr>\n",
    "<h3 style=\"color:blue\">停車場收費規則為前 30 分鐘內一律 50 元，之後每 30 分鐘收 40 元，不足 30 分鐘以 30 分鐘計，輸入停車分鐘數，計算並顯示停車費。</h3>\n",
    "<pre>\n",
    "暫不使用選擇流程命令。\n",
    "測試：280 分鐘（280=30+8*30+10），收費應該是 cost=50+8*40+40=410\n",
    "提示：\n",
    "天花板函數（無條件進入）math.ceil()\n",
    "地板函數（無條件捨去）math.floor()\n",
    "import math\n",
    "x = math.ceil(4.3)\n",
    "print(x)\n",
    ">> 5\n",
    "</pre>"
   ]
  },
  {
   "cell_type": "code",
   "execution_count": null,
   "metadata": {},
   "outputs": [],
   "source": [
    "import math\n",
    "\n",
    "# 輸入分鐘數\n",
    "m = int(input('min: '))\n",
    "\n",
    "# 前 30 分鐘的基本費\n",
    "c = 50\n",
    "\n",
    "# 超過 30 分鐘的時間\n",
    "m = m - 30\n",
    "\n",
    "# 超過 30 分鐘的時間的部分，累計收費次數\n",
    "t = math.ceil(m / 30)\n",
    "\n",
    "# 基本費與累計費用合計\n",
    "c = c + t * 40\n",
    "\n",
    "# 顯示結果\n",
    "print('停車費共計：%d 元' % (c))\n"
   ]
  },
  {
   "cell_type": "markdown",
   "metadata": {},
   "source": [
    "<hr>\n",
    "<h3 style=\"color:blue\">停車場自動收費機僅接受百元鈔票，輸入停車費用，再輸入百元鈔數目，假設剛好足夠，計算並輸出找零數目。</h3>\n",
    "<pre>\n",
    "暫不使用選擇流程命令。\n",
    "零錢為 50、10、5、1 元銅板。\n",
    "提示：\n",
    "一般除法運算（/）\n",
    "20 / 4 --> 5\n",
    "20 / 3 --> 6.6666666....\n",
    "整數除法運算（//）\n",
    "20 // 4 --> 5\n",
    "20 // 3 --> 6\n",
    "餘數運算（%）\n",
    "20 % 4 --> 0\n",
    "20 % 3 --> 2\n",
    "</pre>"
   ]
  },
  {
   "cell_type": "code",
   "execution_count": null,
   "metadata": {},
   "outputs": [],
   "source": [
    "c = int(input('c: '))\n",
    "n = int(input('n: '))\n",
    "\n",
    "s = 100 * n\n",
    "\n",
    "r = s - c\n",
    "\n",
    "n50 = r // 50\n",
    "\n",
    "r = r % 50\n",
    "\n",
    "n10 = r // 10\n",
    "\n",
    "r = r % 10\n",
    "\n",
    "n05 = r // 5\n",
    "\n",
    "r = r % 5\n",
    "\n",
    "n01 = r\n",
    "\n",
    "print('%d 個 50 元銅板，%d 個 10 元銅板，%d 個 5 元銅板，%d 個 1 元銅板' % (n50, n10, n05, n01))\n"
   ]
  },
  {
   "cell_type": "markdown",
   "metadata": {},
   "source": [
    "<hr>\n",
    "<h3 style=\"color:orange\">隨堂練習</h3>"
   ]
  },
  {
   "cell_type": "markdown",
   "metadata": {},
   "source": [
    "<hr>\n",
    "<h3 style=\"color:green\">\n",
    "停車場自動收費機僅接受百元鈔票，停車場收費規則為，前 30 分鐘內一律 50 元，之後每 30 分鐘收 40 元，不足 30 分鐘以 30 分鐘計，輸入停車分鐘數與剛好足夠的百元鈔數目，計算並輸出找零數目。</h3>\n",
    "<pre>\n",
    "暫不使用選擇流程命令。\n",
    "測試：280 分鐘（280=30+8*30+10），收費應該是 cost=50+8*40+40=410\n",
    "</pre>"
   ]
  },
  {
   "cell_type": "code",
   "execution_count": null,
   "metadata": {},
   "outputs": [],
   "source": []
  },
  {
   "cell_type": "markdown",
   "metadata": {},
   "source": [
    "<hr>\n",
    "<h3 style=\"color:green\">\n",
    "設計一個 Python 程式，輸入一天中的兩個時間（h1 時 m1 分 s1 秒，h2 時 m2 分 s2 秒，六個數字），計算這兩個時間一共間隔了幾秒，並顯示結果。\n",
    "</h3>\n",
    "<pre>\n",
    "提示：\n",
    "時間都換算成秒（換算成每天的第幾秒），計算秒數差，再將秒數差換算成『時分秒』的表示法\n",
    "一分鐘有 60 秒，一個小時有 3600 秒\n",
    "</pre>"
   ]
  },
  {
   "cell_type": "code",
   "execution_count": null,
   "metadata": {},
   "outputs": [],
   "source": []
  }
 ],
 "metadata": {
  "kernelspec": {
   "display_name": "Python 3",
   "language": "python",
   "name": "python3"
  },
  "language_info": {
   "codemirror_mode": {
    "name": "ipython",
    "version": 3
   },
   "file_extension": ".py",
   "mimetype": "text/x-python",
   "name": "python",
   "nbconvert_exporter": "python",
   "pygments_lexer": "ipython3",
   "version": "3.8.8"
  }
 },
 "nbformat": 4,
 "nbformat_minor": 2
}
