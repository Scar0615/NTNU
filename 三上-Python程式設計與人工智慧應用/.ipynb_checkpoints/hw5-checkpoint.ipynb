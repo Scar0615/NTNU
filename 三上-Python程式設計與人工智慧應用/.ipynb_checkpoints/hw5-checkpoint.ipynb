{
 "cells": [
  {
   "cell_type": "markdown",
   "id": "89b160cb",
   "metadata": {},
   "source": [
    "<h3 align=\"center\">作業一</h3>"
   ]
  },
  {
   "cell_type": "code",
   "execution_count": null,
   "id": "26c59e9c",
   "metadata": {},
   "outputs": [],
   "source": [
    "import chardet\n",
    "\n",
    "def read(bookname):\n",
    "    with open(bookname,'rb') as f:\n",
    "        enc = chardet.detect(f.read())\n",
    "    with open(bookname, 'r', encoding = enc['encoding'], errors = 'ignore') as fp:\n",
    "        txt = fp.read()\n",
    "    fp.close()\n",
    "    lt = len(txt)\n",
    "    for i in range(lt):\n",
    "        print(txt[i],end='')\n",
    "        if i%50 == 49:\n",
    "            print()\n",
    "    return 0\n",
    "\n",
    "bn = input('請輸入書名：')\n",
    "read(bn)"
   ]
  },
  {
   "cell_type": "markdown",
   "id": "1c922c9e",
   "metadata": {},
   "source": [
    "<h3 align=\"center\">作業二</h3>"
   ]
  },
  {
   "cell_type": "code",
   "execution_count": null,
   "id": "ea425075",
   "metadata": {},
   "outputs": [],
   "source": [
    "import json\n",
    "\n",
    "with open('youbike_immediate.json', 'r', encoding = 'utf-8') as fp:\n",
    "    data = json.load(fp)\n",
    "fp.close()\n",
    "\n",
    "for line in data:\n",
    "    print('經度:%f 緯度:%f %s'%(line['lng'], line['lat'], line['sna']))"
   ]
  }
 ],
 "metadata": {
  "kernelspec": {
   "display_name": "Python 3.8.8 64-bit ('base': conda)",
   "language": "python",
   "name": "python388jvsc74a57bd0d71f2325e0889f329460375ecdb827ffd27d095f62a0bbfd8aa9fe5b48b96e02"
  },
  "language_info": {
   "codemirror_mode": {
    "name": "ipython",
    "version": 3
   },
   "file_extension": ".py",
   "mimetype": "text/x-python",
   "name": "python",
   "nbconvert_exporter": "python",
   "pygments_lexer": "ipython3",
   "version": "3.8.8"
  }
 },
 "nbformat": 4,
 "nbformat_minor": 5
}
