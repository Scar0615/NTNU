{
 "cells": [
  {
   "cell_type": "markdown",
   "id": "d8f02a2b",
   "metadata": {},
   "source": [
    "<h3>ScikitLearn操作記錄單</h3>"
   ]
  },
  {
   "cell_type": "code",
   "execution_count": null,
   "id": "7e657a10",
   "metadata": {},
   "outputs": [],
   "source": [
    "# 準確度評估\n",
    "from sklearn.metrics import confusion_matrix\n",
    "from sklearn.metrics import classification_report\n",
    "from sklearn.metrics import f1_score\n",
    "from sklearn.metrics import precision_recall_curve"
   ]
  },
  {
   "cell_type": "code",
   "execution_count": 4,
   "id": "7328c6e1",
   "metadata": {},
   "outputs": [
    {
     "name": "stdout",
     "output_type": "stream",
     "text": [
      "[[11  0  0]\n",
      " [ 0 12  1]\n",
      " [ 0  0  6]]\n",
      "0.36454787656595133\n"
     ]
    }
   ],
   "source": [
    "from sklearn.neighbors import KNeighborsClassifier\n",
    "from sklearn.neighbors import KNeighborsRegressor\n",
    "from sklearn.model_selection import train_test_split\n",
    "from sklearn.metrics import confusion_matrix\n",
    "from sklearn.metrics import r2_score\n",
    "from sklearn import datasets\n",
    "\n",
    "# KNeighborsClassifier\n",
    "iris = datasets.load_iris()\n",
    "di = iris.data\n",
    "ti = iris.target\n",
    "\n",
    "# 訓練資料和測試的資料比例為8:2\n",
    "diTrain, diTest, tiTrain, tiTest = train_test_split(di, ti, test_size=0.2, random_state=0)\n",
    "\n",
    "cls1 = KNeighborsClassifier()\n",
    "cls1.fit(diTrain, tiTrain)\n",
    "\n",
    "predicted = cls1.predict(diTest)\n",
    "print(confusion_matrix(tiTest, predicted))\n",
    "\n",
    "# KNeighborsRegressor\n",
    "# bst = datasets.load_boston()\n",
    "# db = bst.data\n",
    "# tb = bst.target\n",
    "\n",
    "# # 訓練資料和測試的資料比例為8:2\n",
    "# dbTrain, dbTest, tbTrain, tbTest = train_test_split(db, tb, test_size=0.2, random_state=0)\n",
    "\n",
    "# cls2 = KNeighborsRegressor()\n",
    "# cls2.fit(dbTrain, tbTrain)\n",
    "\n",
    "# predicted = cls2.predict(dbTest)\n",
    "# print(r2_score(tbTest, predicted))"
   ]
  },
  {
   "cell_type": "code",
   "execution_count": null,
   "id": "23b50e24",
   "metadata": {},
   "outputs": [],
   "source": [
    "from sklearn.naive_bayes import GaussianNB\n",
    "from sklearn.naive_bayes import MultinomialNB\n",
    "from sklearn import datasets\n",
    "\n",
    "# GaussianNB\n",
    "iris = datasets.load_iris()\n",
    "di = iris.data\n",
    "ti = iris.target\n",
    "\n",
    "# 訓練資料和測試的資料比例為8:2\n",
    "diTrain, diTest, tiTrain, tiTest = train_test_split(di, ti, test_size=0.2, random_state=0)\n",
    "\n",
    "cls1 = KNeighborsClassifier()\n",
    "cls1.fit(diTrain, tiTrain)\n",
    "\n",
    "predicted = cls1.predict(diTest)\n",
    "print(confusion_matrix(tiTest, predicted))"
   ]
  },
  {
   "cell_type": "code",
   "execution_count": null,
   "id": "92a41a16",
   "metadata": {},
   "outputs": [],
   "source": [
    "from sklearn.tree import DecisionTreeClassifier\n",
    "from sklearn.tree import DecisionTreeRegressor"
   ]
  },
  {
   "cell_type": "code",
   "execution_count": null,
   "id": "aaf6bbfe",
   "metadata": {},
   "outputs": [],
   "source": [
    "from sklearn.svm import LinearSVC\n",
    "from sklearn.svm import SVC"
   ]
  },
  {
   "cell_type": "code",
   "execution_count": null,
   "id": "37b6cf00",
   "metadata": {},
   "outputs": [],
   "source": [
    "from sklearn.neural_network import MLPClassifier\n",
    "from sklearn.neural_network import MLPRegressor"
   ]
  },
  {
   "cell_type": "code",
   "execution_count": null,
   "id": "194771ec",
   "metadata": {},
   "outputs": [],
   "source": [
    "from sklearn.model_selection import KFold\n",
    "from sklearn.model_selection import ShuffleSplit"
   ]
  }
 ],
 "metadata": {
  "kernelspec": {
   "display_name": "Python 3",
   "language": "python",
   "name": "python3"
  },
  "language_info": {
   "codemirror_mode": {
    "name": "ipython",
    "version": 3
   },
   "file_extension": ".py",
   "mimetype": "text/x-python",
   "name": "python",
   "nbconvert_exporter": "python",
   "pygments_lexer": "ipython3",
   "version": "3.8.8"
  }
 },
 "nbformat": 4,
 "nbformat_minor": 5
}
