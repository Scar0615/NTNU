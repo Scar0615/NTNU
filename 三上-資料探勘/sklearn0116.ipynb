{
 "cells": [
  {
   "cell_type": "code",
   "execution_count": 1,
   "id": "ba2814d5",
   "metadata": {},
   "outputs": [],
   "source": [
    "import matplotlib.pyplot as plt\n",
    "from sklearn.datasets import load_iris\n",
    "from sklearn.model_selection import train_test_split\n",
    "from sklearn.cluster import KMeans\n",
    "from sklearn.metrics import silhouette_score as ss\n",
    "\n",
    "import warnings"
   ]
  },
  {
   "cell_type": "markdown",
   "id": "f44a1663",
   "metadata": {},
   "source": [
    "<p>讀入鳶尾花資料</p>"
   ]
  },
  {
   "cell_type": "code",
   "execution_count": 2,
   "id": "37fd376f",
   "metadata": {},
   "outputs": [],
   "source": [
    "iris = load_iris()\n",
    "irisd = iris.data\n",
    "irist = iris.target"
   ]
  },
  {
   "cell_type": "markdown",
   "id": "72afba98",
   "metadata": {},
   "source": [
    "<p>分成訓練、測試資料</p>"
   ]
  },
  {
   "cell_type": "code",
   "execution_count": 3,
   "id": "86acf0d7",
   "metadata": {},
   "outputs": [],
   "source": [
    "# dTrain, dTest, tTrain, tTest = train_test_split(irisd, irist, test_size=0.2, random_state=0)"
   ]
  },
  {
   "cell_type": "markdown",
   "id": "662edc8d",
   "metadata": {},
   "source": [
    "<p>用silhouette_score檢測不同分類器的績效</p>"
   ]
  },
  {
   "cell_type": "code",
   "execution_count": 4,
   "id": "a6bac6fe",
   "metadata": {},
   "outputs": [
    {
     "name": "stdout",
     "output_type": "stream",
     "text": [
      "0.6810461692117462\n",
      "0.5528190123564094\n",
      "0.4980505049972871\n",
      "0.4887488870931052\n",
      "0.36483400396700233\n"
     ]
    }
   ],
   "source": [
    "for i in range(2,7):\n",
    "    km = KMeans(n_clusters=i).fit(irisd)\n",
    "    print(ss(irisd,km.labels_))"
   ]
  },
  {
   "cell_type": "code",
   "execution_count": null,
   "id": "5e9e2898",
   "metadata": {},
   "outputs": [],
   "source": []
  },
  {
   "cell_type": "code",
   "execution_count": null,
   "id": "2b52d3c3",
   "metadata": {},
   "outputs": [],
   "source": []
  }
 ],
 "metadata": {
  "kernelspec": {
   "display_name": "Python 3",
   "language": "python",
   "name": "python3"
  },
  "language_info": {
   "codemirror_mode": {
    "name": "ipython",
    "version": 3
   },
   "file_extension": ".py",
   "mimetype": "text/x-python",
   "name": "python",
   "nbconvert_exporter": "python",
   "pygments_lexer": "ipython3",
   "version": "3.8.8"
  }
 },
 "nbformat": 4,
 "nbformat_minor": 5
}
