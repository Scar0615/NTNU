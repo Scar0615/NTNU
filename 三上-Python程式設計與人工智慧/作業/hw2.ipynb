{
 "cells": [
  {
   "cell_type": "markdown",
   "id": "bed418b7",
   "metadata": {},
   "source": [
    "<h3 align=\"center\">作業一</h3>"
   ]
  },
  {
   "cell_type": "code",
   "execution_count": null,
   "id": "f9610825",
   "metadata": {},
   "outputs": [],
   "source": [
    "import math\n",
    "\n",
    "a,b,c=map(int,input('輸入三個係數a,b,c(以空格隔開): ').split())\n",
    "d=b*b-4*a*c\n",
    "if d>0:\n",
    "    e=math.sqrt(d)\n",
    "    x1=(e-b)/(2*a)\n",
    "    x2=(-e-b)/(2*a)\n",
    "    print('兩根：x1 =',x1,',x2 =',x2)\n",
    "elif d==0:\n",
    "    x=-2*b/a\n",
    "    print('兩重根：x =',x)\n",
    "else:\n",
    "    print('無解')"
   ]
  },
  {
   "cell_type": "markdown",
   "id": "53bc3f1c",
   "metadata": {},
   "source": [
    "<h3 align=\"center\">作業二</h3>"
   ]
  },
  {
   "cell_type": "code",
   "execution_count": null,
   "id": "ebbda3bf",
   "metadata": {},
   "outputs": [],
   "source": [
    "y=int(input('輸入年份：'))\n",
    "if y%400==0:print('閏年')\n",
    "elif y%100==0:print('平年')\n",
    "elif y%4==0:print('閏年')\n",
    "else:print('平年')"
   ]
  },
  {
   "cell_type": "markdown",
   "id": "c2bf435b",
   "metadata": {},
   "source": [
    "<h3 align=\"center\">Bonus作業一</h3>"
   ]
  },
  {
   "cell_type": "code",
   "execution_count": null,
   "id": "f89f2612",
   "metadata": {},
   "outputs": [],
   "source": [
    "a,b,c=map(int,input('輸入三個數a,b,c(以空格隔開): ').split())\n",
    "if a>=b and a>=c:\n",
    "    if b>=c:\n",
    "        print(a,b,c)\n",
    "    else:\n",
    "        print(a,c,b)\n",
    "elif b>=a and b>=c:\n",
    "    if a>=c:\n",
    "        print(b,a,c)\n",
    "    else:\n",
    "        print(b,c,a)\n",
    "elif c>=a and c>=b:\n",
    "    if a>=b:\n",
    "        print(c,a,b)\n",
    "    else:\n",
    "        print(c,b,a)"
   ]
  },
  {
   "cell_type": "markdown",
   "id": "8af95adc",
   "metadata": {},
   "source": [
    "<h3 align=\"center\">Bonus作業二</h3>"
   ]
  },
  {
   "cell_type": "code",
   "execution_count": null,
   "id": "2ddfb30e",
   "metadata": {},
   "outputs": [],
   "source": [
    "a,b=map(int,input('請輸入第1個點的座標a,b：').split())\n",
    "c,d=map(int,input('請輸入第2個點的座標c,d：').split())\n",
    "e,f=map(int,input('請輸入第3個點的座標e,f：').split())\n",
    "g,h=map(int,input('請輸入測試點T的座標g,h：').split())\n",
    "\n",
    "# 三角形面積\n",
    "abc=abs( ( (a-e)*d + (c-a)*f + (e-c)*b )/2 )\n",
    "abt=abs( ( (a-g)*d + (c-a)*h + (g-c)*b )/2 )\n",
    "bct=abs( ( (g-e)*d + (c-g)*f + (e-c)*h )/2 )\n",
    "act=abs( ( (a-e)*h + (g-a)*f + (e-g)*b )/2 )\n",
    "\n",
    "if abt+bct+act == abc:\n",
    "    print('T點在三角形內')\n",
    "else:\n",
    "    print('T點在三角形外')"
   ]
  }
 ],
 "metadata": {
  "kernelspec": {
   "display_name": "Python 3.8.8 64-bit ('base': conda)",
   "language": "python",
   "name": "python388jvsc74a57bd0d71f2325e0889f329460375ecdb827ffd27d095f62a0bbfd8aa9fe5b48b96e02"
  },
  "language_info": {
   "codemirror_mode": {
    "name": "ipython",
    "version": 3
   },
   "file_extension": ".py",
   "mimetype": "text/x-python",
   "name": "python",
   "nbconvert_exporter": "python",
   "pygments_lexer": "ipython3",
   "version": "3.8.8"
  }
 },
 "nbformat": 4,
 "nbformat_minor": 5
}
