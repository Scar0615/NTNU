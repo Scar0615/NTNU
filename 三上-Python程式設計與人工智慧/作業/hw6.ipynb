{
 "cells": [
  {
   "cell_type": "markdown",
   "id": "8cbc171b",
   "metadata": {},
   "source": [
    "<h3 align=\"center\">作業一</h3>"
   ]
  },
  {
   "cell_type": "code",
   "execution_count": null,
   "id": "44737ba1",
   "metadata": {},
   "outputs": [],
   "source": [
    "import requests\n",
    "from bs4 import BeautifulSoup as bs\n",
    "\n",
    "url = \"https://movies.yahoo.com.tw/movie_thisweek.html\"\n",
    "r = requests.get(url)\n",
    "t = r.text\n",
    "\n",
    "soup = bs(t, 'html.parser')\n",
    "movie = soup.find_all('div',{'class':'release_movie_name'})\n",
    "\n",
    "for i in movie:\n",
    "    it = i.text\n",
    "    itr = it.replace(' ','')   #移除空白字元\n",
    "    it = itr.replace('\\n',' ') #移除換行字元\n",
    "    itl = list(it.split())     #分割每個項目\n",
    "    print('片名：'+itl[0])\n",
    "    print('英文名：'+itl[1])\n",
    "    print(itl[2]+'：'+itl[3])"
   ]
  },
  {
   "cell_type": "markdown",
   "id": "43a1ef60",
   "metadata": {},
   "source": [
    "<h3 align=\"center\">作業二</h3>"
   ]
  },
  {
   "cell_type": "code",
   "execution_count": null,
   "id": "28fa941d",
   "metadata": {},
   "outputs": [],
   "source": [
    "import requests\n",
    "from bs4 import BeautifulSoup as bs\n",
    "\n",
    "url = \"https://dailyview.tw/top100/topic/46\"\n",
    "r = requests.get(url)\n",
    "t = r.text\n",
    "\n",
    "soup = bs(t, 'html.parser')\n",
    "mayor = soup.find_all('div',{'class':'volume-rank-block'})\n",
    "\n",
    "for i in mayor:\n",
    "    it = i.text\n",
    "    itr = it.replace(' ','')   #移除空白字元\n",
    "    it = itr.replace('\\n',' ') #移除換行字元\n",
    "    itl = list(it.split())     #分割每個項目\n",
    "    print('姓名：'+itl[0])\n",
    "    for j in range(5,11,2):\n",
    "        print(itl[j]+'：'+itl[j+1])"
   ]
  }
 ],
 "metadata": {
  "kernelspec": {
   "display_name": "Python 3",
   "language": "python",
   "name": "python3"
  },
  "language_info": {
   "codemirror_mode": {
    "name": "ipython",
    "version": 3
   },
   "file_extension": ".py",
   "mimetype": "text/x-python",
   "name": "python",
   "nbconvert_exporter": "python",
   "pygments_lexer": "ipython3",
   "version": "3.8.8"
  }
 },
 "nbformat": 4,
 "nbformat_minor": 5
}
