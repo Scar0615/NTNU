{
 "cells": [
  {
   "cell_type": "markdown",
   "metadata": {},
   "source": [
    "<h3 align=\"center\">作業一</h3>"
   ]
  },
  {
   "cell_type": "code",
   "execution_count": null,
   "metadata": {},
   "outputs": [],
   "source": [
    "h=int(input())\n",
    "m=h/30.48\n",
    "m=int(m)\n",
    "h-=30.48*m\n",
    "n=h/2.54\n",
    "n=int(n)\n",
    "print('%d呎%d吋'%(m,n))"
   ]
  },
  {
   "cell_type": "markdown",
   "metadata": {},
   "source": [
    "<h3 align=\"center\">作業二</h3>"
   ]
  },
  {
   "cell_type": "code",
   "execution_count": null,
   "metadata": {},
   "outputs": [],
   "source": [
    "h1,m1,s1=map(int,input().split())\n",
    "h2,m2,s2=map(int,input().split())\n",
    "t1=h1*3600+m1*60+s1\n",
    "t2=h2*3600+m2*60+s2\n",
    "t3=(t2-t1+86400)%86400\n",
    "h3=t3//3600\n",
    "t3-=3600*h3\n",
    "m3=t3//60\n",
    "t3-=60*m3\n",
    "print(h3,'時',m3,'分',t3,'秒')"
   ]
  },
  {
   "cell_type": "markdown",
   "metadata": {},
   "source": [
    "<h3 align=\"center\">Bonus作業</h3>"
   ]
  },
  {
   "cell_type": "code",
   "execution_count": null,
   "metadata": {},
   "outputs": [],
   "source": [
    "m=int(input())\n",
    "t=m//30+(m%30!=0)\n",
    "print(t*40+10)"
   ]
  }
 ],
 "metadata": {
  "kernelspec": {
   "display_name": "Python 3",
   "language": "python",
   "name": "python3"
  },
  "language_info": {
   "codemirror_mode": {
    "name": "ipython",
    "version": 3
   },
   "file_extension": ".py",
   "mimetype": "text/x-python",
   "name": "python",
   "nbconvert_exporter": "python",
   "pygments_lexer": "ipython3",
   "version": "3.7.4"
  }
 },
 "nbformat": 4,
 "nbformat_minor": 5
}
